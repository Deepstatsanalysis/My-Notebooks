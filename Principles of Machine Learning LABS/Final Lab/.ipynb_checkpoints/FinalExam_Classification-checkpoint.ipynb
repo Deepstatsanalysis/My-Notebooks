{
 "cells": [
  {
   "cell_type": "code",
   "execution_count": 135,
   "metadata": {},
   "outputs": [],
   "source": [
    "import pandas as pd\n",
    "import matplotlib.pyplot as plt\n",
    "import seaborn as sns\n",
    "import numpy as np\n",
    "import numpy.random as nr\n",
    "import math\n",
    "from sklearn import preprocessing\n",
    "import sklearn.model_selection as ms\n",
    "from sklearn import linear_model\n",
    "import sklearn.metrics as sklm\n",
    "\n",
    "%matplotlib inline"
   ]
  },
  {
   "cell_type": "code",
   "execution_count": 136,
   "metadata": {},
   "outputs": [
    {
     "name": "stdout",
     "output_type": "stream",
     "text": [
      "(16404, 22)\n"
     ]
    },
    {
     "data": {
      "text/html": [
       "<div>\n",
       "<style scoped>\n",
       "    .dataframe tbody tr th:only-of-type {\n",
       "        vertical-align: middle;\n",
       "    }\n",
       "\n",
       "    .dataframe tbody tr th {\n",
       "        vertical-align: top;\n",
       "    }\n",
       "\n",
       "    .dataframe thead th {\n",
       "        text-align: right;\n",
       "    }\n",
       "</style>\n",
       "<table border=\"1\" class=\"dataframe\">\n",
       "  <thead>\n",
       "    <tr style=\"text-align: right;\">\n",
       "      <th></th>\n",
       "      <th>0</th>\n",
       "      <th>1</th>\n",
       "      <th>2</th>\n",
       "      <th>3</th>\n",
       "      <th>4</th>\n",
       "    </tr>\n",
       "  </thead>\n",
       "  <tbody>\n",
       "    <tr>\n",
       "      <th>CustomerID</th>\n",
       "      <td>11000</td>\n",
       "      <td>11001</td>\n",
       "      <td>11002</td>\n",
       "      <td>11003</td>\n",
       "      <td>11004</td>\n",
       "    </tr>\n",
       "    <tr>\n",
       "      <th>FirstName</th>\n",
       "      <td>Jon</td>\n",
       "      <td>Eugene</td>\n",
       "      <td>Ruben</td>\n",
       "      <td>Christy</td>\n",
       "      <td>Elizabeth</td>\n",
       "    </tr>\n",
       "    <tr>\n",
       "      <th>LastName</th>\n",
       "      <td>Yang</td>\n",
       "      <td>Huang</td>\n",
       "      <td>Torres</td>\n",
       "      <td>Zhu</td>\n",
       "      <td>Johnson</td>\n",
       "    </tr>\n",
       "    <tr>\n",
       "      <th>AddressLine1</th>\n",
       "      <td>3761 N. 14th St</td>\n",
       "      <td>2243 W St.</td>\n",
       "      <td>5844 Linden Land</td>\n",
       "      <td>1825 Village Pl.</td>\n",
       "      <td>7553 Harness Circle</td>\n",
       "    </tr>\n",
       "    <tr>\n",
       "      <th>City</th>\n",
       "      <td>Rockhampton</td>\n",
       "      <td>Seaford</td>\n",
       "      <td>Hobart</td>\n",
       "      <td>North Ryde</td>\n",
       "      <td>Wollongong</td>\n",
       "    </tr>\n",
       "    <tr>\n",
       "      <th>StateProvinceName</th>\n",
       "      <td>Queensland</td>\n",
       "      <td>Victoria</td>\n",
       "      <td>Tasmania</td>\n",
       "      <td>New South Wales</td>\n",
       "      <td>New South Wales</td>\n",
       "    </tr>\n",
       "    <tr>\n",
       "      <th>CountryRegionName</th>\n",
       "      <td>Australia</td>\n",
       "      <td>Australia</td>\n",
       "      <td>Australia</td>\n",
       "      <td>Australia</td>\n",
       "      <td>Australia</td>\n",
       "    </tr>\n",
       "    <tr>\n",
       "      <th>PostalCode</th>\n",
       "      <td>4700</td>\n",
       "      <td>3198</td>\n",
       "      <td>7001</td>\n",
       "      <td>2113</td>\n",
       "      <td>2500</td>\n",
       "    </tr>\n",
       "    <tr>\n",
       "      <th>PhoneNumber</th>\n",
       "      <td>1 (11) 500 555-0162</td>\n",
       "      <td>1 (11) 500 555-0110</td>\n",
       "      <td>1 (11) 500 555-0184</td>\n",
       "      <td>1 (11) 500 555-0162</td>\n",
       "      <td>1 (11) 500 555-0131</td>\n",
       "    </tr>\n",
       "    <tr>\n",
       "      <th>BirthDate</th>\n",
       "      <td>1966-04-08</td>\n",
       "      <td>1965-05-14</td>\n",
       "      <td>1965-08-12</td>\n",
       "      <td>1968-02-15</td>\n",
       "      <td>1968-08-08</td>\n",
       "    </tr>\n",
       "    <tr>\n",
       "      <th>Education</th>\n",
       "      <td>Bachelors</td>\n",
       "      <td>Bachelors</td>\n",
       "      <td>Bachelors</td>\n",
       "      <td>Bachelors</td>\n",
       "      <td>Bachelors</td>\n",
       "    </tr>\n",
       "    <tr>\n",
       "      <th>Occupation</th>\n",
       "      <td>Professional</td>\n",
       "      <td>Professional</td>\n",
       "      <td>Professional</td>\n",
       "      <td>Professional</td>\n",
       "      <td>Professional</td>\n",
       "    </tr>\n",
       "    <tr>\n",
       "      <th>Gender</th>\n",
       "      <td>M</td>\n",
       "      <td>M</td>\n",
       "      <td>M</td>\n",
       "      <td>F</td>\n",
       "      <td>F</td>\n",
       "    </tr>\n",
       "    <tr>\n",
       "      <th>MaritalStatus</th>\n",
       "      <td>M</td>\n",
       "      <td>S</td>\n",
       "      <td>M</td>\n",
       "      <td>S</td>\n",
       "      <td>S</td>\n",
       "    </tr>\n",
       "    <tr>\n",
       "      <th>HomeOwnerFlag</th>\n",
       "      <td>1</td>\n",
       "      <td>0</td>\n",
       "      <td>1</td>\n",
       "      <td>0</td>\n",
       "      <td>1</td>\n",
       "    </tr>\n",
       "    <tr>\n",
       "      <th>NumberCarsOwned</th>\n",
       "      <td>0</td>\n",
       "      <td>1</td>\n",
       "      <td>1</td>\n",
       "      <td>1</td>\n",
       "      <td>4</td>\n",
       "    </tr>\n",
       "    <tr>\n",
       "      <th>NumberChildrenAtHome</th>\n",
       "      <td>0</td>\n",
       "      <td>3</td>\n",
       "      <td>3</td>\n",
       "      <td>0</td>\n",
       "      <td>5</td>\n",
       "    </tr>\n",
       "    <tr>\n",
       "      <th>TotalChildren</th>\n",
       "      <td>2</td>\n",
       "      <td>3</td>\n",
       "      <td>3</td>\n",
       "      <td>0</td>\n",
       "      <td>5</td>\n",
       "    </tr>\n",
       "    <tr>\n",
       "      <th>YearlyIncome</th>\n",
       "      <td>137947</td>\n",
       "      <td>101141</td>\n",
       "      <td>91945</td>\n",
       "      <td>86688</td>\n",
       "      <td>92771</td>\n",
       "    </tr>\n",
       "    <tr>\n",
       "      <th>AveMonthSpend</th>\n",
       "      <td>89</td>\n",
       "      <td>117</td>\n",
       "      <td>123</td>\n",
       "      <td>50</td>\n",
       "      <td>95</td>\n",
       "    </tr>\n",
       "    <tr>\n",
       "      <th>Age</th>\n",
       "      <td>32</td>\n",
       "      <td>33</td>\n",
       "      <td>33</td>\n",
       "      <td>30</td>\n",
       "      <td>30</td>\n",
       "    </tr>\n",
       "    <tr>\n",
       "      <th>BikeBuyer</th>\n",
       "      <td>0</td>\n",
       "      <td>1</td>\n",
       "      <td>0</td>\n",
       "      <td>0</td>\n",
       "      <td>1</td>\n",
       "    </tr>\n",
       "  </tbody>\n",
       "</table>\n",
       "</div>"
      ],
      "text/plain": [
       "                                        0                    1  \\\n",
       "CustomerID                          11000                11001   \n",
       "FirstName                             Jon               Eugene   \n",
       "LastName                             Yang                Huang   \n",
       "AddressLine1              3761 N. 14th St           2243 W St.   \n",
       "City                          Rockhampton              Seaford   \n",
       "StateProvinceName              Queensland             Victoria   \n",
       "CountryRegionName               Australia            Australia   \n",
       "PostalCode                           4700                 3198   \n",
       "PhoneNumber           1 (11) 500 555-0162  1 (11) 500 555-0110   \n",
       "BirthDate                      1966-04-08           1965-05-14   \n",
       "Education                      Bachelors            Bachelors    \n",
       "Occupation                   Professional         Professional   \n",
       "Gender                                  M                    M   \n",
       "MaritalStatus                           M                    S   \n",
       "HomeOwnerFlag                           1                    0   \n",
       "NumberCarsOwned                         0                    1   \n",
       "NumberChildrenAtHome                    0                    3   \n",
       "TotalChildren                           2                    3   \n",
       "YearlyIncome                       137947               101141   \n",
       "AveMonthSpend                          89                  117   \n",
       "Age                                    32                   33   \n",
       "BikeBuyer                               0                    1   \n",
       "\n",
       "                                        2                    3  \\\n",
       "CustomerID                          11002                11003   \n",
       "FirstName                           Ruben              Christy   \n",
       "LastName                           Torres                  Zhu   \n",
       "AddressLine1             5844 Linden Land     1825 Village Pl.   \n",
       "City                               Hobart           North Ryde   \n",
       "StateProvinceName                Tasmania      New South Wales   \n",
       "CountryRegionName               Australia            Australia   \n",
       "PostalCode                           7001                 2113   \n",
       "PhoneNumber           1 (11) 500 555-0184  1 (11) 500 555-0162   \n",
       "BirthDate                      1965-08-12           1968-02-15   \n",
       "Education                      Bachelors            Bachelors    \n",
       "Occupation                   Professional         Professional   \n",
       "Gender                                  M                    F   \n",
       "MaritalStatus                           M                    S   \n",
       "HomeOwnerFlag                           1                    0   \n",
       "NumberCarsOwned                         1                    1   \n",
       "NumberChildrenAtHome                    3                    0   \n",
       "TotalChildren                           3                    0   \n",
       "YearlyIncome                        91945                86688   \n",
       "AveMonthSpend                         123                   50   \n",
       "Age                                    33                   30   \n",
       "BikeBuyer                               0                    0   \n",
       "\n",
       "                                        4  \n",
       "CustomerID                          11004  \n",
       "FirstName                       Elizabeth  \n",
       "LastName                          Johnson  \n",
       "AddressLine1          7553 Harness Circle  \n",
       "City                           Wollongong  \n",
       "StateProvinceName         New South Wales  \n",
       "CountryRegionName               Australia  \n",
       "PostalCode                           2500  \n",
       "PhoneNumber           1 (11) 500 555-0131  \n",
       "BirthDate                      1968-08-08  \n",
       "Education                      Bachelors   \n",
       "Occupation                   Professional  \n",
       "Gender                                  F  \n",
       "MaritalStatus                           S  \n",
       "HomeOwnerFlag                           1  \n",
       "NumberCarsOwned                         4  \n",
       "NumberChildrenAtHome                    5  \n",
       "TotalChildren                           5  \n",
       "YearlyIncome                        92771  \n",
       "AveMonthSpend                          95  \n",
       "Age                                    30  \n",
       "BikeBuyer                               1  "
      ]
     },
     "execution_count": 136,
     "metadata": {},
     "output_type": "execute_result"
    }
   ],
   "source": [
    "AWS_df = pd.read_csv('AWS_Dataset_Preped.csv')\n",
    "print(AWS_df.shape)\n",
    "AWS_df.head().T"
   ]
  },
  {
   "cell_type": "code",
   "execution_count": 137,
   "metadata": {},
   "outputs": [
    {
     "name": "stdout",
     "output_type": "stream",
     "text": [
      "(500, 20)\n"
     ]
    },
    {
     "data": {
      "text/html": [
       "<div>\n",
       "<style scoped>\n",
       "    .dataframe tbody tr th:only-of-type {\n",
       "        vertical-align: middle;\n",
       "    }\n",
       "\n",
       "    .dataframe tbody tr th {\n",
       "        vertical-align: top;\n",
       "    }\n",
       "\n",
       "    .dataframe thead th {\n",
       "        text-align: right;\n",
       "    }\n",
       "</style>\n",
       "<table border=\"1\" class=\"dataframe\">\n",
       "  <thead>\n",
       "    <tr style=\"text-align: right;\">\n",
       "      <th></th>\n",
       "      <th>CustomerID</th>\n",
       "      <th>FirstName</th>\n",
       "      <th>LastName</th>\n",
       "      <th>AddressLine1</th>\n",
       "      <th>City</th>\n",
       "      <th>StateProvinceName</th>\n",
       "      <th>CountryRegionName</th>\n",
       "      <th>PostalCode</th>\n",
       "      <th>PhoneNumber</th>\n",
       "      <th>BirthDate</th>\n",
       "      <th>Education</th>\n",
       "      <th>Occupation</th>\n",
       "      <th>Gender</th>\n",
       "      <th>MaritalStatus</th>\n",
       "      <th>HomeOwnerFlag</th>\n",
       "      <th>NumberCarsOwned</th>\n",
       "      <th>NumberChildrenAtHome</th>\n",
       "      <th>TotalChildren</th>\n",
       "      <th>YearlyIncome</th>\n",
       "      <th>Age</th>\n",
       "    </tr>\n",
       "  </thead>\n",
       "  <tbody>\n",
       "    <tr>\n",
       "      <th>0</th>\n",
       "      <td>18988</td>\n",
       "      <td>Courtney</td>\n",
       "      <td>Baker</td>\n",
       "      <td>8727 Buena Vista Ave.</td>\n",
       "      <td>Fremont</td>\n",
       "      <td>California</td>\n",
       "      <td>United States</td>\n",
       "      <td>94536</td>\n",
       "      <td>133-555-0128</td>\n",
       "      <td>1945-01-05</td>\n",
       "      <td>Bachelors</td>\n",
       "      <td>Management</td>\n",
       "      <td>F</td>\n",
       "      <td>S</td>\n",
       "      <td>0</td>\n",
       "      <td>2</td>\n",
       "      <td>0</td>\n",
       "      <td>5</td>\n",
       "      <td>86931</td>\n",
       "      <td>53</td>\n",
       "    </tr>\n",
       "    <tr>\n",
       "      <th>1</th>\n",
       "      <td>29135</td>\n",
       "      <td>Adam</td>\n",
       "      <td>Allen</td>\n",
       "      <td>3491 Cook Street</td>\n",
       "      <td>Haney</td>\n",
       "      <td>British Columbia</td>\n",
       "      <td>Canada</td>\n",
       "      <td>V2W 1W2</td>\n",
       "      <td>252-555-0173</td>\n",
       "      <td>1964-10-04</td>\n",
       "      <td>Bachelors</td>\n",
       "      <td>Skilled Manual</td>\n",
       "      <td>M</td>\n",
       "      <td>M</td>\n",
       "      <td>1</td>\n",
       "      <td>2</td>\n",
       "      <td>2</td>\n",
       "      <td>4</td>\n",
       "      <td>100125</td>\n",
       "      <td>34</td>\n",
       "    </tr>\n",
       "    <tr>\n",
       "      <th>2</th>\n",
       "      <td>12156</td>\n",
       "      <td>Bonnie</td>\n",
       "      <td>Raji</td>\n",
       "      <td>359 Pleasant Hill Rd</td>\n",
       "      <td>Burbank</td>\n",
       "      <td>California</td>\n",
       "      <td>United States</td>\n",
       "      <td>91502</td>\n",
       "      <td>409-555-0193</td>\n",
       "      <td>1934-01-12</td>\n",
       "      <td>Graduate Degree</td>\n",
       "      <td>Management</td>\n",
       "      <td>F</td>\n",
       "      <td>M</td>\n",
       "      <td>1</td>\n",
       "      <td>2</td>\n",
       "      <td>0</td>\n",
       "      <td>4</td>\n",
       "      <td>103985</td>\n",
       "      <td>64</td>\n",
       "    </tr>\n",
       "    <tr>\n",
       "      <th>3</th>\n",
       "      <td>13749</td>\n",
       "      <td>Julio</td>\n",
       "      <td>Alonso</td>\n",
       "      <td>8945 Euclid Ave.</td>\n",
       "      <td>Burlingame</td>\n",
       "      <td>California</td>\n",
       "      <td>United States</td>\n",
       "      <td>94010</td>\n",
       "      <td>175-555-0196</td>\n",
       "      <td>1958-09-22</td>\n",
       "      <td>Graduate Degree</td>\n",
       "      <td>Skilled Manual</td>\n",
       "      <td>M</td>\n",
       "      <td>M</td>\n",
       "      <td>1</td>\n",
       "      <td>0</td>\n",
       "      <td>0</td>\n",
       "      <td>4</td>\n",
       "      <td>127161</td>\n",
       "      <td>40</td>\n",
       "    </tr>\n",
       "    <tr>\n",
       "      <th>4</th>\n",
       "      <td>27780</td>\n",
       "      <td>Christy</td>\n",
       "      <td>Andersen</td>\n",
       "      <td>42, boulevard Tremblay</td>\n",
       "      <td>Dunkerque</td>\n",
       "      <td>Nord</td>\n",
       "      <td>France</td>\n",
       "      <td>59140</td>\n",
       "      <td>1 (11) 500 555-0122</td>\n",
       "      <td>1965-03-19</td>\n",
       "      <td>High School</td>\n",
       "      <td>Manual</td>\n",
       "      <td>F</td>\n",
       "      <td>M</td>\n",
       "      <td>1</td>\n",
       "      <td>1</td>\n",
       "      <td>2</td>\n",
       "      <td>2</td>\n",
       "      <td>21876</td>\n",
       "      <td>33</td>\n",
       "    </tr>\n",
       "  </tbody>\n",
       "</table>\n",
       "</div>"
      ],
      "text/plain": [
       "   CustomerID FirstName  LastName            AddressLine1        City  \\\n",
       "0       18988  Courtney     Baker   8727 Buena Vista Ave.     Fremont   \n",
       "1       29135      Adam     Allen        3491 Cook Street       Haney   \n",
       "2       12156    Bonnie      Raji    359 Pleasant Hill Rd     Burbank   \n",
       "3       13749     Julio    Alonso        8945 Euclid Ave.  Burlingame   \n",
       "4       27780   Christy  Andersen  42, boulevard Tremblay   Dunkerque   \n",
       "\n",
       "  StateProvinceName CountryRegionName PostalCode          PhoneNumber  \\\n",
       "0        California     United States      94536         133-555-0128   \n",
       "1  British Columbia            Canada    V2W 1W2         252-555-0173   \n",
       "2        California     United States      91502         409-555-0193   \n",
       "3        California     United States      94010         175-555-0196   \n",
       "4              Nord            France      59140  1 (11) 500 555-0122   \n",
       "\n",
       "    BirthDate        Education      Occupation Gender MaritalStatus  \\\n",
       "0  1945-01-05       Bachelors       Management      F             S   \n",
       "1  1964-10-04       Bachelors   Skilled Manual      M             M   \n",
       "2  1934-01-12  Graduate Degree      Management      F             M   \n",
       "3  1958-09-22  Graduate Degree  Skilled Manual      M             M   \n",
       "4  1965-03-19      High School          Manual      F             M   \n",
       "\n",
       "   HomeOwnerFlag  NumberCarsOwned  NumberChildrenAtHome  TotalChildren  \\\n",
       "0              0                2                     0              5   \n",
       "1              1                2                     2              4   \n",
       "2              1                2                     0              4   \n",
       "3              1                0                     0              4   \n",
       "4              1                1                     2              2   \n",
       "\n",
       "   YearlyIncome  Age  \n",
       "0         86931   53  \n",
       "1        100125   34  \n",
       "2        103985   64  \n",
       "3        127161   40  \n",
       "4         21876   33  "
      ]
     },
     "execution_count": 137,
     "metadata": {},
     "output_type": "execute_result"
    }
   ],
   "source": [
    "Test_df = pd.read_csv('AWS_Test_Preped.csv')\n",
    "print(Test_df.shape)\n",
    "Test_df.head()"
   ]
  },
  {
   "cell_type": "code",
   "execution_count": 138,
   "metadata": {},
   "outputs": [
    {
     "data": {
      "text/plain": [
       "Index(['CustomerID', 'FirstName', 'LastName', 'AddressLine1', 'City',\n",
       "       'StateProvinceName', 'CountryRegionName', 'PostalCode', 'PhoneNumber',\n",
       "       'BirthDate', 'Education', 'Occupation', 'Gender', 'MaritalStatus',\n",
       "       'HomeOwnerFlag', 'NumberCarsOwned', 'NumberChildrenAtHome',\n",
       "       'TotalChildren', 'YearlyIncome', 'AveMonthSpend', 'Age', 'BikeBuyer'],\n",
       "      dtype='object')"
      ]
     },
     "execution_count": 138,
     "metadata": {},
     "output_type": "execute_result"
    }
   ],
   "source": [
    "AWS_df.columns"
   ]
  },
  {
   "cell_type": "code",
   "execution_count": 139,
   "metadata": {},
   "outputs": [
    {
     "data": {
      "text/plain": [
       "Index(['CustomerID', 'FirstName', 'LastName', 'AddressLine1', 'City',\n",
       "       'StateProvinceName', 'CountryRegionName', 'PostalCode', 'PhoneNumber',\n",
       "       'BirthDate', 'Education', 'Occupation', 'Gender', 'MaritalStatus',\n",
       "       'HomeOwnerFlag', 'NumberCarsOwned', 'NumberChildrenAtHome',\n",
       "       'TotalChildren', 'YearlyIncome', 'Age'],\n",
       "      dtype='object')"
      ]
     },
     "execution_count": 139,
     "metadata": {},
     "output_type": "execute_result"
    }
   ],
   "source": [
    "Test_df.columns"
   ]
  },
  {
   "cell_type": "code",
   "execution_count": 140,
   "metadata": {},
   "outputs": [
    {
     "name": "stdout",
     "output_type": "stream",
     "text": [
      "Bachelors              4758\n",
      "Partial College        4451\n",
      "High School            2944\n",
      "Graduate Degree        2851\n",
      "Partial High School    1400\n",
      "Name: Education, dtype: int64\n"
     ]
    }
   ],
   "source": [
    "print(AWS_df['Education'].value_counts())"
   ]
  },
  {
   "cell_type": "code",
   "execution_count": 141,
   "metadata": {},
   "outputs": [
    {
     "name": "stdout",
     "output_type": "stream",
     "text": [
      "Bachelors              148\n",
      "Partial College        144\n",
      "Graduate Degree         85\n",
      "High School             77\n",
      "Partial High School     46\n",
      "Name: Education, dtype: int64\n"
     ]
    }
   ],
   "source": [
    "print(Test_df['Education'].value_counts())"
   ]
  },
  {
   "cell_type": "code",
   "execution_count": 142,
   "metadata": {},
   "outputs": [
    {
     "name": "stdout",
     "output_type": "stream",
     "text": [
      "           YearlyIncome\n",
      "BikeBuyer              \n",
      "0                 10953\n",
      "1                  5451\n"
     ]
    }
   ],
   "source": [
    "AWS_df_counts = AWS_df[['YearlyIncome', 'BikeBuyer']].groupby('BikeBuyer').count()\n",
    "print(AWS_df_counts)"
   ]
  },
  {
   "cell_type": "code",
   "execution_count": 144,
   "metadata": {},
   "outputs": [],
   "source": [
    "labels = np.array(AWS_df['BikeBuyer'])"
   ]
  },
  {
   "cell_type": "code",
   "execution_count": 12,
   "metadata": {},
   "outputs": [
    {
     "name": "stdout",
     "output_type": "stream",
     "text": [
      "(16404, 14)\n",
      "[[1. 0. 0. 1. 0. 0. 0. 1. 0. 1. 0. 0. 0. 0.]\n",
      " [0. 1. 0. 1. 0. 0. 0. 1. 0. 1. 0. 0. 0. 0.]]\n"
     ]
    }
   ],
   "source": [
    "# Create the numpy feature array or model matrix.\n",
    "def encode_string(cat_features):\n",
    "    ## First encode the strings to numeric categories\n",
    "    enc = preprocessing.LabelEncoder()\n",
    "    enc.fit(cat_features)\n",
    "    enc_cat_features = enc.transform(cat_features)\n",
    "    ## Now, apply one hot encoding\n",
    "    ohe = preprocessing.OneHotEncoder()\n",
    "    encoded = ohe.fit(enc_cat_features.reshape(-1,1))\n",
    "    return encoded.transform(enc_cat_features.reshape(-1,1)).toarray()\n",
    "\n",
    "categorical_columns = ['Gender', 'Occupation', 'Education']\n",
    "\n",
    "dataset = [AWS_df, Test_df]\n",
    "Train_Features = encode_string(AWS_df['MaritalStatus'])\n",
    "Test_Features = encode_string(Test_df['MaritalStatus'])\n",
    "\n",
    "for data in Features_df:\n",
    "    \n",
    "    for col in categorical_columns:\n",
    "        temp = encode_string(AWS_df[col])\n",
    "        Features = np.concatenate([Features, temp], axis = 1)\n",
    "\n",
    "print(Features.shape)\n",
    "print(Features[:2, :])"
   ]
  },
  {
   "cell_type": "code",
   "execution_count": 129,
   "metadata": {},
   "outputs": [
    {
     "name": "stdout",
     "output_type": "stream",
     "text": [
      "(16404, 21)\n",
      "[[1.00000e+00 0.00000e+00 0.00000e+00 1.00000e+00 0.00000e+00 0.00000e+00\n",
      "  0.00000e+00 1.00000e+00 0.00000e+00 1.00000e+00 0.00000e+00 0.00000e+00\n",
      "  0.00000e+00 0.00000e+00 1.37947e+05 8.90000e+01 0.00000e+00 3.20000e+01\n",
      "  1.37947e+05 0.00000e+00 3.20000e+01]\n",
      " [0.00000e+00 1.00000e+00 0.00000e+00 1.00000e+00 0.00000e+00 0.00000e+00\n",
      "  0.00000e+00 1.00000e+00 0.00000e+00 1.00000e+00 0.00000e+00 0.00000e+00\n",
      "  0.00000e+00 0.00000e+00 1.01141e+05 1.17000e+02 1.00000e+00 3.30000e+01\n",
      "  1.01141e+05 1.00000e+00 3.30000e+01]]\n"
     ]
    }
   ],
   "source": [
    "# Concatenated the numeric features to the numpy array\n",
    "Features = np.concatenate([Features, np.array(AWS_df[['YearlyIncome', \n",
    "                            'NumberCarsOwned', 'Age']])], axis = 1)\n",
    "print(Features.shape)\n",
    "print(Features[:2, :])"
   ]
  },
  {
   "cell_type": "code",
   "execution_count": 130,
   "metadata": {},
   "outputs": [],
   "source": [
    "# nr.seed(9988)\n",
    "# indx = range(Features.shape[0])\n",
    "# indx = ms.train_test_split(indx, test_size = 300)\n",
    "# X_train = Features[indx[0],:]\n",
    "# y_train = np.ravel(labels[indx[0]])\n",
    "# X_test = Features[indx[1],:]\n",
    "# y_test = np.ravel(labels[indx[1]])\n",
    "\n",
    "X_train = Features\n",
    "y_test = labels"
   ]
  },
  {
   "cell_type": "code",
   "execution_count": 131,
   "metadata": {},
   "outputs": [
    {
     "data": {
      "text/plain": [
       "(16404, 21)"
      ]
     },
     "execution_count": 131,
     "metadata": {},
     "output_type": "execute_result"
    }
   ],
   "source": [
    "X_train.shape"
   ]
  },
  {
   "cell_type": "code",
   "execution_count": 132,
   "metadata": {},
   "outputs": [
    {
     "data": {
      "text/plain": [
       "array([[1.37947e+05, 8.90000e+01, 0.00000e+00, ..., 1.37947e+05,\n",
       "        0.00000e+00, 3.20000e+01],\n",
       "       [1.01141e+05, 1.17000e+02, 1.00000e+00, ..., 1.01141e+05,\n",
       "        1.00000e+00, 3.30000e+01],\n",
       "       [9.19450e+04, 1.23000e+02, 1.00000e+00, ..., 9.19450e+04,\n",
       "        1.00000e+00, 3.30000e+01],\n",
       "       ...,\n",
       "       [6.04170e+04, 4.80000e+01, 0.00000e+00, ..., 6.04170e+04,\n",
       "        0.00000e+00, 3.80000e+01],\n",
       "       [6.66530e+04, 6.50000e+01, 0.00000e+00, ..., 6.66530e+04,\n",
       "        0.00000e+00, 3.80000e+01],\n",
       "       [5.97360e+04, 7.20000e+01, 0.00000e+00, ..., 5.97360e+04,\n",
       "        0.00000e+00, 3.90000e+01]])"
      ]
     },
     "execution_count": 132,
     "metadata": {},
     "output_type": "execute_result"
    }
   ],
   "source": [
    "X_train[:,14:]"
   ]
  },
  {
   "cell_type": "code",
   "execution_count": null,
   "metadata": {},
   "outputs": [],
   "source": []
  },
  {
   "cell_type": "code",
   "execution_count": 19,
   "metadata": {},
   "outputs": [
    {
     "data": {
      "text/plain": [
       "array([[ 1.        ,  0.        ,  0.        ,  1.        ,  0.        ,\n",
       "         0.        ,  0.        ,  0.        ,  1.        ,  1.        ,\n",
       "         0.        ,  0.        ,  0.        ,  0.        , -0.34823458,\n",
       "         0.7551988 ,  0.43951884, -0.21728238],\n",
       "       [ 1.        ,  0.        ,  0.        ,  1.        ,  0.        ,\n",
       "         0.        ,  0.        ,  0.        ,  1.        ,  0.        ,\n",
       "         0.        ,  1.        ,  0.        ,  0.        , -0.82909115,\n",
       "        -0.16144662,  0.43951884, -1.28462823]])"
      ]
     },
     "execution_count": 19,
     "metadata": {},
     "output_type": "execute_result"
    }
   ],
   "source": [
    "scaler = preprocessing.StandardScaler().fit(X_train[:,14:])\n",
    "X_train[:,14:] = scaler.transform(X_train[:,14:])\n",
    "X_test[:,14:] = scaler.transform(X_test[:,14:])\n",
    "X_train[:2,]"
   ]
  },
  {
   "cell_type": "code",
   "execution_count": 20,
   "metadata": {},
   "outputs": [
    {
     "data": {
      "text/plain": [
       "LogisticRegression(C=1.0, class_weight=None, dual=False, fit_intercept=True,\n",
       "          intercept_scaling=1, max_iter=100, multi_class='ovr', n_jobs=1,\n",
       "          penalty='l2', random_state=None, solver='liblinear', tol=0.0001,\n",
       "          verbose=0, warm_start=False)"
      ]
     },
     "execution_count": 20,
     "metadata": {},
     "output_type": "execute_result"
    }
   ],
   "source": [
    "logistic_mod = linear_model.LogisticRegression() \n",
    "logistic_mod.fit(X_train, y_train)"
   ]
  },
  {
   "cell_type": "code",
   "execution_count": 21,
   "metadata": {},
   "outputs": [
    {
     "name": "stdout",
     "output_type": "stream",
     "text": [
      "[-0.3737124]\n",
      "[[-1.11060368  0.73689128  0.4337079  -0.8074203  -0.02964482 -0.54868651\n",
      "   0.24932272 -0.05251905  0.00781525  0.2214508   0.07899617 -0.16977444\n",
      "  -0.07723866 -0.42714626  0.12301504  1.77708783 -0.03108198 -0.30104467]]\n"
     ]
    }
   ],
   "source": [
    "print(logistic_mod.intercept_)\n",
    "print(logistic_mod.coef_)"
   ]
  },
  {
   "cell_type": "code",
   "execution_count": 22,
   "metadata": {},
   "outputs": [
    {
     "name": "stdout",
     "output_type": "stream",
     "text": [
      "[[0.97365982 0.02634018]\n",
      " [0.90093479 0.09906521]\n",
      " [0.75345644 0.24654356]\n",
      " [0.6933164  0.3066836 ]\n",
      " [0.08395839 0.91604161]\n",
      " [0.66114822 0.33885178]\n",
      " [0.68911133 0.31088867]\n",
      " [0.89626229 0.10373771]\n",
      " [0.69809053 0.30190947]\n",
      " [0.94980004 0.05019996]\n",
      " [0.484622   0.515378  ]\n",
      " [0.70789259 0.29210741]\n",
      " [0.40011107 0.59988893]\n",
      " [0.87085181 0.12914819]\n",
      " [0.92150987 0.07849013]]\n"
     ]
    }
   ],
   "source": [
    "probabilities = logistic_mod.predict_proba(X_test)\n",
    "print(probabilities[:15,:])"
   ]
  },
  {
   "cell_type": "code",
   "execution_count": 23,
   "metadata": {},
   "outputs": [
    {
     "name": "stdout",
     "output_type": "stream",
     "text": [
      "[0 0 0 0 1 0 0 0 0 0 1 0 1 0 0]\n",
      "[0 1 0 0 0 0 0 0 1 0 0 0 0 1 0]\n"
     ]
    }
   ],
   "source": [
    "def score_model(probs, threshold):\n",
    "    return np.array([1 if x > threshold else 0 for x in probs[:,1]])\n",
    "scores = score_model(probabilities, 0.5)\n",
    "print(np.array(scores[:15]))\n",
    "print(y_test[:15])"
   ]
  },
  {
   "cell_type": "code",
   "execution_count": 24,
   "metadata": {},
   "outputs": [
    {
     "name": "stdout",
     "output_type": "stream",
     "text": [
      "                 Confusion matrix\n",
      "                 Score positive    Score negative\n",
      "Actual positive       188                19\n",
      "Actual negative        45                48\n",
      "\n",
      "Accuracy  0.79\n",
      " \n",
      "           Positive      Negative\n",
      "Num case      207            93\n",
      "Precision    0.81          0.72\n",
      "Recall       0.91          0.52\n",
      "F1           0.85          0.60\n"
     ]
    }
   ],
   "source": [
    "def print_metrics(labels, scores):\n",
    "    metrics = sklm.precision_recall_fscore_support(labels, scores)\n",
    "    conf = sklm.confusion_matrix(labels, scores)\n",
    "    print('                 Confusion matrix')\n",
    "    print('                 Score positive    Score negative')\n",
    "    print('Actual positive    %6d' % conf[0,0] + '             %5d' % conf[0,1])\n",
    "    print('Actual negative    %6d' % conf[1,0] + '             %5d' % conf[1,1])\n",
    "    print('')\n",
    "    print('Accuracy  %0.2f' % sklm.accuracy_score(labels, scores))\n",
    "    print(' ')\n",
    "    print('           Positive      Negative')\n",
    "    print('Num case   %6d' % metrics[3][0] + '        %6d' % metrics[3][1])\n",
    "    print('Precision  %6.2f' % metrics[0][0] + '        %6.2f' % metrics[0][1])\n",
    "    print('Recall     %6.2f' % metrics[1][0] + '        %6.2f' % metrics[1][1])\n",
    "    print('F1         %6.2f' % metrics[2][0] + '        %6.2f' % metrics[2][1])\n",
    "\n",
    "\n",
    "    \n",
    "print_metrics(y_test, scores)    "
   ]
  },
  {
   "cell_type": "code",
   "execution_count": 26,
   "metadata": {},
   "outputs": [
    {
     "data": {
      "image/png": "[encoded data removed]",
      "text/plain": [
       "<Figure size 432x288 with 1 Axes>"
      ]
     },
     "metadata": {},
     "output_type": "display_data"
    }
   ],
   "source": [
    "def plot_auc(labels, probs):\n",
    "    ## Compute the false positive rate, true positive rate\n",
    "    ## and threshold along with the AUC\n",
    "    fpr, tpr, threshold = sklm.roc_curve(labels, probs[:,1])\n",
    "    auc = sklm.auc(fpr, tpr)\n",
    "    \n",
    "    ## Plot the result\n",
    "    plt.title('Receiver Operating Characteristic')\n",
    "    plt.plot(fpr, tpr, color = 'orange', label = 'AUC = %0.2f' % auc)\n",
    "    plt.legend(loc = 'lower right')\n",
    "    plt.plot([0, 1], [0, 1],'r--')\n",
    "    plt.xlim([0, 1])\n",
    "    plt.ylim([0, 1])\n",
    "    plt.ylabel('True Positive Rate')\n",
    "    plt.xlabel('False Positive Rate')\n",
    "    plt.show()\n",
    "    \n",
    "plot_auc(y_test, probabilities)"
   ]
  },
  {
   "cell_type": "code",
   "execution_count": 27,
   "metadata": {},
   "outputs": [
    {
     "data": {
      "text/plain": [
       "LogisticRegression(C=1.0, class_weight={0: 0.45, 1: 0.55}, dual=False,\n",
       "          fit_intercept=True, intercept_scaling=1, max_iter=100,\n",
       "          multi_class='ovr', n_jobs=1, penalty='l2', random_state=None,\n",
       "          solver='liblinear', tol=0.0001, verbose=0, warm_start=False)"
      ]
     },
     "execution_count": 27,
     "metadata": {},
     "output_type": "execute_result"
    }
   ],
   "source": [
    "logistic_mod = linear_model.LogisticRegression(class_weight = {0:0.45, 1:0.55}) \n",
    "logistic_mod.fit(X_train, y_train)"
   ]
  },
  {
   "cell_type": "code",
   "execution_count": 28,
   "metadata": {},
   "outputs": [
    {
     "name": "stdout",
     "output_type": "stream",
     "text": [
      "[[0.96826329 0.03173671]\n",
      " [0.88125171 0.11874829]\n",
      " [0.71579681 0.28420319]\n",
      " [0.65340391 0.34659609]\n",
      " [0.06762998 0.93237002]\n",
      " [0.61455307 0.38544693]\n",
      " [0.63993064 0.36006936]\n",
      " [0.87595676 0.12404324]\n",
      " [0.65788107 0.34211893]\n",
      " [0.93942925 0.06057075]\n",
      " [0.4336778  0.5663222 ]\n",
      " [0.66871024 0.33128976]\n",
      " [0.34937574 0.65062426]\n",
      " [0.8449531  0.1550469 ]\n",
      " [0.9060131  0.0939869 ]]\n"
     ]
    }
   ],
   "source": [
    "probabilities = logistic_mod.predict_proba(X_test)\n",
    "print(probabilities[:15,:])"
   ]
  },
  {
   "cell_type": "code",
   "execution_count": 29,
   "metadata": {},
   "outputs": [
    {
     "name": "stdout",
     "output_type": "stream",
     "text": [
      "                 Confusion matrix\n",
      "                 Score positive    Score negative\n",
      "Actual positive       179                28\n",
      "Actual negative        40                53\n",
      "\n",
      "Accuracy  0.77\n",
      " \n",
      "           Positive      Negative\n",
      "Num case      207            93\n",
      "Precision    0.82          0.65\n",
      "Recall       0.86          0.57\n",
      "F1           0.84          0.61\n"
     ]
    },
    {
     "data": {
      "image/png": "[encoded data removed]",
      "text/plain": [
       "<Figure size 432x288 with 1 Axes>"
      ]
     },
     "metadata": {},
     "output_type": "display_data"
    }
   ],
   "source": [
    "scores = score_model(probabilities, 0.5)\n",
    "print_metrics(y_test, scores)  \n",
    "plot_auc(y_test, probabilities)  "
   ]
  },
  {
   "cell_type": "code",
   "execution_count": 36,
   "metadata": {},
   "outputs": [
    {
     "name": "stdout",
     "output_type": "stream",
     "text": [
      "[[0.96826329 0.03173671]\n",
      " [0.88125171 0.11874829]\n",
      " [0.71579681 0.28420319]\n",
      " [0.65340391 0.34659609]\n",
      " [0.06762998 0.93237002]\n",
      " [0.61455307 0.38544693]\n",
      " [0.63993064 0.36006936]\n",
      " [0.87595676 0.12404324]\n",
      " [0.65788107 0.34211893]\n",
      " [0.93942925 0.06057075]\n",
      " [0.4336778  0.5663222 ]\n",
      " [0.66871024 0.33128976]\n",
      " [0.34937574 0.65062426]\n",
      " [0.8449531  0.1550469 ]\n",
      " [0.9060131  0.0939869 ]]\n"
     ]
    }
   ],
   "source": [
    "probabilities = logistic_mod.predict_proba(X_test)\n",
    "print(probabilities[:15,:])"
   ]
  },
  {
   "cell_type": "code",
   "execution_count": 52,
   "metadata": {},
   "outputs": [
    {
     "name": "stdout",
     "output_type": "stream",
     "text": [
      "[0 0 0 0 1 0 0 0 0 0 1 0 1 0 0 0 0 0 1 0 0 0 0 0 0 1 1 0 0 0 0 0 1 0 0]\n",
      "[0 1 0 0 0 0 0 0 1 0 0 0 0 1 0 0 1 0 1 1 0 0 0 0 0 1 1 0 0 1 0 0 1 0 0]\n"
     ]
    }
   ],
   "source": [
    "scores = score_model(probabilities, 0.5)\n",
    "print(np.array(scores[:35]))\n",
    "print(y_test[:35])"
   ]
  },
  {
   "cell_type": "code",
   "execution_count": 51,
   "metadata": {},
   "outputs": [
    {
     "name": "stdout",
     "output_type": "stream",
     "text": [
      "\n",
      "For threshold = 0.45\n",
      "                 Confusion matrix\n",
      "                 Score positive    Score negative\n",
      "Actual positive       171                36\n",
      "Actual negative        36                57\n",
      "\n",
      "Accuracy  0.76\n",
      " \n",
      "           Positive      Negative\n",
      "Num case      207            93\n",
      "Precision    0.83          0.61\n",
      "Recall       0.83          0.61\n",
      "F1           0.83          0.61\n"
     ]
    },
    {
     "data": {
      "image/png": "[encoded data removed]",
      "text/plain": [
       "<Figure size 432x288 with 1 Axes>"
      ]
     },
     "metadata": {},
     "output_type": "display_data"
    },
    {
     "name": "stdout",
     "output_type": "stream",
     "text": [
      "\n",
      "For threshold = 0.4\n",
      "                 Confusion matrix\n",
      "                 Score positive    Score negative\n",
      "Actual positive       167                40\n",
      "Actual negative        32                61\n",
      "\n",
      "Accuracy  0.76\n",
      " \n",
      "           Positive      Negative\n",
      "Num case      207            93\n",
      "Precision    0.84          0.60\n",
      "Recall       0.81          0.66\n",
      "F1           0.82          0.63\n"
     ]
    },
    {
     "data": {
      "image/png": "[encoded data removed]",
      "text/plain": [
       "<Figure size 432x288 with 1 Axes>"
      ]
     },
     "metadata": {},
     "output_type": "display_data"
    },
    {
     "name": "stdout",
     "output_type": "stream",
     "text": [
      "\n",
      "For threshold = 0.35\n",
      "                 Confusion matrix\n",
      "                 Score positive    Score negative\n",
      "Actual positive       160                47\n",
      "Actual negative        28                65\n",
      "\n",
      "Accuracy  0.75\n",
      " \n",
      "           Positive      Negative\n",
      "Num case      207            93\n",
      "Precision    0.85          0.58\n",
      "Recall       0.77          0.70\n",
      "F1           0.81          0.63\n"
     ]
    },
    {
     "data": {
      "image/png": "[encoded data removed]",
      "text/plain": [
       "<Figure size 432x288 with 1 Axes>"
      ]
     },
     "metadata": {},
     "output_type": "display_data"
    },
    {
     "name": "stdout",
     "output_type": "stream",
     "text": [
      "\n",
      "For threshold = 0.3\n",
      "                 Confusion matrix\n",
      "                 Score positive    Score negative\n",
      "Actual positive       147                60\n",
      "Actual negative        19                74\n",
      "\n",
      "Accuracy  0.74\n",
      " \n",
      "           Positive      Negative\n",
      "Num case      207            93\n",
      "Precision    0.89          0.55\n",
      "Recall       0.71          0.80\n",
      "F1           0.79          0.65\n"
     ]
    },
    {
     "data": {
      "image/png": "[encoded data removed]",
      "text/plain": [
       "<Figure size 432x288 with 1 Axes>"
      ]
     },
     "metadata": {},
     "output_type": "display_data"
    },
    {
     "name": "stdout",
     "output_type": "stream",
     "text": [
      "\n",
      "For threshold = 0.25\n",
      "                 Confusion matrix\n",
      "                 Score positive    Score negative\n",
      "Actual positive       129                78\n",
      "Actual negative        13                80\n",
      "\n",
      "Accuracy  0.70\n",
      " \n",
      "           Positive      Negative\n",
      "Num case      207            93\n",
      "Precision    0.91          0.51\n",
      "Recall       0.62          0.86\n",
      "F1           0.74          0.64\n"
     ]
    },
    {
     "data": {
      "image/png": "[encoded data removed]",
      "text/plain": [
       "<Figure size 432x288 with 1 Axes>"
      ]
     },
     "metadata": {},
     "output_type": "display_data"
    }
   ],
   "source": [
    "def test_threshold(probs, labels, threshold):\n",
    "    scores = score_model(probs, threshold)\n",
    "    print('')\n",
    "    print('For threshold = ' + str(threshold))\n",
    "    print_metrics(labels, scores)\n",
    "    plot_auc(y_test, probabilities)\n",
    "\n",
    "thresholds = [0.45, 0.40, 0.35, 0.3, 0.25]\n",
    "for t in thresholds:\n",
    "    test_threshold(probabilities, y_test, t)"
   ]
  },
  {
   "cell_type": "code",
   "execution_count": 115,
   "metadata": {},
   "outputs": [
    {
     "name": "stdout",
     "output_type": "stream",
     "text": [
      "                 Confusion matrix\n",
      "                 Score positive    Score negative\n",
      "Actual positive       179                28\n",
      "Actual negative        40                53\n",
      "\n",
      "Accuracy  0.77\n",
      " \n",
      "           Positive      Negative\n",
      "Num case      207            93\n",
      "Precision    0.82          0.65\n",
      "Recall       0.86          0.57\n",
      "F1           0.84          0.61\n"
     ]
    },
    {
     "data": {
      "image/png": "[encoded data removed]",
      "text/plain": [
       "<Figure size 432x288 with 1 Axes>"
      ]
     },
     "metadata": {},
     "output_type": "display_data"
    },
    {
     "name": "stdout",
     "output_type": "stream",
     "text": [
      "[0 0 0 0 1 0 0 0 0 0 1 0 1 0 0 0 0 0 1 0 0 0 0 0 0 1 1 0 0 0 0 0 1 0 0]\n",
      "[0 1 0 0 0 0 0 0 1 0 0 0 0 1 0 0 1 0 1 1 0 0 0 0 0 1 1 0 0 1 0 0 1 0 0]\n"
     ]
    }
   ],
   "source": [
    "scores = score_model(probabilities, 0.5)\n",
    "print_metrics(y_test, scores)  \n",
    "plot_auc(y_test, probabilities)\n",
    "\n",
    "print(np.array(scores[:35]))\n",
    "print(y_test[:35])"
   ]
  },
  {
   "cell_type": "code",
   "execution_count": 116,
   "metadata": {},
   "outputs": [
    {
     "name": "stdout",
     "output_type": "stream",
     "text": [
      "(500, 20)\n"
     ]
    },
    {
     "data": {
      "text/html": [
       "<div>\n",
       "<style scoped>\n",
       "    .dataframe tbody tr th:only-of-type {\n",
       "        vertical-align: middle;\n",
       "    }\n",
       "\n",
       "    .dataframe tbody tr th {\n",
       "        vertical-align: top;\n",
       "    }\n",
       "\n",
       "    .dataframe thead th {\n",
       "        text-align: right;\n",
       "    }\n",
       "</style>\n",
       "<table border=\"1\" class=\"dataframe\">\n",
       "  <thead>\n",
       "    <tr style=\"text-align: right;\">\n",
       "      <th></th>\n",
       "      <th>CustomerID</th>\n",
       "      <th>FirstName</th>\n",
       "      <th>LastName</th>\n",
       "      <th>AddressLine1</th>\n",
       "      <th>City</th>\n",
       "      <th>StateProvinceName</th>\n",
       "      <th>CountryRegionName</th>\n",
       "      <th>PostalCode</th>\n",
       "      <th>PhoneNumber</th>\n",
       "      <th>BirthDate</th>\n",
       "      <th>Education</th>\n",
       "      <th>Occupation</th>\n",
       "      <th>Gender</th>\n",
       "      <th>MaritalStatus</th>\n",
       "      <th>HomeOwnerFlag</th>\n",
       "      <th>NumberCarsOwned</th>\n",
       "      <th>NumberChildrenAtHome</th>\n",
       "      <th>TotalChildren</th>\n",
       "      <th>YearlyIncome</th>\n",
       "      <th>Age</th>\n",
       "    </tr>\n",
       "  </thead>\n",
       "  <tbody>\n",
       "    <tr>\n",
       "      <th>0</th>\n",
       "      <td>18988</td>\n",
       "      <td>Courtney</td>\n",
       "      <td>Baker</td>\n",
       "      <td>8727 Buena Vista Ave.</td>\n",
       "      <td>Fremont</td>\n",
       "      <td>California</td>\n",
       "      <td>United States</td>\n",
       "      <td>94536</td>\n",
       "      <td>133-555-0128</td>\n",
       "      <td>1945-01-05</td>\n",
       "      <td>Bachelors</td>\n",
       "      <td>Management</td>\n",
       "      <td>F</td>\n",
       "      <td>S</td>\n",
       "      <td>0</td>\n",
       "      <td>2</td>\n",
       "      <td>0</td>\n",
       "      <td>5</td>\n",
       "      <td>86931</td>\n",
       "      <td>53</td>\n",
       "    </tr>\n",
       "    <tr>\n",
       "      <th>1</th>\n",
       "      <td>29135</td>\n",
       "      <td>Adam</td>\n",
       "      <td>Allen</td>\n",
       "      <td>3491 Cook Street</td>\n",
       "      <td>Haney</td>\n",
       "      <td>British Columbia</td>\n",
       "      <td>Canada</td>\n",
       "      <td>V2W 1W2</td>\n",
       "      <td>252-555-0173</td>\n",
       "      <td>1964-10-04</td>\n",
       "      <td>Bachelors</td>\n",
       "      <td>Skilled Manual</td>\n",
       "      <td>M</td>\n",
       "      <td>M</td>\n",
       "      <td>1</td>\n",
       "      <td>2</td>\n",
       "      <td>2</td>\n",
       "      <td>4</td>\n",
       "      <td>100125</td>\n",
       "      <td>34</td>\n",
       "    </tr>\n",
       "    <tr>\n",
       "      <th>2</th>\n",
       "      <td>12156</td>\n",
       "      <td>Bonnie</td>\n",
       "      <td>Raji</td>\n",
       "      <td>359 Pleasant Hill Rd</td>\n",
       "      <td>Burbank</td>\n",
       "      <td>California</td>\n",
       "      <td>United States</td>\n",
       "      <td>91502</td>\n",
       "      <td>409-555-0193</td>\n",
       "      <td>1934-01-12</td>\n",
       "      <td>Graduate Degree</td>\n",
       "      <td>Management</td>\n",
       "      <td>F</td>\n",
       "      <td>M</td>\n",
       "      <td>1</td>\n",
       "      <td>2</td>\n",
       "      <td>0</td>\n",
       "      <td>4</td>\n",
       "      <td>103985</td>\n",
       "      <td>64</td>\n",
       "    </tr>\n",
       "    <tr>\n",
       "      <th>3</th>\n",
       "      <td>13749</td>\n",
       "      <td>Julio</td>\n",
       "      <td>Alonso</td>\n",
       "      <td>8945 Euclid Ave.</td>\n",
       "      <td>Burlingame</td>\n",
       "      <td>California</td>\n",
       "      <td>United States</td>\n",
       "      <td>94010</td>\n",
       "      <td>175-555-0196</td>\n",
       "      <td>1958-09-22</td>\n",
       "      <td>Graduate Degree</td>\n",
       "      <td>Skilled Manual</td>\n",
       "      <td>M</td>\n",
       "      <td>M</td>\n",
       "      <td>1</td>\n",
       "      <td>0</td>\n",
       "      <td>0</td>\n",
       "      <td>4</td>\n",
       "      <td>127161</td>\n",
       "      <td>40</td>\n",
       "    </tr>\n",
       "    <tr>\n",
       "      <th>4</th>\n",
       "      <td>27780</td>\n",
       "      <td>Christy</td>\n",
       "      <td>Andersen</td>\n",
       "      <td>42, boulevard Tremblay</td>\n",
       "      <td>Dunkerque</td>\n",
       "      <td>Nord</td>\n",
       "      <td>France</td>\n",
       "      <td>59140</td>\n",
       "      <td>1 (11) 500 555-0122</td>\n",
       "      <td>1965-03-19</td>\n",
       "      <td>High School</td>\n",
       "      <td>Manual</td>\n",
       "      <td>F</td>\n",
       "      <td>M</td>\n",
       "      <td>1</td>\n",
       "      <td>1</td>\n",
       "      <td>2</td>\n",
       "      <td>2</td>\n",
       "      <td>21876</td>\n",
       "      <td>33</td>\n",
       "    </tr>\n",
       "  </tbody>\n",
       "</table>\n",
       "</div>"
      ],
      "text/plain": [
       "   CustomerID FirstName  LastName            AddressLine1        City  \\\n",
       "0       18988  Courtney     Baker   8727 Buena Vista Ave.     Fremont   \n",
       "1       29135      Adam     Allen        3491 Cook Street       Haney   \n",
       "2       12156    Bonnie      Raji    359 Pleasant Hill Rd     Burbank   \n",
       "3       13749     Julio    Alonso        8945 Euclid Ave.  Burlingame   \n",
       "4       27780   Christy  Andersen  42, boulevard Tremblay   Dunkerque   \n",
       "\n",
       "  StateProvinceName CountryRegionName PostalCode          PhoneNumber  \\\n",
       "0        California     United States      94536         133-555-0128   \n",
       "1  British Columbia            Canada    V2W 1W2         252-555-0173   \n",
       "2        California     United States      91502         409-555-0193   \n",
       "3        California     United States      94010         175-555-0196   \n",
       "4              Nord            France      59140  1 (11) 500 555-0122   \n",
       "\n",
       "    BirthDate        Education      Occupation Gender MaritalStatus  \\\n",
       "0  1945-01-05       Bachelors       Management      F             S   \n",
       "1  1964-10-04       Bachelors   Skilled Manual      M             M   \n",
       "2  1934-01-12  Graduate Degree      Management      F             M   \n",
       "3  1958-09-22  Graduate Degree  Skilled Manual      M             M   \n",
       "4  1965-03-19      High School          Manual      F             M   \n",
       "\n",
       "   HomeOwnerFlag  NumberCarsOwned  NumberChildrenAtHome  TotalChildren  \\\n",
       "0              0                2                     0              5   \n",
       "1              1                2                     2              4   \n",
       "2              1                2                     0              4   \n",
       "3              1                0                     0              4   \n",
       "4              1                1                     2              2   \n",
       "\n",
       "   YearlyIncome  Age  \n",
       "0         86931   53  \n",
       "1        100125   34  \n",
       "2        103985   64  \n",
       "3        127161   40  \n",
       "4         21876   33  "
      ]
     },
     "execution_count": 116,
     "metadata": {},
     "output_type": "execute_result"
    }
   ],
   "source": [
    "# Pull Preped Test Data for use for Prediction\n",
    "Test_df = pd.read_csv('AWS_Test_Preped.csv')\n",
    "print(Test_df.shape)\n",
    "Test_df.head()"
   ]
  },
  {
   "cell_type": "code",
   "execution_count": 117,
   "metadata": {},
   "outputs": [
    {
     "name": "stdout",
     "output_type": "stream",
     "text": [
      "(500, 14)\n",
      "[[0. 1. 1. 0. 0. 1. 0. 0. 0. 1. 0. 0. 0. 0.]\n",
      " [1. 0. 0. 1. 0. 0. 0. 0. 1. 1. 0. 0. 0. 0.]]\n"
     ]
    }
   ],
   "source": [
    "categorical_columns = ['Gender', 'Occupation', 'Education']\n",
    "\n",
    "Test_Features = encode_string(Test_df['MaritalStatus'])\n",
    "for col in categorical_columns:\n",
    "    temp = encode_string(Test_df[col])\n",
    "    Test_Features = np.concatenate([Test_Features, temp], axis = 1)\n",
    "\n",
    "print(Test_Features.shape)\n",
    "print(Test_Features[:2, :])"
   ]
  },
  {
   "cell_type": "code",
   "execution_count": 118,
   "metadata": {},
   "outputs": [
    {
     "name": "stdout",
     "output_type": "stream",
     "text": [
      "(500, 18)\n",
      "[[0.00000e+00 1.00000e+00 1.00000e+00 0.00000e+00 0.00000e+00 1.00000e+00\n",
      "  0.00000e+00 0.00000e+00 0.00000e+00 1.00000e+00 0.00000e+00 0.00000e+00\n",
      "  0.00000e+00 0.00000e+00 8.69310e+04 2.00000e+00 5.30000e+01 0.00000e+00]\n",
      " [1.00000e+00 0.00000e+00 0.00000e+00 1.00000e+00 0.00000e+00 0.00000e+00\n",
      "  0.00000e+00 0.00000e+00 1.00000e+00 1.00000e+00 0.00000e+00 0.00000e+00\n",
      "  0.00000e+00 0.00000e+00 1.00125e+05 2.00000e+00 3.40000e+01 1.00000e+00]]\n"
     ]
    }
   ],
   "source": [
    "# Concatenated the numeric features to the numpy array\n",
    "Test_Features = np.concatenate([Test_Features, np.array(Test_df[['YearlyIncome','NumberCarsOwned', 'Age', 'HomeOwnerFlag']])], axis = 1)\n",
    "# Test_Features = np.concatenate([Test_Features, np.ones(Test_df.shape[1])], axis = 1)\n",
    "\n",
    "print(Test_Features.shape)\n",
    "print(Test_Features[:2, :])"
   ]
  },
  {
   "cell_type": "code",
   "execution_count": 119,
   "metadata": {},
   "outputs": [],
   "source": [
    "Test_Features[:,14:] = scaler.transform(Test_Features[:,14:])"
   ]
  },
  {
   "cell_type": "code",
   "execution_count": 120,
   "metadata": {},
   "outputs": [
    {
     "name": "stdout",
     "output_type": "stream",
     "text": [
      "[-0.28913085]\n",
      "[[-1.06394892  0.77481807  0.47534279 -0.76447364 -0.01164114 -0.539552\n",
      "   0.27167612 -0.03601268  0.02639885  0.23189497  0.08726882 -0.15048927\n",
      "  -0.06107909 -0.39672629  0.13285476  1.78747191 -0.03679049 -0.30263931]]\n"
     ]
    }
   ],
   "source": [
    "print(logistic_mod.intercept_)\n",
    "print(logistic_mod.coef_)"
   ]
  },
  {
   "cell_type": "code",
   "execution_count": 108,
   "metadata": {},
   "outputs": [
    {
     "name": "stdout",
     "output_type": "stream",
     "text": [
      "[[9.90183411e-01 9.81658918e-03]\n",
      " [9.98492194e-01 1.50780638e-03]\n",
      " [9.99015427e-01 9.84573000e-04]\n",
      " [9.98967358e-01 1.03264246e-03]\n",
      " [9.96624963e-01 3.37503749e-03]\n",
      " [9.97681811e-01 2.31818949e-03]\n",
      " [9.91266848e-01 8.73315203e-03]\n",
      " [9.98491046e-01 1.50895366e-03]\n",
      " [9.95183662e-01 4.81633810e-03]\n",
      " [9.94572762e-01 5.42723800e-03]\n",
      " [9.85664195e-01 1.43358051e-02]\n",
      " [9.97386920e-01 2.61307985e-03]\n",
      " [9.99322863e-01 6.77137450e-04]\n",
      " [9.98196118e-01 1.80388211e-03]\n",
      " [9.70761596e-01 2.92384044e-02]]\n"
     ]
    }
   ],
   "source": [
    "Test_probabilities = logistic_mod.predict_proba(Test_Features)\n",
    "print(Test_probabilities[:15,:])"
   ]
  },
  {
   "cell_type": "code",
   "execution_count": 121,
   "metadata": {},
   "outputs": [
    {
     "name": "stdout",
     "output_type": "stream",
     "text": [
      "[0 0 0 0 0 0 0 0 0 0 0 0 0 0 0 0 0 0 0 0 0 0 0 0 0 0 0 0 0 0 0 0 0 0 0 0 0\n",
      " 0 0 0 0 0 0 0 0 0 0 0 0 0 0 0 0 0 0 0 0 0 0 0 0 0 0 0 0 0 0 0 0 0 0 0 0 0\n",
      " 0 0 0 0 0 0 0 0 0 0 0 0 0 0 0 0 0 0 0 0 0 0 0 0 0 0 0 0 0 0 0 0 0 0 0 0 0\n",
      " 0 0 0 0 0 0 0 0 0 0 0 0 0 0 0 0 0 0 0 0 0 0 0 0 0 0 0 0 0 0 0 0 0 0 0 0 0\n",
      " 0 0 0 0 0 0 0 0 0 0 0 0 0 0 0 0 0 0 0 0 0 0 0 0 0 0 0 0 0 0 0 0 0 0 0 0 0\n",
      " 0 0 0 0 0 0 0 0 0 0 0 0 0 0 0 0 0 0 0 0 0 0 0 0 0 0 0 0 0 0 0 0 0 0 0 0 0\n",
      " 0 0 0 0 0 0 0 0 0 0 0 0 0 0 0 0 0 0 0 0 0 0 0 0 0 0 0 0 0 0 0 0 0 0 0 0 0\n",
      " 0 0 0 0 0 0 0 0 0 0 0 0 0 0 0 0 0 0 0 0 0 0 0 0 0 0 0 0 0 0 0 0 0 0 0 0 0\n",
      " 0 0 0 0 0 0 0 0 0 0 0 0 0 0 0 0 0 0 0 0 0 0 0 0 0 0 0 0 0 0 0 0 0 0 0 0 0\n",
      " 0 0 0 0 0 0 0 0 0 0 0 0 0 0 0 0 0 0 0 0 0 0 0 0 0 0 0 0 0 0 0 0 0 0 0 0 0\n",
      " 0 0 0 0 0 0 0 0 0 0 0 0 0 0 0 0 0 0 0 0 0 0 0 0 0 0 0 0 0 0 0 0 0 0 0 0 0\n",
      " 0 0 0 0 0 0 0 0 0 0 0 0 0 0 0 0 0 0 0 0 0 0 0 0 0 0 0 0 0 0 0 0 0 0 0 0 0\n",
      " 0 0 0 0 0 0 0 0 0 0 0 0 0 0 0 0 0 0 0 0 0 0 0 0 0 0 0 0 0 0 0 0 0 0 0 0 0\n",
      " 0 0 0 0 0 0 0 0 0 0 0 0 0 0 0 0 0 0 0]\n"
     ]
    }
   ],
   "source": [
    "scores = score_model(Test_probabilities, 0.5)\n",
    "print(np.array(scores[:]))\n"
   ]
  },
  {
   "cell_type": "code",
   "execution_count": null,
   "metadata": {},
   "outputs": [],
   "source": []
  }
 ],
 "metadata": {
  "kernelspec": {
   "display_name": "Python 3",
   "language": "python",
   "name": "python3"
  },
  "language_info": {
   "codemirror_mode": {
    "name": "ipython",
    "version": 3
   },
   "file_extension": ".py",
   "mimetype": "text/x-python",
   "name": "python",
   "nbconvert_exporter": "python",
   "pygments_lexer": "ipython3",
   "version": "3.6.5"
  }
 },
 "nbformat": 4,
 "nbformat_minor": 2
}
