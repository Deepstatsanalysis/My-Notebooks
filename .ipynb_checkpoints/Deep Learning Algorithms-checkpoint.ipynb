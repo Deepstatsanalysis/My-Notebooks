{
 "cells": [
  {
   "cell_type": "markdown",
   "metadata": {},
   "source": [
    "# Gradient Descent Implementation For Logistic Regression"
   ]
  },
  {
   "cell_type": "code",
   "execution_count": null,
   "metadata": {},
   "outputs": [],
   "source": [
    "import math.log as log\n",
    "import numpy as np\n",
    "\n",
    "def GradientDescentLogisticRegression(shape, epoch):\n",
    "    J=0\n",
    "    m = shape[0]\n",
    "    cols = shape[1]\n",
    "    w = np.zeros(cols)\n",
    "    dw = np.zeros(cols)\n",
    "    b = 0\n",
    "    db = 0\n",
    "    z = np.array()\n",
    "    dz = np.array()\n",
    "    alpha = 0.1 #learning rate\n",
    "    \n",
    "    for counts in range(epoch):\n",
    "        for i in range(m):\n",
    "            z[i] = w[i].T * x[i] + b\n",
    "            a[i] = sigmoid(z[i])\n",
    "            J += -(y[i]*log(a[i]) + (i-y[i])*log(1 - a[i]))\n",
    "            dz[i] = a[i] - y[i]\n",
    "        \n",
    "            for j in range(cols):\n",
    "                dw[j] = x[i][j] * dz[i]\n",
    "                db += dz[i]\n",
    "        \n",
    "        J /= m\n",
    "        dw /= m\n",
    "        db /= m\n",
    "        \n",
    "        for j in range(cols):\n",
    "            w[j] -= dw.dot(alpha)\n",
    "            b -= alpha*db\n",
    "            \n",
    "    return w, b\n",
    "\n",
    "def sigmoid(z):\n",
    "    return 1/(1+math.exp(-z))\n",
    "    "
   ]
  }
 ],
 "metadata": {
  "kernelspec": {
   "display_name": "Python 3",
   "language": "python",
   "name": "python3"
  },
  "language_info": {
   "codemirror_mode": {
    "name": "ipython",
    "version": 3
   },
   "file_extension": ".py",
   "mimetype": "text/x-python",
   "name": "python",
   "nbconvert_exporter": "python",
   "pygments_lexer": "ipython3",
   "version": "3.6.5"
  }
 },
 "nbformat": 4,
 "nbformat_minor": 2
}
