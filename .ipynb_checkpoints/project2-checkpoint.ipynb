{
 "cells": [
  {
   "cell_type": "code",
   "execution_count": 7,
   "metadata": {},
   "outputs": [
    {
     "name": "stdout",
     "output_type": "stream",
     "text": [
      "1\n",
      "assets/images/menu_logo/logout.jpg\n"
     ]
    }
   ],
   "source": [
    "from bs4 import BeautifulSoup\n",
    "import requests\n",
    "\n",
    "url = 'http://localhost/howfar/'\n",
    "\n",
    "# Getting the webpage, creating a response object\n",
    "response = requests.get(url)\n",
    "\n",
    "# Extracting the source code of the webpage\n",
    "data = response.text\n",
    "\n",
    "# Passing the sorce code to BeautifulSoup to create an object of it\n",
    "soup = BeautifulSoup(data, 'html.parser')\n",
    "\n",
    "# Extracting all of the <a> tags into a List\n",
    "tags = soup.find_all('img')\n",
    "\n",
    "# print(len(tags))\n",
    "\n",
    "# Extracting urls from the attribute href in the <a> tags\n",
    "for tag in tags:\n",
    "    print(tag.get('src'))"
   ]
  },
  {
   "cell_type": "code",
   "execution_count": null,
   "metadata": {},
   "outputs": [],
   "source": []
  }
 ],
 "metadata": {
  "kernelspec": {
   "display_name": "Python 3",
   "language": "python",
   "name": "python3"
  },
  "language_info": {
   "codemirror_mode": {
    "name": "ipython",
    "version": 3
   },
   "file_extension": ".py",
   "mimetype": "text/x-python",
   "name": "python",
   "nbconvert_exporter": "python",
   "pygments_lexer": "ipython3",
   "version": "3.6.5"
  }
 },
 "nbformat": 4,
 "nbformat_minor": 2
}
