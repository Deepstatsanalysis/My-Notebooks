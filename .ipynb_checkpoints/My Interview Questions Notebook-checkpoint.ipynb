{
 "cells": [
  {
   "cell_type": "markdown",
   "metadata": {},
   "source": [
    "# FACTORIAL (!)\n",
    "\n",
    "I would simply use examples to illustrate how the factorial works. **6! (pronounced: six factorial)**\n",
    "\n",
    "Hence: 5! = 5 x 4 x 3 x 2 x 1\n",
    "          = 120\n",
    "          \n",
    "       4! = 4*3*2*1\n",
    "       \n",
    "       1! = 1\n",
    " \n",
    "     "
   ]
  },
  {
   "cell_type": "code",
   "execution_count": 3,
   "metadata": {},
   "outputs": [],
   "source": [
    "def factorial(num):\n",
    "    if num > 1:\n",
    "        result = num * factorial(num - 1)\n",
    "    else:\n",
    "        return num\n",
    "    return result\n"
   ]
  },
  {
   "cell_type": "markdown",
   "metadata": {},
   "source": [
    "### Time using Magic func"
   ]
  },
  {
   "cell_type": "code",
   "execution_count": 4,
   "metadata": {},
   "outputs": [
    {
     "data": {
      "text/plain": [
       "479001600"
      ]
     },
     "execution_count": 4,
     "metadata": {},
     "output_type": "execute_result"
    }
   ],
   "source": [
    "factorial(12)"
   ]
  },
  {
   "cell_type": "code",
   "execution_count": 5,
   "metadata": {},
   "outputs": [
    {
     "name": "stdout",
     "output_type": "stream",
     "text": [
      "2.15 µs ± 75.1 ns per loop (mean ± std. dev. of 7 runs, 100000 loops each)\n"
     ]
    }
   ],
   "source": [
    "%timeit factorial(12)"
   ]
  },
  {
   "cell_type": "markdown",
   "metadata": {},
   "source": [
    "## Testing Factorial Solution"
   ]
  },
  {
   "cell_type": "code",
   "execution_count": 6,
   "metadata": {},
   "outputs": [
    {
     "name": "stdout",
     "output_type": "stream",
     "text": [
      "ALL TEST CASES PASSED\n"
     ]
    }
   ],
   "source": [
    "from nose.tools import assert_equal\n",
    "\n",
    "class FactorialTest(object):\n",
    "    \n",
    "    def test(self, fact_func):\n",
    "        assert_equal(fact_func(6), 720)\n",
    "        assert_equal(fact_func(10), 3628800)\n",
    "        assert_equal(fact_func(3), 6)\n",
    "        assert_equal(fact_func(12), 479001600)\n",
    "        \n",
    "        print(\"ALL TEST CASES PASSED\")\n",
    "        \n",
    "t = FactorialTest()\n",
    "t.test(factorial)"
   ]
  },
  {
   "cell_type": "markdown",
   "metadata": {},
   "source": [
    "# ANAGRAM CHECK\n",
    "\n",
    "Two strings are considered Anagrams if they both contain equal number of **frequency of each string character**, or if **after being sorted are equal**, ignoring spaces and cases. \n",
    "\n",
    "**For example:**\n",
    "\n",
    "\"Clint Eastwood\" and \"Old West Action\" are Anagrams\n",
    "\"dog\" and \"god\"\n",
    "\n",
    "and \n",
    "\n",
    "\"pi za z\" and \"pizza\""
   ]
  },
  {
   "cell_type": "code",
   "execution_count": 7,
   "metadata": {},
   "outputs": [],
   "source": [
    "def anagram(s1, s2):\n",
    "    s1 = s1.replace(\" \", \"\").lower()\n",
    "    s2 = s2.replace(\" \", \"\").lower()\n",
    "    \n",
    "    return sorted(s1) == sorted(s2)\n",
    "    "
   ]
  },
  {
   "cell_type": "code",
   "execution_count": 8,
   "metadata": {},
   "outputs": [
    {
     "data": {
      "text/plain": [
       "True"
      ]
     },
     "execution_count": 8,
     "metadata": {},
     "output_type": "execute_result"
    }
   ],
   "source": [
    "anagram(\"jelly beans\", \"belly jeans\")"
   ]
  },
  {
   "cell_type": "code",
   "execution_count": 9,
   "metadata": {},
   "outputs": [
    {
     "data": {
      "text/plain": [
       "False"
      ]
     },
     "execution_count": 9,
     "metadata": {},
     "output_type": "execute_result"
    }
   ],
   "source": [
    "anagram(\"I scream\", \"Ice Cream\")"
   ]
  },
  {
   "cell_type": "markdown",
   "metadata": {},
   "source": [
    "### Time Solution using Magic functions"
   ]
  },
  {
   "cell_type": "code",
   "execution_count": 10,
   "metadata": {},
   "outputs": [
    {
     "name": "stdout",
     "output_type": "stream",
     "text": [
      "2.9 µs ± 89.3 ns per loop (mean ± std. dev. of 7 runs, 100000 loops each)\n"
     ]
    }
   ],
   "source": [
    "%timeit anagram(\"jelly beans\", \"belly jeans\")"
   ]
  },
  {
   "cell_type": "markdown",
   "metadata": {},
   "source": [
    "# Testing Anagram Solution"
   ]
  },
  {
   "cell_type": "code",
   "execution_count": 11,
   "metadata": {},
   "outputs": [
    {
     "name": "stdout",
     "output_type": "stream",
     "text": [
      "ALL TEST CASES PASSED\n"
     ]
    }
   ],
   "source": [
    "from nose.tools import assert_equal\n",
    "\n",
    "class AnagramTest(object):\n",
    "    \n",
    "     def test(self, anag):\n",
    "            assert_equal(anag(\"hello\", \"O hell\"), True)\n",
    "            assert_equal(anag(\"dog\", \"god\"), True)\n",
    "            assert_equal(anag(\"pizza\", \"pizaz\"), True)\n",
    "            assert_equal(anag(\"blue\", \"blu\"), False)\n",
    "            assert_equal(anag(\"213\", \"123\"), True)\n",
    "            \n",
    "            print(\"ALL TEST CASES PASSED\")\n",
    "\n",
    "t = AnagramTest()\n",
    "t.test(anagram)"
   ]
  },
  {
   "cell_type": "markdown",
   "metadata": {},
   "source": [
    "# WORD FREQUENCY"
   ]
  },
  {
   "cell_type": "code",
   "execution_count": 12,
   "metadata": {},
   "outputs": [
    {
     "name": "stdout",
     "output_type": "stream",
     "text": [
      "The first maximum occuring word is:  as\n",
      "Maximum occurence count:  6\n",
      "\n",
      "Frequency Set:  {'r': 2, 'as': 6, 'in': 6, 'robert': 6, 'de': 6, 'niro': 6, 'o': 1, 'oh': 1, 'my': 1, 'god': 1, 'b': 1, 'because': 1, 'e': 1, 'everybody': 1, 'look': 1, 't': 1, 'that': 1, 'is': 1}\n"
     ]
    }
   ],
   "source": [
    "def wordFrequency(filename):\n",
    "    freq = {}\n",
    "    for piece in open(filename).read().lower().split():\n",
    "        word = ''.join(c for c in piece if piece.isalpha())\n",
    "        if word:\n",
    "            freq[word] = 1 + freq.get(word, 0)\n",
    "\n",
    "    max_count = 0\n",
    "    max_word = ''\n",
    "    for w,c in freq.items():\n",
    "        if c > max_count:\n",
    "            max_count = c\n",
    "            max_word = w\n",
    "            \n",
    "    return (max_word, max_count, freq)\n",
    "        \n",
    "        \n",
    "sol = wordFrequency('testFile.txt')\n",
    "\n",
    "print('The first maximum occuring word is: ', sol[0])                \n",
    "print('Maximum occurence count: ', sol[1])\n",
    "print('\\nFrequency Set: ', sol[2])"
   ]
  },
  {
   "cell_type": "code",
   "execution_count": 13,
   "metadata": {},
   "outputs": [
    {
     "name": "stdout",
     "output_type": "stream",
     "text": [
      "hello, what your name?Abubakar\n"
     ]
    }
   ],
   "source": [
    "i = input('hello, what your name?')"
   ]
  },
  {
   "cell_type": "code",
   "execution_count": 14,
   "metadata": {},
   "outputs": [
    {
     "name": "stdout",
     "output_type": "stream",
     "text": [
      "Hi  Abubakar\n"
     ]
    }
   ],
   "source": [
    "print('Hi ', i)"
   ]
  },
  {
   "cell_type": "code",
   "execution_count": 28,
   "metadata": {},
   "outputs": [],
   "source": [
    "import math\n",
    "\n",
    "def isPrime(num):\n",
    "    for i in range(2, int(math.sqrt(num)):\n",
    "        if num % i == 0:\n",
    "            return False\n",
    "            \n",
    "    return True\n",
    "\n",
    "def print_prime(number):\n",
    "    if isPrime(number):\n",
    "        print(number, ' is prime')\n",
    "    else:\n",
    "        print(number, ' is not prime')"
   ]
  },
  {
   "cell_type": "code",
   "execution_count": 29,
   "metadata": {},
   "outputs": [
    {
     "name": "stdout",
     "output_type": "stream",
     "text": [
      "301  is not prime\n"
     ]
    }
   ],
   "source": [
    "print_prime(301)"
   ]
  },
  {
   "cell_type": "markdown",
   "metadata": {},
   "source": [
    "# STUDENT GRADER\n",
    "\n",
    "Students grade ranges from 1 to 100, a student can only pass if they score a grade that is 40 and above, if student's grade is 40 and above round grade up to the next 5 multiple after the current grade. However if grade is less than 38 return the grade since the student has already failed."
   ]
  },
  {
   "cell_type": "markdown",
   "metadata": {},
   "source": [
    "### Bruteforce approach"
   ]
  },
  {
   "cell_type": "code",
   "execution_count": 17,
   "metadata": {},
   "outputs": [],
   "source": [
    "def multiOf5(grade):\n",
    "    while(grade % 5 != 0):\n",
    "        grade += 1\n",
    "        \n",
    "    return grade"
   ]
  },
  {
   "cell_type": "code",
   "execution_count": 18,
   "metadata": {},
   "outputs": [],
   "source": [
    "def bruteGrader(grades):\n",
    "    for i in range(len(grades)):\n",
    "        if grades[i] >= 38:\n",
    "            grades[i] = multiOf5(grades[i]+1)\n",
    "            \n",
    "    return grades"
   ]
  },
  {
   "cell_type": "code",
   "execution_count": 19,
   "metadata": {},
   "outputs": [
    {
     "name": "stdout",
     "output_type": "stream",
     "text": [
      "Input:  [73, 38, 45, 85, 92, 39, 42, 54, 72, 67, 43]\n",
      "Output:  [75, 40, 50, 90, 95, 40, 45, 55, 75, 70, 45]\n"
     ]
    }
   ],
   "source": [
    "AllGrades = [73, 38, 45, 85, 92, 39, 42, 54, 72, 67, 43]\n",
    "print('Input: ', AllGrades)\n",
    "print('Output: ', bruteGrader(AllGrades))"
   ]
  },
  {
   "cell_type": "markdown",
   "metadata": {},
   "source": [
    "### Best / Efficient approach"
   ]
  },
  {
   "cell_type": "code",
   "execution_count": 20,
   "metadata": {},
   "outputs": [],
   "source": [
    "def effGrader(grades):\n",
    "    for i in range(len(grades)):\n",
    "        if grades[i] >= 38:\n",
    "            grades[i] = grades[i] - (grades[i]%5) + 5\n",
    "            \n",
    "    return grades"
   ]
  },
  {
   "cell_type": "code",
   "execution_count": 21,
   "metadata": {},
   "outputs": [
    {
     "name": "stdout",
     "output_type": "stream",
     "text": [
      "Input:  [73, 38, 45, 85, 92, 39, 42, 54, 72, 67, 43]\n",
      "Output:  [75, 40, 50, 90, 95, 40, 45, 55, 75, 70, 45]\n"
     ]
    }
   ],
   "source": [
    "Grades = [73, 38, 45, 85, 92, 39, 42, 54, 72, 67, 43]\n",
    "print('Input: ', Grades)\n",
    "print('Output: ', effGrader(Grades))"
   ]
  },
  {
   "cell_type": "code",
   "execution_count": 22,
   "metadata": {},
   "outputs": [
    {
     "name": "stdout",
     "output_type": "stream",
     "text": [
      "8.01 µs ± 708 ns per loop (mean ± std. dev. of 7 runs, 100000 loops each)\n",
      "4.32 µs ± 539 ns per loop (mean ± std. dev. of 7 runs, 100000 loops each)\n"
     ]
    }
   ],
   "source": [
    "%timeit bruteGrader([73, 38, 45, 85, 92, 39, 42, 54, 72, 67, 43])\n",
    "%timeit effGrader([73, 38, 45, 85, 92, 39, 42, 54, 72, 67, 43])"
   ]
  },
  {
   "cell_type": "markdown",
   "metadata": {},
   "source": [
    "# FINDERS"
   ]
  },
  {
   "cell_type": "code",
   "execution_count": 23,
   "metadata": {},
   "outputs": [
    {
     "name": "stdout",
     "output_type": "stream",
     "text": [
      "The missing number from finders1() is:  4\n",
      "5.03 µs ± 471 ns per loop (mean ± std. dev. of 7 runs, 100000 loops each)\n",
      "The missing number from finders2() is:  4\n",
      "1.82 µs ± 287 ns per loop (mean ± std. dev. of 7 runs, 100000 loops each)\n",
      "The missing number from finders3() is:  4\n",
      "1.44 µs ± 47.2 ns per loop (mean ± std. dev. of 7 runs, 1000000 loops each)\n",
      "The missing number from finders4() is:  4\n",
      "2.05 µs ± 163 ns per loop (mean ± std. dev. of 7 runs, 1000000 loops each)\n"
     ]
    }
   ],
   "source": [
    "import collections\n",
    "\n",
    "# Using Hash maps -- Complexity == O(n)\n",
    "def finders1(arr1, arr2):\n",
    "    d = collections.defaultdict(int)\n",
    "    for num in arr2:\n",
    "        d[num] += 1\n",
    "\n",
    "    for num in arr1:\n",
    "        if d[num] == 0:\n",
    "            return num\n",
    "        else:\n",
    "            d[num] -= 1\n",
    "    return -1\n",
    "\n",
    "\n",
    "# Using XOR (exclusive-OR) -- Complexity == O(n)\n",
    "def finders2(arr1, arr2):\n",
    "    result = 0\n",
    "    for num in arr1 + arr2:\n",
    "        result ^= num\n",
    "    return result\n",
    "\n",
    "# Using the zip method --- Complexity == O(nlogn). Both lists needs to be sorted first\n",
    "def finders3(arr1, arr2):\n",
    "    arr1.sort()\n",
    "    arr2.sort()\n",
    "\n",
    "    for num1, num2 in zip(arr1, arr2):\n",
    "        if num1 != num2:\n",
    "            return num1\n",
    "    return -1\n",
    "\n",
    "# Using Hash maps (without collections dict) -- Complexity == O(n)\n",
    "def finders4(arr1, arr2):\n",
    "    d = {}\n",
    "    for num in arr2:\n",
    "        if num in d:\n",
    "            d[num] += 1\n",
    "        else:\n",
    "            d[num] = 1\n",
    "\n",
    "    for num in arr1:\n",
    "        if num not in d or d[num] is 0:\n",
    "            return num\n",
    "        else:\n",
    "            d[num] -= 1\n",
    "    return -1\n",
    "\n",
    "arr1 = [2,1,5,4,6,7,9,0,8,3]\n",
    "arr2 = [2,1,5,6,7,9,8,3,0]\n",
    "\n",
    "print(\"The missing number from finders1() is: \", finders1(arr1, arr2))\n",
    "%timeit finders1(arr1, arr2)\n",
    "print(\"The missing number from finders2() is: \", finders2(arr1, arr2))\n",
    "%timeit finders2(arr1, arr2)\n",
    "print(\"The missing number from finders3() is: \", finders3(arr1, arr2))\n",
    "%timeit finders3(arr1, arr2)\n",
    "print(\"The missing number from finders4() is: \", finders4(arr1, arr2))\n",
    "%timeit finders4(arr1, arr2)"
   ]
  },
  {
   "cell_type": "code",
   "execution_count": 24,
   "metadata": {},
   "outputs": [
    {
     "data": {
      "text/plain": [
       "[2, 1, 4, 6, 8, 9, 0, 4]"
      ]
     },
     "execution_count": 24,
     "metadata": {},
     "output_type": "execute_result"
    }
   ],
   "source": [
    "[2,1,4,6] + [8,9,0,4]"
   ]
  },
  {
   "cell_type": "code",
   "execution_count": 25,
   "metadata": {},
   "outputs": [
    {
     "data": {
      "text/plain": [
       "[0, 1, 2, 4, 4, 6, 8, 9]"
      ]
     },
     "execution_count": 25,
     "metadata": {},
     "output_type": "execute_result"
    }
   ],
   "source": [
    "sorted([2, 1, 4, 6, 8, 9, 0, 4])"
   ]
  },
  {
   "cell_type": "code",
   "execution_count": 26,
   "metadata": {},
   "outputs": [
    {
     "name": "stdout",
     "output_type": "stream",
     "text": [
      "None\n"
     ]
    }
   ],
   "source": [
    "a = [2, 1, 4, 6, 8, 9, 0, 4]\n",
    "print(a.sort())"
   ]
  },
  {
   "cell_type": "code",
   "execution_count": 34,
   "metadata": {},
   "outputs": [
    {
     "name": "stdout",
     "output_type": "stream",
     "text": [
      "4.0\n",
      "8.0\n"
     ]
    }
   ],
   "source": [
    "import math\n",
    "\n",
    "print(math.sqrt(16))\n",
    "print(16/2)"
   ]
  },
  {
   "cell_type": "code",
   "execution_count": null,
   "metadata": {},
   "outputs": [],
   "source": []
  }
 ],
 "metadata": {
  "kernelspec": {
   "display_name": "Python 3",
   "language": "python",
   "name": "python3"
  },
  "language_info": {
   "codemirror_mode": {
    "name": "ipython",
    "version": 3
   },
   "file_extension": ".py",
   "mimetype": "text/x-python",
   "name": "python",
   "nbconvert_exporter": "python",
   "pygments_lexer": "ipython3",
   "version": "3.6.5"
  }
 },
 "nbformat": 4,
 "nbformat_minor": 2
}
