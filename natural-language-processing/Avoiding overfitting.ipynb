{
 "cells": [
  {
   "cell_type": "code",
   "execution_count": 103,
   "metadata": {},
   "outputs": [
    {
     "name": "stdout",
     "output_type": "stream",
     "text": [
      "(25000,)\n",
      "(25000,)\n",
      "preprocessing...\n",
      "(15000, 256)\n"
     ]
    }
   ],
   "source": [
    "from tensorflow import keras\n",
    "from keras import Sequential, layers, datasets, preprocessing, regularizers\n",
    "import numpy as np\n",
    "import matplotlib.pyplot as plt\n",
    "%matplotlib inline\n",
    "\n",
    "# save np.load\n",
    "np_load_old = np.load\n",
    "\n",
    "# modify the default parameters of np.load\n",
    "np.load = lambda *a,**k: np_load_old(*a, allow_pickle=True, **k)\n",
    "\n",
    "# call load_data with allow_pickle implicitly set to true\n",
    "(x_train, y_train), (x_test, y_test) = datasets.imdb.load_data(num_words=10000)\n",
    "# (x_train, y_train), (x_test, y_test) = datasets.imdb.load_data(num_words=88584)\n",
    "\n",
    "print(x_train.shape)\n",
    "print(x_test.shape)\n",
    "\n",
    "# restore np.load for future normal usage\n",
    "np.load = np_load_old\n",
    "del(np_load_old)\n",
    "\n",
    "\n",
    "word_index = keras.datasets.imdb.get_word_index()\n",
    "\n",
    "print('preprocessing...')\n",
    "x_train = preprocessing.sequence.pad_sequences(x_train, maxlen=256)\n",
    "x_test = preprocessing.sequence.pad_sequences(x_test, maxlen=256)\n",
    "\n",
    "x_val = x_train[:10000]\n",
    "y_val = y_train[:10000]\n",
    "\n",
    "x_train = x_train[10000:]\n",
    "y_train = y_train[10000:]\n",
    "\n",
    "print(x_train.shape)"
   ]
  },
  {
   "cell_type": "code",
   "execution_count": 104,
   "metadata": {},
   "outputs": [
    {
     "name": "stdout",
     "output_type": "stream",
     "text": [
      "build model\n",
      "train model\n",
      "Train on 15000 samples, validate on 10000 samples\n",
      "Epoch 1/5\n",
      "15000/15000 [==============================] - 169s 11ms/step - loss: 0.7146 - acc: 0.5236 - val_loss: 0.7073 - val_acc: 0.5677\n",
      "Epoch 2/5\n",
      "15000/15000 [==============================] - 175s 12ms/step - loss: 0.6945 - acc: 0.6220 - val_loss: 0.6780 - val_acc: 0.7166\n",
      "Epoch 3/5\n",
      "15000/15000 [==============================] - 177s 12ms/step - loss: 0.6446 - acc: 0.6998 - val_loss: 0.5751 - val_acc: 0.7206\n",
      "Epoch 4/5\n",
      "15000/15000 [==============================] - 193s 13ms/step - loss: 0.5004 - acc: 0.8051 - val_loss: 0.4090 - val_acc: 0.8274\n",
      "Epoch 5/5\n",
      "15000/15000 [==============================] - 283s 19ms/step - loss: 0.4066 - acc: 0.8493 - val_loss: 0.3681 - val_acc: 0.8528\n"
     ]
    }
   ],
   "source": [
    "print('build model')\n",
    "model = Sequential()\n",
    "# model.add(layers.Embedding(10000, 64))\n",
    "model.add(layers.Embedding(88584, 16))\n",
    "model.add(layers.Dropout(0.5))\n",
    "model.add(layers.LSTM(100))\n",
    "model.add(layers.Dropout(0.5))\n",
    "model.add(layers.Dense(16, activation='relu', kernel_regularizer=regularizers.l2(0.001)))\n",
    "model.add(layers.Dropout(0.5))\n",
    "model.add(layers.Dense(1, activation='sigmoid'))\n",
    "\n",
    "model.compile(optimizer='adam',\n",
    "              loss='binary_crossentropy',\n",
    "              metrics=['accuracy'])\n",
    "\n",
    "print('train model')\n",
    "history = model.fit(x_train,\n",
    "              y_train,\n",
    "              epochs=5,\n",
    "              batch_size=512,\n",
    "              validation_data=(x_val, y_val),\n",
    "              verbose=1)"
   ]
  },
  {
   "cell_type": "code",
   "execution_count": 105,
   "metadata": {},
   "outputs": [
    {
     "data": {
      "image/png": "[encoded data removed]",
      "text/plain": [
       "<Figure size 432x288 with 1 Axes>"
      ]
     },
     "metadata": {},
     "output_type": "display_data"
    }
   ],
   "source": [
    "plt.plot(history.history['loss'])\n",
    "plt.plot(history.history['val_loss'])\n",
    "\n",
    "plt.title('model loss')\n",
    "plt.ylabel('loss')\n",
    "plt.xlabel('epoch')\n",
    "plt.legend(['train','test'], loc='upper left')\n",
    "plt.show()"
   ]
  },
  {
   "cell_type": "code",
   "execution_count": 106,
   "metadata": {},
   "outputs": [],
   "source": [
    "# sample = 'this place is terrible'\n",
    "sample = \"I love this moment\"\n",
    "sample_label = 1\n",
    "# convert input sentence to tokens based on word_index\n",
    "inps = [word_index[word] for word in sample.split() if word in word_index]\n",
    "# the sentence length should be the same as the input sentences\n",
    "inps = pad_sequences([inps], maxlen=256)"
   ]
  },
  {
   "cell_type": "code",
   "execution_count": 107,
   "metadata": {},
   "outputs": [
    {
     "name": "stdout",
     "output_type": "stream",
     "text": [
      "1/1 [==============================] - 0s 152ms/step\n",
      "Accuracy: 0.0\n",
      "Sentiment score: 0.08681567013263702\n"
     ]
    }
   ],
   "source": [
    "print('Accuracy:', model.evaluate(inps, [sample_label], batch_size=1)[1])\n",
    "print('Sentiment score: {}'.format(model.predict(inps)[0][0]))"
   ]
  },
  {
   "cell_type": "code",
   "execution_count": null,
   "metadata": {},
   "outputs": [],
   "source": []
  }
 ],
 "metadata": {
  "kernelspec": {
   "display_name": "Python 3",
   "language": "python",
   "name": "python3"
  },
  "language_info": {
   "codemirror_mode": {
    "name": "ipython",
    "version": 3
   },
   "file_extension": ".py",
   "mimetype": "text/x-python",
   "name": "python",
   "nbconvert_exporter": "python",
   "pygments_lexer": "ipython3",
   "version": "3.6.5"
  }
 },
 "nbformat": 4,
 "nbformat_minor": 2
}
