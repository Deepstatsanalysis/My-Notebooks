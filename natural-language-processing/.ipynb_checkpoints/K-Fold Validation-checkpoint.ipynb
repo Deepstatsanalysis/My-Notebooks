{
 "cells": [
  {
   "cell_type": "code",
   "execution_count": 18,
   "metadata": {},
   "outputs": [
    {
     "name": "stdout",
     "output_type": "stream",
     "text": [
      "(25000,)\n",
      "(25000,)\n",
      "preprocessing...\n"
     ]
    }
   ],
   "source": [
    "from tensorflow import keras\n",
    "\n",
    "# (train_data, train_labels), (test_data, test_labels) = imdb.load_data(num_words=10000)\n",
    "import numpy as np\n",
    "\n",
    "# save np.load\n",
    "np_load_old = np.load\n",
    "\n",
    "# modify the default parameters of np.load\n",
    "np.load = lambda *a,**k: np_load_old(*a, allow_pickle=True, **k)\n",
    "\n",
    "# call load_data with allow_pickle implicitly set to true\n",
    "(x_train, y_train), (x_test, y_test) = keras.datasets.imdb.load_data(num_words=88584)\n",
    "\n",
    "print(x_train.shape)\n",
    "print(x_test.shape)\n",
    "\n",
    "# restore np.load for future normal usage\n",
    "np.load = np_load_old\n",
    "del(np_load_old)\n",
    "\n",
    "\n",
    "word_index = keras.datasets.imdb.get_word_index()\n",
    "\n",
    "print('preprocessing...')\n",
    "x_train = keras.preprocessing.sequence.pad_sequences(x_train, maxlen=256)\n",
    "x_test = keras.preprocessing.sequence.pad_sequences(x_test, maxlen=256)"
   ]
  },
  {
   "cell_type": "code",
   "execution_count": 19,
   "metadata": {},
   "outputs": [],
   "source": [
    "def get_model():\n",
    "    print('build model')\n",
    "    model = keras.Sequential()\n",
    "    model.add(keras.layers.Embedding(88584, 16))\n",
    "    model.add(keras.layers.LSTM(100))\n",
    "    model.add(keras.layers.Dense(16, activation='relu'))\n",
    "    model.add(keras.layers.Dense(1, activation='sigmoid'))\n",
    "\n",
    "    model.compile(optimizer='adam',\n",
    "                  loss='binary_crossentropy',\n",
    "                  metrics=['accuracy'])\n",
    "    return model"
   ]
  },
  {
   "cell_type": "code",
   "execution_count": 22,
   "metadata": {},
   "outputs": [
    {
     "name": "stdout",
     "output_type": "stream",
     "text": [
      "build model\n",
      "Epoch 1/2\n",
      "18750/18750 [==============================] - 265s 14ms/sample - loss: 0.5594 - acc: 0.7081\n",
      "Epoch 2/2\n",
      "18750/18750 [==============================] - 263s 14ms/sample - loss: 0.2554 - acc: 0.8999\n",
      "6250/6250 [==============================] - 14s 2ms/sample - loss: 0.3135 - acc: 0.8754\n",
      "build model\n",
      "Epoch 1/2\n",
      "18750/18750 [==============================] - 274s 15ms/sample - loss: 0.5010 - acc: 0.7436\n",
      "Epoch 2/2\n",
      "18750/18750 [==============================] - 271s 14ms/sample - loss: 0.2393 - acc: 0.9065\n",
      "6250/6250 [==============================] - 14s 2ms/sample - loss: 0.4522 - acc: 0.8664\n",
      "build model\n",
      "Epoch 1/2\n",
      "18750/18750 [==============================] - 275s 15ms/sample - loss: 0.5071 - acc: 0.7419\n",
      "Epoch 2/2\n",
      "18750/18750 [==============================] - 275s 15ms/sample - loss: 0.2409 - acc: 0.9075\n",
      "6250/6250 [==============================] - 15s 2ms/sample - loss: 0.3279 - acc: 0.8656\n",
      "build model\n",
      "Epoch 1/2\n",
      "18750/18750 [==============================] - 292s 16ms/sample - loss: 0.4824 - acc: 0.7647\n",
      "Epoch 2/2\n",
      "18750/18750 [==============================] - 286s 15ms/sample - loss: 0.2215 - acc: 0.9161\n",
      "6250/6250 [==============================] - 14s 2ms/sample - loss: 0.3144 - acc: 0.8797\n",
      "build model\n",
      "Epoch 1/2\n",
      "18750/18750 [==============================] - 284s 15ms/sample - loss: 0.5151 - acc: 0.7498\n",
      "Epoch 2/2\n",
      "18750/18750 [==============================] - 283s 15ms/sample - loss: 0.2580 - acc: 0.8981\n",
      "6250/6250 [==============================] - 14s 2ms/sample - loss: 0.3457 - acc: 0.8507\n",
      "build model\n",
      "Epoch 1/2\n",
      "18750/18750 [==============================] - 299s 16ms/sample - loss: 0.4994 - acc: 0.7491\n",
      "Epoch 2/2\n",
      "18750/18750 [==============================] - 296s 16ms/sample - loss: 0.2421 - acc: 0.9092\n",
      "6250/6250 [==============================] - 15s 2ms/sample - loss: 0.3452 - acc: 0.8659\n",
      "build model\n",
      "Epoch 1/2\n",
      "18750/18750 [==============================] - 308s 16ms/sample - loss: 0.4890 - acc: 0.7617\n",
      "Epoch 2/2\n",
      "18750/18750 [==============================] - 306s 16ms/sample - loss: 0.2365 - acc: 0.9100\n",
      "6250/6250 [==============================] - 14s 2ms/sample - loss: 0.3207 - acc: 0.8701\n",
      "build model\n",
      "Epoch 1/2\n",
      "18750/18750 [==============================] - 306s 16ms/sample - loss: 0.4870 - acc: 0.7507\n",
      "Epoch 2/2\n",
      "18750/18750 [==============================] - 298s 16ms/sample - loss: 0.2324 - acc: 0.9137\n",
      "6250/6250 [==============================] - 15s 2ms/sample - loss: 0.4149 - acc: 0.8515\n",
      "build model\n",
      "Epoch 1/2\n",
      "18750/18750 [==============================] - 315s 17ms/sample - loss: 0.4928 - acc: 0.7514\n",
      "Epoch 2/2\n",
      "18750/18750 [==============================] - 309s 16ms/sample - loss: 0.2467 - acc: 0.9052\n",
      "6250/6250 [==============================] - 14s 2ms/sample - loss: 0.3101 - acc: 0.8784\n",
      "build model\n",
      "Epoch 1/2\n",
      "18750/18750 [==============================] - 323s 17ms/sample - loss: 0.4973 - acc: 0.7436\n",
      "Epoch 2/2\n",
      "18750/18750 [==============================] - 316s 17ms/sample - loss: 0.2191 - acc: 0.9168\n",
      "6250/6250 [==============================] - 15s 2ms/sample - loss: 0.3136 - acc: 0.8768\n",
      "build model\n",
      "Epoch 1/2\n",
      "18750/18750 [==============================] - 334s 18ms/sample - loss: 0.4851 - acc: 0.7622\n",
      "Epoch 2/2\n",
      "18750/18750 [==============================] - 324s 17ms/sample - loss: 0.2147 - acc: 0.9199\n",
      "6250/6250 [==============================] - 15s 2ms/sample - loss: 0.4953 - acc: 0.8290\n",
      "build model\n",
      "Epoch 1/2\n",
      "18750/18750 [==============================] - 338s 18ms/sample - loss: 0.4764 - acc: 0.7621\n",
      "Epoch 2/2\n",
      "18750/18750 [==============================] - 329s 18ms/sample - loss: 0.2113 - acc: 0.9204\n",
      "6250/6250 [==============================] - 15s 2ms/sample - loss: 0.3117 - acc: 0.8752\n",
      "build model\n",
      "Epoch 1/2\n",
      "18750/18750 [==============================] - 347s 19ms/sample - loss: 0.4843 - acc: 0.7571\n",
      "Epoch 2/2\n",
      "18750/18750 [==============================] - 354s 19ms/sample - loss: 0.2447 - acc: 0.9062\n",
      "25000/25000 [==============================] - 66s 3ms/sample - loss: 0.3991 - acc: 0.8449\n",
      "Loss: 0.3991021897649765 Accuracy: 0.84492\n"
     ]
    }
   ],
   "source": [
    "import matplotlib.pyplot as plt\n",
    "%matplotlib inline\n",
    "    \n",
    "def plot_train_acc(history):\n",
    "    plt.plot(history.history['acc'])\n",
    "\n",
    "    plt.title('train accuracy')\n",
    "    plt.ylabel('accuracy')\n",
    "    plt.xlabel('epoch')\n",
    "    plt.legend(['training accuracy'], loc='upper left')\n",
    "    plt.show()\n",
    "\n",
    "def plot_val_acc(val_scores):\n",
    "    plt.plot(val_scores)\n",
    "\n",
    "    plt.title('val accuracy')\n",
    "    plt.ylabel('scores')\n",
    "    plt.xlabel('k folds')\n",
    "    plt.legend(['validation scores'], loc='upper left')\n",
    "    plt.show()\n",
    "    \n",
    "# K-Fold Validation\n",
    "def k_fold(k):\n",
    "    num_validation_samples = len(x_train) // k\n",
    "    # np.random.shuffle(x_train, y_train)\n",
    "    validation_scores = []\n",
    "\n",
    "    for fold in range(k):\n",
    "        print(k, \" fold....\")\n",
    "        \n",
    "        x_val = x_train[num_validation_samples * fold:num_validation_samples * (fold + 1)]\n",
    "        y_val = y_train[num_validation_samples * fold:num_validation_samples * (fold + 1)]\n",
    "\n",
    "        x_train_set = np.concatenate([x_train[:num_validation_samples * fold], x_train[num_validation_samples * (fold + 1):]])   \n",
    "        y_train_set = np.concatenate([y_train[:num_validation_samples * fold], y_train[num_validation_samples * (fold + 1):]])\n",
    "\n",
    "        model = get_model()\n",
    "        history = model.fit(x_train_set,\n",
    "                      y_train_set,\n",
    "                      epochs=2,\n",
    "                      verbose=1)\n",
    "        \n",
    "        plot_train_acc(history)\n",
    "        \n",
    "        validation_score = model.evaluate(x_val, y_val)\n",
    "        validation_scores.append(validation_score)\n",
    "        \n",
    "        plot_val_acc(validation_scores)\n",
    "\n",
    "    validation_score = np.average(validation_scores)\n",
    "    return validation_score\n",
    "    \n",
    "score = k_fold(5)\n",
    "print(score)\n",
    "# p = 3\n",
    "# p_scores = []\n",
    "\n",
    "# #Iterated K-Fold Validation\n",
    "# for i in range(p):\n",
    "#     print(i, \" step iteration....\")\n",
    "#     # K-Fold Validation\n",
    "#     score = k_fold(5)\n",
    "#     p_scores.append(score)\n",
    "\n",
    "# p_scores = np.average(p_scores)\n",
    "\n",
    "model = get_model()\n",
    "\n",
    "# train on all sets after k-fold validation -- (train + validation set)\n",
    "model.fit(x_train_set, y_train_set, epochs=2, verbose=1)\n",
    "test_score = model.evaluate(x_test, y_test)\n",
    "print('Loss:', test_score[0], 'Accuracy:', test_score[1])"
   ]
  },
  {
   "cell_type": "code",
   "execution_count": 25,
   "metadata": {},
   "outputs": [
    {
     "name": "stdout",
     "output_type": "stream",
     "text": [
      "0.6107589980305234\n"
     ]
    },
    {
     "data": {
      "image/png": "[encoded data removed]",
      "text/plain": [
       "<Figure size 432x288 with 1 Axes>"
      ]
     },
     "metadata": {},
     "output_type": "display_data"
    }
   ],
   "source": [
    "import matplotlib.pyplot as plt\n",
    "%matplotlib inline\n",
    "\n",
    "print(p_scores)\n",
    "plt.plot(p_scores)\n",
    "# plt.plot(p_scores[1])\n",
    "# plt.plot(p_scores[2])\n",
    "\n",
    "plt.title('iterated k-fold validation -- model accuracy')\n",
    "plt.ylabel('accuracy')\n",
    "plt.xlabel('p iteration')\n",
    "plt.legend(['0','1', '2'], loc='upper left')\n",
    "plt.show()"
   ]
  },
  {
   "cell_type": "code",
   "execution_count": 11,
   "metadata": {},
   "outputs": [
    {
     "name": "stdout",
     "output_type": "stream",
     "text": [
      "save trained model...\n"
     ]
    }
   ],
   "source": [
    "import h5py\n",
    "from tensorflow.keras.models import model_from_json\n",
    "from tensorflow.keras.models import load_model\n",
    "\n",
    "# serialize model to JSON\n",
    "#  the keras model which is trained is defined as 'model' in this example\n",
    "model_json = model.to_json()\n",
    "\n",
    "\n",
    "with open(\"models/model_kfv.json\", \"w\") as json_file:\n",
    "    json_file.write(model_json)\n",
    "\n",
    "print('save trained model...')\n",
    "model.save('models/sentiment_keras_kfv.h5')\n",
    "# # del(model)\n",
    "\n",
    "# serialize weights to HDF5\n",
    "model.save_weights(\"models/model_kfv.h5\")"
   ]
  },
  {
   "cell_type": "code",
   "execution_count": null,
   "metadata": {},
   "outputs": [],
   "source": [
    "# load json and create model\n",
    "json_file = open(\"models/model_kfv.json\", \"r\")\n",
    "load_model_json = json_file.read()\n",
    "json_file.close()\n",
    "\n",
    "loaded_model = model_from_json(load_model_json)\n",
    "# load weights into new model\n",
    "loaded_model.load_weights(\"models/model_kfv.h5\")\n",
    "\n",
    "print('load model...')\n",
    "_model_ = load_model('models/sentiment_keras_kfv.h5')"
   ]
  },
  {
   "cell_type": "code",
   "execution_count": 16,
   "metadata": {},
   "outputs": [],
   "source": [
    "from keras.preprocessing.sequence import pad_sequences\n",
    "# sample = 'I hate been here, this place is terrible'\n",
    "sample = \"I love this moment, you're so awesome\"\n",
    "sample_label = 0\n",
    "# convert input sentence to tokens based on word_index\n",
    "inps = [word_index[word] for word in sample.split() if word in word_index]\n",
    "# the sentence length should be the same as the input sentences\n",
    "inps = pad_sequences([inps], maxlen=256)"
   ]
  },
  {
   "cell_type": "code",
   "execution_count": 17,
   "metadata": {},
   "outputs": [
    {
     "name": "stdout",
     "output_type": "stream",
     "text": [
      "1/1 [==============================] - 0s 38ms/sample - loss: 0.4996 - acc: 1.0000\n",
      "Accuracy: 1.0\n",
      "Sentiment score: 0.6068022847175598\n"
     ]
    }
   ],
   "source": [
    "print('Accuracy:', model.evaluate(inps, [sample_label], batch_size=1)[1])\n",
    "print('Sentiment score: {}'.format(model.predict(inps)[0][0]))"
   ]
  },
  {
   "cell_type": "code",
   "execution_count": null,
   "metadata": {},
   "outputs": [],
   "source": []
  }
 ],
 "metadata": {
  "kernelspec": {
   "display_name": "Python 3",
   "language": "python",
   "name": "python3"
  },
  "language_info": {
   "codemirror_mode": {
    "name": "ipython",
    "version": 3
   },
   "file_extension": ".py",
   "mimetype": "text/x-python",
   "name": "python",
   "nbconvert_exporter": "python",
   "pygments_lexer": "ipython3",
   "version": "3.6.5"
  }
 },
 "nbformat": 4,
 "nbformat_minor": 2
}
