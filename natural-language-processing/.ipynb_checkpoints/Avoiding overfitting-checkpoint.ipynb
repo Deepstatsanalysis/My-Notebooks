{
 "cells": [
  {
   "cell_type": "code",
   "execution_count": 14,
   "metadata": {},
   "outputs": [
    {
     "name": "stdout",
     "output_type": "stream",
     "text": [
      "(25000,)\n",
      "(25000,)\n",
      "preprocessing...\n",
      "(20000, 256)\n"
     ]
    }
   ],
   "source": [
    "from tensorflow import keras\n",
    "from keras import Sequential, layers, datasets, preprocessing, regularizers\n",
    "import numpy as np\n",
    "import matplotlib.pyplot as plt\n",
    "%matplotlib inline\n",
    "\n",
    "# save np.load\n",
    "np_load_old = np.load\n",
    "\n",
    "# modify the default parameters of np.load\n",
    "np.load = lambda *a,**k: np_load_old(*a, allow_pickle=True, **k)\n",
    "\n",
    "# call load_data with allow_pickle implicitly set to true\n",
    "# (x_train, y_train), (x_test, y_test) = imdb.load_data(num_words=10000)\n",
    "(x_train, y_train), (x_test, y_test) = datasets.imdb.load_data(num_words=88584)\n",
    "\n",
    "print(x_train.shape)\n",
    "print(x_test.shape)\n",
    "\n",
    "# restore np.load for future normal usage\n",
    "np.load = np_load_old\n",
    "del(np_load_old)\n",
    "\n",
    "\n",
    "word_index = keras.datasets.imdb.get_word_index()\n",
    "\n",
    "print('preprocessing...')\n",
    "x_train = preprocessing.sequence.pad_sequences(x_train, maxlen=256)\n",
    "x_test = preprocessing.sequence.pad_sequences(x_test, maxlen=256)\n",
    "\n",
    "x_val = x_train[:5000]\n",
    "y_val = y_train[:5000]\n",
    "\n",
    "x_train = x_train[5000:]\n",
    "y_train = y_train[5000:]\n",
    "\n",
    "print(x_train.shape)"
   ]
  },
  {
   "cell_type": "code",
   "execution_count": 4,
   "metadata": {},
   "outputs": [
    {
     "name": "stdout",
     "output_type": "stream",
     "text": [
      "build model\n",
      "train model\n",
      "Train on 20000 samples, validate on 5000 samples\n",
      "WARNING:tensorflow:From C:\\Users\\EAZETNG\\Anaconda3\\lib\\site-packages\\tensorflow\\python\\ops\\math_ops.py:3066: to_int32 (from tensorflow.python.ops.math_ops) is deprecated and will be removed in a future version.\n",
      "Instructions for updating:\n",
      "Use tf.cast instead.\n",
      "Epoch 1/5\n",
      "20000/20000 [==============================] - 139s 7ms/sample - loss: 0.7043 - acc: 0.6002 - val_loss: 0.6505 - val_acc: 0.7562\n",
      "Epoch 2/5\n",
      "20000/20000 [==============================] - 149s 7ms/sample - loss: 0.6212 - acc: 0.6647 - val_loss: 0.6505 - val_acc: 0.6558\n",
      "Epoch 3/5\n",
      "20000/20000 [==============================] - 163s 8ms/sample - loss: 0.5251 - acc: 0.7961 - val_loss: 0.4402 - val_acc: 0.8106\n",
      "Epoch 4/5\n",
      "20000/20000 [==============================] - 172s 9ms/sample - loss: 0.2868 - acc: 0.8950 - val_loss: 0.3894 - val_acc: 0.8580\n",
      "Epoch 5/5\n",
      "20000/20000 [==============================] - 180s 9ms/sample - loss: 0.1919 - acc: 0.9383 - val_loss: 0.3401 - val_acc: 0.8686\n"
     ]
    }
   ],
   "source": [
    "print('build model')\n",
    "model = Sequential()\n",
    "# model.add(layers.Embedding(88584, 16))\n",
    "# model.add(layers.LSTM(100))\n",
    "model.add(layers.Dense(16, activation='relu', kernel_regularizer=regularizers.l2(0.001)))\n",
    "model.add(layers.Dropout(0.5))\n",
    "model.add(layers.Dense(16, activation='relu', kernel_regularizer=regularizers.l2(0.001)))\n",
    "model.add(layers.Dropout(0.5))\n",
    "model.add(layers.Dense(1, activation='sigmoid'))\n",
    "\n",
    "model.compile(optimizer='adam',\n",
    "              loss='binary_crossentropy',\n",
    "              metrics=['accuracy'])\n",
    "\n",
    "print('train model')\n",
    "history = model.fit(x_train,\n",
    "              y_train,\n",
    "              epochs=10,\n",
    "              batch_size=512,\n",
    "              validation_data=(x_val, y_val),\n",
    "              verbose=1)"
   ]
  },
  {
   "cell_type": "code",
   "execution_count": 5,
   "metadata": {},
   "outputs": [
    {
     "data": {
      "image/png": "[encoded data removed]",
      "text/plain": [
       "<Figure size 432x288 with 1 Axes>"
      ]
     },
     "metadata": {},
     "output_type": "display_data"
    }
   ],
   "source": [
    "plt.plot(history.history['loss'])\n",
    "plt.plot(history.history['val_loss'])\n",
    "\n",
    "plt.title('model loss')\n",
    "plt.ylabel('loss')\n",
    "plt.xlabel('epoch')\n",
    "plt.legend(['train','test'], loc='upper left')\n",
    "plt.show()"
   ]
  },
  {
   "cell_type": "code",
   "execution_count": 10,
   "metadata": {},
   "outputs": [],
   "source": [
    "from keras.preprocessing.sequence import pad_sequences\n",
    "sample = 'I hate been here, this place is terrible'\n",
    "# sample = \"I love this moment, you're so awesome\"\n",
    "sample_label = 0\n",
    "# convert input sentence to tokens based on word_index\n",
    "inps = [word_index[word] for word in sample.split() if word in word_index]\n",
    "# the sentence length should be the same as the input sentences\n",
    "inps = pad_sequences([inps], maxlen=256)"
   ]
  },
  {
   "cell_type": "code",
   "execution_count": 11,
   "metadata": {},
   "outputs": [
    {
     "name": "stdout",
     "output_type": "stream",
     "text": [
      "1/1 [==============================] - 0s 64ms/sample - loss: 0.0242 - acc: 1.0000\n",
      "Accuracy: 1.0\n",
      "Sentiment score: 0.007562693208456039\n"
     ]
    }
   ],
   "source": [
    "print('Accuracy:', model.evaluate(inps, [sample_label], batch_size=1)[1])\n",
    "print('Sentiment score: {}'.format(model.predict(inps)[0][0]))"
   ]
  },
  {
   "cell_type": "code",
   "execution_count": null,
   "metadata": {},
   "outputs": [],
   "source": []
  }
 ],
 "metadata": {
  "kernelspec": {
   "display_name": "Python 3",
   "language": "python",
   "name": "python3"
  },
  "language_info": {
   "codemirror_mode": {
    "name": "ipython",
    "version": 3
   },
   "file_extension": ".py",
   "mimetype": "text/x-python",
   "name": "python",
   "nbconvert_exporter": "python",
   "pygments_lexer": "ipython3",
   "version": "3.6.5"
  }
 },
 "nbformat": 4,
 "nbformat_minor": 2
}
