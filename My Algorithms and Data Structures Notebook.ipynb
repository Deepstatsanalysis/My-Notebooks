{
 "cells": [
  {
   "cell_type": "markdown",
   "metadata": {},
   "source": [
    "# ALGORITHMS AND DATA STRUCTURES"
   ]
  },
  {
   "cell_type": "markdown",
   "metadata": {},
   "source": [
    "## Bubble Sort\n",
    "\n",
    "This algorithm uses the bruteforce approach to sort an unsorted list, it uses 2 for loops, one nested in the other. The first loop iterates over the entire list in a reversed order, while the second (inner) loop iterates up the current index of the first loop, comparing each element with its consecutive element and swapping if the consecutive elements are out of order in ascending order.\n",
    "\n",
    "The idea of the Bubble is simple, the largest element (number) bubbles to the right (it's rightful position when list is fully sorted) on the first iteration, followed by the second largest element on the second iteration and so on, this is where the algorithm gets its name from.\n",
    "\n",
    "Since for each element in the first loop, the inner loop will have to make **n-1** comparisons and because the first loop itself also iterates through the entire list (of size **n**). \n",
    "\n",
    "This algorithm has a ** Complexity ** of $$O(n^2)$$."
   ]
  },
  {
   "cell_type": "code",
   "execution_count": 2,
   "metadata": {},
   "outputs": [],
   "source": [
    "def bubbleSort(arr):\n",
    "    for n in range(len(arr)-1, 0, -1):\n",
    "        for i in range(n):\n",
    "            if arr[i] > arr[i+1]:\n",
    "                temp = arr[i]\n",
    "                arr[i] = arr[i+1]\n",
    "                arr[i+1] = temp\n",
    "                "
   ]
  },
  {
   "cell_type": "code",
   "execution_count": 3,
   "metadata": {},
   "outputs": [
    {
     "name": "stdout",
     "output_type": "stream",
     "text": [
      "\n",
      "Unsorted List:  [2, 4, 9, 1, 0, 2, 7, 2, 9, 1, 9, 2, 7, 8, 8, 2, 3, 10, 5, 6]\n",
      "\n",
      "Sorted List:  [0, 1, 1, 2, 2, 2, 2, 2, 3, 4, 5, 6, 7, 7, 8, 8, 9, 9, 9, 10]\n"
     ]
    }
   ],
   "source": [
    "Arr = [2,4,9,1,0,2,7,2,9,1,9,2,7,8,8,2,3,10,5,6]\n",
    "print(\"\\nUnsorted List: \", Arr)\n",
    "\n",
    "bubbleSort(Arr)\n",
    "print(\"\\nSorted List: \", Arr)"
   ]
  },
  {
   "cell_type": "markdown",
   "metadata": {},
   "source": [
    "# Selection Sort\n",
    "\n",
    "The selection sort improves on the bubble sort by making only one exchange for every pass through the list. In order to achieve this, the algorithm looks for the largest value in the list as it makes a pass, and after completing the pass places the value at its actual location.\n",
    "\n",
    "As with the bubbles sort, after the first pass the largest value is at its actual position and after the second pass the second largest value is also at it's actual position, following the first largest.\n",
    "\n",
    "This algorithm has a **complexity** of $$O(n^2)$$.\n"
   ]
  },
  {
   "cell_type": "code",
   "execution_count": 4,
   "metadata": {},
   "outputs": [],
   "source": [
    "def SelectionSort(arr):\n",
    "    for fillslot in range(len(arr)-1, 0, -1):\n",
    "        maxPosition = 0\n",
    "        for location in range(1, fillslot+1):\n",
    "            if arr[location] > arr[maxPosition]:\n",
    "                maxPosition = location\n",
    "        \n",
    "        temp = arr[fillslot]\n",
    "        arr[fillslot] = arr[maxPosition]\n",
    "        arr[maxPosition] =  temp\n",
    "        "
   ]
  },
  {
   "cell_type": "code",
   "execution_count": 5,
   "metadata": {},
   "outputs": [
    {
     "name": "stdout",
     "output_type": "stream",
     "text": [
      "\n",
      "Unsorted List:  [2, 4, 9, 1, 0, 2, 7, 2, 9, 1, 9, 2, 7, 8, 8, 2, 3, 10, 5, 6]\n",
      "\n",
      "Sorted List:  [0, 1, 1, 2, 2, 2, 2, 2, 3, 4, 5, 6, 7, 7, 8, 8, 9, 9, 9, 10]\n"
     ]
    }
   ],
   "source": [
    "Arr = [2,4,9,1,0,2,7,2,9,1,9,2,7,8,8,2,3,10,5,6]\n",
    "print(\"\\nUnsorted List: \", Arr)\n",
    "\n",
    "SelectionSort(Arr)\n",
    "print(\"\\nSorted List: \", Arr)"
   ]
  },
  {
   "cell_type": "markdown",
   "metadata": {},
   "source": [
    "# Insertion Sort\n",
    "\n",
    "This algorithm builds the final sorted list one element at a time, it first assumes that the element at the first index (index 0) of the list is sorted, and it then compares the remaining list elements (from index 1 onwards) to the sorted elements and appropraitely inserting each element at its correct position in the sorted list.\n",
    "\n",
    "Insertion sort is much less efficient on large lists compared to more advanced algorithms like quicksort, heapsort and mergesort.\n",
    "\n",
    "### Complexity\n",
    "**Worst-Case: ** $$O(n^2)$$\n",
    "**Best-Case: ** $$O(n)$$"
   ]
  },
  {
   "cell_type": "code",
   "execution_count": 20,
   "metadata": {},
   "outputs": [],
   "source": [
    "def insertion_sort(arr):\n",
    "    for i in range(1, len(arr)):\n",
    "        currentValue = arr[i]\n",
    "        position = i\n",
    "        \n",
    "        while position>0 and arr[position-1]>currentValue:\n",
    "            arr[position] = arr[position-1]\n",
    "            position -= 1\n",
    "            \n",
    "        arr[position] = currentValue\n",
    "            "
   ]
  },
  {
   "cell_type": "code",
   "execution_count": 21,
   "metadata": {},
   "outputs": [
    {
     "name": "stdout",
     "output_type": "stream",
     "text": [
      "Unsorted:  [4, 1, 7, 2, 9, 8, 12, 34, 74, 12]\n",
      "Sorted:  [1, 2, 4, 7, 8, 9, 12, 12, 34, 74]\n"
     ]
    }
   ],
   "source": [
    "A = [4,1,7,2,9,8,12,34,74,12]\n",
    "print('Unsorted: ', A)\n",
    "insertion_sort(A)\n",
    "print('Sorted: ', A)"
   ]
  },
  {
   "cell_type": "markdown",
   "metadata": {},
   "source": [
    "## Merge Sort\n",
    "\n",
    "This algorithm uses the **divide and conquer** approach to recursively break-down the list elements into individual elements (every single element on it's own is sorted) and then merges them one after the other, in order.\n",
    "\n",
    "\n",
    "#### Implementation\n",
    "\n",
    "When provided with an unsorted list to sort, given that the size of the list isn't less than 2 (a List of size 0 or 1 is considered sorted), the algorithm first divides the size of the list by 2 to get the mid range. It uses 2 additional lists and the calculated mid-range to temporarily copy each half of the original list elements into. It then recursively repeats this procedure until each subsequent list can no longer be broken down (hence sorted). It then begins to merge each smaller lists back into the original, while comparing the elements and arranges them in order.\n",
    "\n",
    "This algorithm has a ** Complexity** of $$O(nlog(n))$$."
   ]
  },
  {
   "cell_type": "code",
   "execution_count": 6,
   "metadata": {},
   "outputs": [],
   "source": [
    "\n",
    "def merge(arr, arrL, arrR):\n",
    "    i = 0\n",
    "    j = 0\n",
    "    k = 0\n",
    "        \n",
    "    while i < len(arrL) and j < len(arrR):\n",
    "        if arrL[i] < arrR[j]:\n",
    "            arr[k] = arrL[i]\n",
    "            i+=1\n",
    "        else:\n",
    "            arr[k] = arrR[j]\n",
    "            j+=1\n",
    "        k+=1\n",
    "    \n",
    "    while i < len(arrL):\n",
    "        arr[k] = arrL[i]\n",
    "        i+=1\n",
    "        k+=1\n",
    "        \n",
    "    while j < len(arrR):\n",
    "        arr[k] = arrR[j]\n",
    "        j+=1\n",
    "        k+=1\n",
    "        \n",
    "\n",
    "def mergeSort(arr):\n",
    "    if(len(arr) < 2):\n",
    "        return arr\n",
    "    \n",
    "    mid = int(len(arr) / 2)\n",
    "    \n",
    "    arrLeft = arr[:mid]\n",
    "    arrRight = arr[mid:]\n",
    "        \n",
    "    mergeSort(arrLeft)\n",
    "    mergeSort(arrRight)\n",
    "    merge(arr, arrLeft, arrRight)\n",
    "    "
   ]
  },
  {
   "cell_type": "code",
   "execution_count": 7,
   "metadata": {},
   "outputs": [
    {
     "name": "stdout",
     "output_type": "stream",
     "text": [
      "\n",
      "Unsorted List:  [2, 4, 9, 1, 0, 2, 7, 2, 9, 1, 9, 2, 7, 8, 8, 2, 3, 10, 5, 6]\n",
      "\n",
      "Sorted List:  [0, 1, 1, 2, 2, 2, 2, 2, 3, 4, 5, 6, 7, 7, 8, 8, 9, 9, 9, 10]\n"
     ]
    }
   ],
   "source": [
    "Arr = [2,4,9,1,0,2,7,2,9,1,9,2,7,8,8,2,3,10,5,6]\n",
    "print(\"\\nUnsorted List: \", Arr)\n",
    "\n",
    "mergeSort(Arr)\n",
    "print(\"\\nSorted List: \", Arr)"
   ]
  },
  {
   "cell_type": "markdown",
   "metadata": {},
   "source": [
    "# QUICKSORT\n",
    "\n",
    "This algorithm"
   ]
  },
  {
   "cell_type": "code",
   "execution_count": 31,
   "metadata": {},
   "outputs": [],
   "source": [
    "def partition(arr, first, last):\n",
    "    pivot_value = arr[first]\n",
    "    leftmark = first+1\n",
    "    rightmark = last\n",
    "    \n",
    "    done = False\n",
    "    \n",
    "    while not done:\n",
    "        \n",
    "        while leftmark <= rightmark and arr[leftmark] <= pivot_value:\n",
    "            leftmark += 1\n",
    "            \n",
    "        while arr[rightmark] >= pivot_value and rightmark >= leftmark:\n",
    "            rightmark -= 1\n",
    "            \n",
    "        if rightmark < leftmark:\n",
    "            done = True\n",
    "            \n",
    "        else:\n",
    "            temp = arr[rightmark]\n",
    "            arr[rightmark] = arr[leftmark]\n",
    "            arr[leftmark] = temp\n",
    "            \n",
    "            \n",
    "    temp = arr[first]\n",
    "    arr[first] = arr[rightmark]\n",
    "    arr[rightmark] = temp\n",
    "    \n",
    "    return rightmark\n",
    "\n",
    "def quick_sort(arr):\n",
    "    if len(arr) < 2:\n",
    "        return arr\n",
    "    \n",
    "    quick_sort_help(arr, 0, len(arr)-1)\n",
    "    \n",
    "def quick_sort_help(arr, first, last):\n",
    "     if first < last:\n",
    "        split_point = partition(arr, first, last)\n",
    "        \n",
    "        quick_sort_help(arr, first, split_point-1)\n",
    "        quick_sort_help(arr, split_point+1, last)\n",
    "    \n"
   ]
  },
  {
   "cell_type": "code",
   "execution_count": 32,
   "metadata": {},
   "outputs": [
    {
     "name": "stdout",
     "output_type": "stream",
     "text": [
      "\n",
      "Unsorted List:  [2, 4, 9, 1, 0, 2, 7, 2, 9, 1, 9, 2, 7, 8, 8, 2, 3, 10, 5, 6]\n",
      "\n",
      "Sorted List:  [0, 1, 1, 2, 2, 2, 2, 2, 3, 4, 5, 6, 7, 7, 8, 8, 9, 9, 9, 10]\n"
     ]
    }
   ],
   "source": [
    "Arr = [2,4,9,1,0,2,7,2,9,1,9,2,7,8,8,2,3,10,5,6]\n",
    "print(\"\\nUnsorted List: \", Arr)\n",
    "\n",
    "quick_sort(Arr)\n",
    "print(\"\\nSorted List: \", Arr)"
   ]
  },
  {
   "cell_type": "markdown",
   "metadata": {},
   "source": [
    "# BINARY SEARCH\n",
    "\n",
    "This algorithm uses the technique of the **divide and conquer** to search for an element that is contained in a list. With a binary search, we never actually loop through the entire list to search for the element, and how it achieves this is such that it first initializes a **start** variable to **zero** and an **end** variable to be equal to the **size of the list**, the while the start flag remains less than the end flag, we will iteratively calculate the size of the list and then divide it to get the mid-range index, it then uses the calculated mid index to compare the list element at that index against the element we are searching for, if they're equal, we return the mid index, hence we have found the index position for the element we seek, else we check to compare if the element we seek is less than or greater than the mid list element, if it is less than it, we reasign **end to equal mid-1**, else we set **start to equal mid+1**. \n",
    "\n",
    "If after the entire procedure the algorithm does'nt return a valid index, we can conclude that the element does'nt exist in the list provided.\n",
    "\n",
    "**Note:** The binary search algorithm requires that the list to be **pre-sorted**.\n"
   ]
  },
  {
   "cell_type": "code",
   "execution_count": 1,
   "metadata": {},
   "outputs": [
    {
     "data": {
      "text/plain": [
       "3"
      ]
     },
     "execution_count": 1,
     "metadata": {},
     "output_type": "execute_result"
    }
   ],
   "source": [
    "def BinarySearch(arr, k):\n",
    "    start = 0\n",
    "    end = len(arr)\n",
    "    \n",
    "    while start < end:\n",
    "        mid = int((start+end)/2)\n",
    "        \n",
    "        if(arr[mid] == k):\n",
    "            return mid\n",
    "        elif k < arr[mid]:\n",
    "            end = mid -1\n",
    "        else:\n",
    "            start = mid + 1\n",
    "            \n",
    "    return -5\n",
    "\n",
    "newList = [0,1,1,3,4,5,6,7,8,9]\n",
    "BinarySearch(newList, 3)"
   ]
  },
  {
   "cell_type": "markdown",
   "metadata": {},
   "source": [
    "# BATCH PROCESSING USING BINARY SEARCH\n",
    "\n",
    "Sometimes we may want to search for entries in a vary large database (say a Google database) with Billions of entries, hence in such cases it would'nt make sense at all to pull the entire database entries into a python list to perform the search using say: a binary search algorithm. This is because for one thing we will have to consider the memory space of the systems we are using, since list will have to be in memory (python list) for the search to be successful. \n",
    "\n",
    "Pulling the entire database entry wouldn't be very efficient, and probably would'nt even be possible given system contraints on memory and speed.\n",
    "\n",
    "An approach to solving this problem would be to pull entries in smaller chunks (batche processing) from the databases into memory and then perform the series of searches on each smaller chunk, until we either find our entry or go through the entire chunks."
   ]
  },
  {
   "cell_type": "code",
   "execution_count": 9,
   "metadata": {},
   "outputs": [
    {
     "name": "stdout",
     "output_type": "stream",
     "text": [
      "Bruteforce it:  100999\n",
      "Use Batch Proccessing:  100999\n",
      "\n",
      "\n",
      "8.53 µs ± 96.4 ns per loop (mean ± std. dev. of 7 runs, 100000 loops each)\n",
      "922 µs ± 43.1 µs per loop (mean ± std. dev. of 7 runs, 1000 loops each)\n"
     ]
    }
   ],
   "source": [
    "def BatchProcessing(myList, Batch_Size, searchEntry):\n",
    "    coef = 0\n",
    "    result = 0\n",
    "\n",
    "    while coef*Batch_Size < len(largeList):\n",
    "        result = BinarySearch(largeList[coef*Batch_Size:(coef+1)*Batch_Size], searchEntry)\n",
    "        if result < 0:\n",
    "            coef += 1\n",
    "        else:\n",
    "            return (coef*Batch_Size + result)\n",
    "\n",
    "    return result\n",
    "\n",
    "\n",
    "largeList = [i for i in range(1000000)]\n",
    "findVal = 100999\n",
    "batch_size = 1000\n",
    "\n",
    "print(\"Bruteforce it: \", BinarySearch(largeList, findVal))\n",
    "print(\"Use Batch Proccessing: \", BatchProcessing(largeList, batch_size, findVal))\n",
    "print(\"\\n\")\n",
    "\n",
    "%timeit BinarySearch(largeList, findVal)\n",
    "\n",
    "%timeit BatchProcessing(largeList, batch_size, findVal)\n",
    "# largeList[1000:2000]"
   ]
  },
  {
   "cell_type": "markdown",
   "metadata": {},
   "source": [
    "# CRAZYNACCI SERIES\n",
    "\n",
    "In a Crazynacci Sequence, every number is the sum of the three previous ones. However, the sequence restes everytime the result\n",
    "is lower than -150. When that happens, the current element is i + 10, where i is the number of times the sequence was reset.\n",
    "\n",
    "We will start the sequence with 0, -1, -2. For this example:\n",
    "\n",
    "0, -1, -2, -3, -6, -11, -20, -37, -68, -125, 11, 12, -102, -79, 13, 14, -52"
   ]
  },
  {
   "cell_type": "code",
   "execution_count": 8,
   "metadata": {},
   "outputs": [
    {
     "name": "stdout",
     "output_type": "stream",
     "text": [
      "The first  14  crazynacci sequence is:  [0, -1, -2, -3, -6, -11, -20, -37, -68, -125, 11, 12, -102, -79, 13, 14, -52]\n",
      "7.65 µs ± 206 ns per loop (mean ± std. dev. of 7 runs, 100000 loops each)\n"
     ]
    }
   ],
   "source": [
    "def ComputeCrazyNacciSequence(n):\n",
    "    seq = [0, -1, -2]\n",
    "    seqLen = len(seq)\n",
    "    resets = 0\n",
    "    \n",
    "    for i in range(n):\n",
    "        result = seq[i] + seq[i+1] + seq[i+2]\n",
    "        if result < -150:\n",
    "            resets += 1\n",
    "            result = resets + 10\n",
    "        seq.append(result)\n",
    "    return seq\n",
    "\n",
    "num = 14\n",
    "print(\"The first \", num, \" crazynacci sequence is: \", ComputeCrazyNacciSequence(num))\n",
    "%timeit ComputeCrazyNacciSequence(num)"
   ]
  }
 ],
 "metadata": {
  "kernelspec": {
   "display_name": "Python 3",
   "language": "python",
   "name": "python3"
  },
  "language_info": {
   "codemirror_mode": {
    "name": "ipython",
    "version": 3
   },
   "file_extension": ".py",
   "mimetype": "text/x-python",
   "name": "python",
   "nbconvert_exporter": "python",
   "pygments_lexer": "ipython3",
   "version": "3.6.5"
  }
 },
 "nbformat": 4,
 "nbformat_minor": 2
}
