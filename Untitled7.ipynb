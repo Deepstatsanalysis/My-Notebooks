{
 "cells": [
  {
   "cell_type": "code",
   "execution_count": 1,
   "metadata": {},
   "outputs": [
    {
     "ename": "ModuleNotFoundError",
     "evalue": "No module named 'selenium'",
     "output_type": "error",
     "traceback": [
      "\u001b[1;31m---------------------------------------------------------------------------\u001b[0m",
      "\u001b[1;31mModuleNotFoundError\u001b[0m                       Traceback (most recent call last)",
      "\u001b[1;32m<ipython-input-1-92ca4c55d127>\u001b[0m in \u001b[0;36m<module>\u001b[1;34m()\u001b[0m\n\u001b[0;32m      2\u001b[0m \u001b[1;32mfrom\u001b[0m \u001b[0mdatetime\u001b[0m \u001b[1;32mimport\u001b[0m \u001b[0mtimedelta\u001b[0m\u001b[1;33m,\u001b[0m \u001b[0mdate\u001b[0m\u001b[1;33m\u001b[0m\u001b[0m\n\u001b[0;32m      3\u001b[0m \u001b[1;31m# install selenium https://pypi.python.org/pypi/selenium\u001b[0m\u001b[1;33m\u001b[0m\u001b[1;33m\u001b[0m\u001b[0m\n\u001b[1;32m----> 4\u001b[1;33m \u001b[1;32mfrom\u001b[0m \u001b[0mselenium\u001b[0m \u001b[1;32mimport\u001b[0m \u001b[0mwebdriver\u001b[0m\u001b[1;33m\u001b[0m\u001b[0m\n\u001b[0m\u001b[0;32m      5\u001b[0m \u001b[1;31m# make sure geckodriver is in the PATH\u001b[0m\u001b[1;33m\u001b[0m\u001b[1;33m\u001b[0m\u001b[0m\n\u001b[0;32m      6\u001b[0m \u001b[1;33m\u001b[0m\u001b[0m\n",
      "\u001b[1;31mModuleNotFoundError\u001b[0m: No module named 'selenium'"
     ]
    }
   ],
   "source": [
    "import time, sys, threading\n",
    "from datetime import timedelta, date\n",
    "# install selenium https://pypi.python.org/pypi/selenium\n",
    "from selenium import webdriver\n",
    "# make sure geckodriver is in the PATH\n",
    "\n",
    "# change the date here, 1 keyword a thread/browser\n",
    "keywords = ['Nigeriadecides','2019elections','NigeriaDecides','electionnigeria','nextlevel','atiku','buhari']\n",
    "# change the date here, 1 day a thread/browser\n",
    "# No. browsers opened = No. keywords * No. days\n",
    "start_year = 2018\n",
    "start_month = 12\n",
    "start_day = 1\n",
    "end_year = 2018\n",
    "end_month = 12\n",
    "end_day = 31\n",
    "\n",
    "# twitter required params\n",
    "login_url = 'https://www.twitter.com/login'\n",
    "base_url = 'https://twitter.com/search?q='\n",
    "since = '%20since%3A'\n",
    "until = '%20until%3A'\n",
    "src = '&src=typd'\n",
    "time_sleep = 5\n",
    "js_scroll_down = 'window.scrollTo(0, document.body.scrollHeight);'\n",
    "\n",
    "# new file header\n",
    "file_header = 'tweets-'\n",
    "\n",
    "\n",
    "def daterange(start_date, end_date):\n",
    "    for n in range(int ((end_date - start_date).days)):\n",
    "        yield start_date + timedelta(n)\n",
    "\n",
    "def getTweet(keyword, start_date, end_date):\n",
    "    # please create files for storing credentials\n",
    "    # MY_SCREEN_NAME = open('username.txt').read().strip()\n",
    "    MY_SCREEN_NAME = 'tough_taiga'\n",
    "        \n",
    "    #MY_PASSWORD = open(\"password.txt\").read().strip()\n",
    "    # please remove encoding argument if using Mac\n",
    "    ftweets = open('{}_{}_{}_{}'.format(file_header,keyword,start_date,end_date),'w', encoding=\"utf8\")\n",
    "    path_to_chromedriver = 'C:\\Program Files\\chromedriver\\chromedriver.exe'\n",
    "    browser = webdriver.Chrome(executable_path = path_to_chromedriver)\n",
    "    browser.get(login_url)\n",
    "    time.sleep(time_sleep)\n",
    "    username = browser.find_element_by_class_name(\"js-username-field\")\n",
    "    username.send_keys(MY_SCREEN_NAME)\n",
    "    password = browser.find_element_by_class_name(\"js-password-field\")\n",
    "    password.send_keys('TEMISOFT0106')\n",
    "\n",
    "    query = keyword + since + start_date + until + end_date + src\n",
    "    url = base_url + query\n",
    "\n",
    "    browser.get(url)\n",
    "    time.sleep(time_sleep)\n",
    "\n",
    "    while True:\n",
    "        time.sleep(time_sleep)\n",
    "        target_set = set()\n",
    "        browser.execute_script(js_scroll_down)\n",
    "        body = browser.find_element_by_class_name('stream')\n",
    "        tweets = browser.find_elements_by_class_name('tweet-text')\n",
    "        for tweet in tweets:\n",
    "            ftweets.write('{}{}'.format(tweet.text,'\\n'))\n",
    "\n",
    "start_date = date(start_year, start_month, start_day)\n",
    "end_date = date(end_year, end_month, end_day)\n",
    "\n",
    "for i in range(len(keywords)):\n",
    "    for rank, single_date in zip(range((end_date-start_date).days), daterange(start_date, end_date)):\n",
    "        current_date = single_date.strftime('%Y-%m-%d')\n",
    "        y,m,d = current_date.split('-')\n",
    "        next_date = (date(int(y), int(m),int(d))+timedelta(1)).strftime('%Y-%m-%d')\n",
    "        y_n, m_n, d_n = next_date.split('-')\n",
    "        p = threading.Thread(target=getTweet, args=(keywords[i], current_date, next_date))\n",
    "        p.start()\n"
   ]
  },
  {
   "cell_type": "code",
   "execution_count": null,
   "metadata": {},
   "outputs": [],
   "source": []
  }
 ],
 "metadata": {
  "kernelspec": {
   "display_name": "Python 3",
   "language": "python",
   "name": "python3"
  },
  "language_info": {
   "codemirror_mode": {
    "name": "ipython",
    "version": 3
   },
   "file_extension": ".py",
   "mimetype": "text/x-python",
   "name": "python",
   "nbconvert_exporter": "python",
   "pygments_lexer": "ipython3",
   "version": "3.6.5"
  }
 },
 "nbformat": 4,
 "nbformat_minor": 2
}
