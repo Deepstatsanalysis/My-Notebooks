{
 "cells": [
  {
   "cell_type": "code",
   "execution_count": 31,
   "metadata": {},
   "outputs": [],
   "source": [
    "import numpy as np\n",
    "import matplotlib.pyplot as plt\n",
    "from sklearn.linear_model import LinearRegression"
   ]
  },
  {
   "cell_type": "code",
   "execution_count": 50,
   "metadata": {},
   "outputs": [
    {
     "ename": "ValueError",
     "evalue": "setting an array element with a sequence.",
     "output_type": "error",
     "traceback": [
      "\u001b[1;31m---------------------------------------------------------------------------\u001b[0m",
      "\u001b[1;31mValueError\u001b[0m                                Traceback (most recent call last)",
      "\u001b[1;32m<ipython-input-50-66e998cce2b5>\u001b[0m in \u001b[0;36m<module>\u001b[1;34m()\u001b[0m\n\u001b[0;32m      1\u001b[0m \u001b[0mN\u001b[0m \u001b[1;33m=\u001b[0m \u001b[1;36m100\u001b[0m\u001b[1;33m\u001b[0m\u001b[0m\n\u001b[0;32m      2\u001b[0m \u001b[0mx\u001b[0m \u001b[1;33m=\u001b[0m \u001b[0mnp\u001b[0m\u001b[1;33m.\u001b[0m\u001b[0mlinspace\u001b[0m\u001b[1;33m(\u001b[0m\u001b[1;36m0\u001b[0m\u001b[1;33m,\u001b[0m \u001b[1;36m5\u001b[0m\u001b[1;33m,\u001b[0m \u001b[0mN\u001b[0m\u001b[1;33m)\u001b[0m\u001b[1;33m\u001b[0m\u001b[0m\n\u001b[1;32m----> 3\u001b[1;33m \u001b[0mx\u001b[0m \u001b[1;33m=\u001b[0m \u001b[0mnp\u001b[0m\u001b[1;33m.\u001b[0m\u001b[0marray\u001b[0m\u001b[1;33m(\u001b[0m\u001b[1;33m[\u001b[0m\u001b[1;36m1\u001b[0m\u001b[1;33m,\u001b[0m \u001b[0mx\u001b[0m\u001b[1;33m]\u001b[0m\u001b[1;33m)\u001b[0m\u001b[1;33m\u001b[0m\u001b[0m\n\u001b[0m\u001b[0;32m      4\u001b[0m \u001b[0mprint\u001b[0m\u001b[1;33m(\u001b[0m\u001b[0mx\u001b[0m\u001b[1;33m)\u001b[0m\u001b[1;33m\u001b[0m\u001b[0m\n",
      "\u001b[1;31mValueError\u001b[0m: setting an array element with a sequence."
     ]
    }
   ],
   "source": [
    "N = 100\n",
    "x = np.linspace(0, 5, N)\n",
    "print(x)"
   ]
  },
  {
   "cell_type": "code",
   "execution_count": 47,
   "metadata": {},
   "outputs": [
    {
     "name": "stdout",
     "output_type": "stream",
     "text": [
      "[[ 1.45740506  1.15811     1.98096557  1.22384666  1.22853743  1.93896755\n",
      "   1.11112413  1.93618256  1.84894129  1.56270952  1.21286942  1.60189376\n",
      "   1.3474592   1.06795421  1.95097252  1.61573775  1.23765733  1.64730697\n",
      "   1.34564853  1.24150136  1.09382339  1.32855656  1.91338741  1.17106905\n",
      "   1.75509592  1.85807423  1.09435486  1.97114354  1.5007311   1.31174369\n",
      "   1.02645317  1.62228932  1.04175064  1.85994796  1.63869418  1.81237416\n",
      "   1.5537597   1.8433297   1.08304136  1.56933046  1.00410001  1.35565086\n",
      "   1.31983352  1.63600707  1.30024997  1.77115669  1.49695964  1.13009983\n",
      "   1.25081246  1.29474737  1.88420311  1.28539722  1.16796369  1.84392373\n",
      "   1.06683322  1.42554552  1.07073156  1.8739046   1.14291326  1.94918407\n",
      "   1.20775431  1.53894627  1.7263454   1.10033157  1.08312875  1.67517897\n",
      "   1.08175373  1.23665259  1.59787183  1.97210635  1.5907269   1.37836188\n",
      "   1.46390941  1.82131527  1.34105109  1.21510245  1.56587593  1.61605012\n",
      "   1.83411406  1.19531567  1.73529094  1.29396144  1.84304331  1.51434039\n",
      "   1.43031217  1.46831744  1.23762379  1.93446352  1.05687459  1.15321297\n",
      "   1.03604006  1.62159854  1.27214539  1.18439495  1.5338608   1.92921651\n",
      "   1.23547379  1.06206063  1.65995221  1.07781342]\n",
      " [-0.54259494 -0.74087989  0.18298577 -0.47312304 -0.36742216  0.44401805\n",
      "  -0.28281526  0.64325327  0.6570221   0.47180043  0.22297043  0.71300487\n",
      "   0.55958042  0.38108552  1.36511393  1.13088927  0.85381895  1.36447868\n",
      "   1.16383035  1.16069328  1.11402541  1.44976868  2.13560963  1.49430138\n",
      "   2.17933834  2.38332676  1.72061749  2.69841626  2.32901392  2.24103662\n",
      "   2.0567562   2.75360246  2.27407387  3.19328129  3.07303761  3.3477277\n",
      "   3.19012334  3.58070344  2.9214252   3.5087244   3.04450405  3.497065\n",
      "   3.56225777  3.97944141  3.74469442  4.31661123  4.14342428  3.87757458\n",
      "   4.09929731  4.24424232  4.93470816  4.43691237  4.42048894  5.19745909\n",
      "   4.52137868  4.98110108  4.72729721  5.63148036  5.00149912  5.90878002\n",
      "   5.26836037  5.70056244  5.98897167  5.46396793  5.54777521  6.24083554\n",
      "   5.7484204   6.00432936  6.4665587   6.94180332  6.66143397  6.55007905\n",
      "   6.73663668  7.19505264  6.81579856  6.79086003  7.24264361  7.3938279\n",
      "   7.71290194  7.17511365  7.81609903  7.47577962  8.12587159  7.89817877\n",
      "   7.91516065  8.05417602  7.92449248  8.72234231  7.94576347  8.14311196\n",
      "   8.12694915  8.81351773  8.56507468  8.57833435  9.02881029  9.5251761\n",
      "   8.93244349  8.86004043  9.55894211  9.07781342]]\n"
     ]
    }
   ],
   "source": [
    "y = 2*x - np.random.rand(N)\n",
    "print(y)"
   ]
  },
  {
   "cell_type": "code",
   "execution_count": 48,
   "metadata": {},
   "outputs": [
    {
     "data": {
      "image/png": "[encoded data removed]",
      "text/plain": [
       "<Figure size 432x288 with 1 Axes>"
      ]
     },
     "metadata": {},
     "output_type": "display_data"
    }
   ],
   "source": [
    "plt.scatter(x, y)\n",
    "plt.show()"
   ]
  },
  {
   "cell_type": "code",
   "execution_count": 49,
   "metadata": {},
   "outputs": [],
   "source": [
    "x_train = x[:70]\n",
    "y_train = y[:70]\n",
    "\n",
    "x_test = x[:-30]\n",
    "y_test = y[:-30]\n"
   ]
  },
  {
   "cell_type": "code",
   "execution_count": 39,
   "metadata": {},
   "outputs": [
    {
     "ename": "ValueError",
     "evalue": "Expected 2D array, got 1D array instead:\narray=[0.67827046 0.25562099 0.79125459 0.13086577 0.44106317 0.64867946\n 0.33852822 0.93693631 0.54848306 0.90721171 0.29637731 0.68168238\n 0.15948204 0.57174288 0.38915322 0.72680981 0.33569727 0.34967061\n 0.67395378 0.76052809 0.58061287 0.80164738 0.77940913 0.24933998\n 0.25627941 0.43998027 0.17666776 0.06867149 0.77644596 0.5080146\n 0.02494347 0.95326557 0.12733504 0.66494825 0.8416741  0.04726828\n 0.5891321  0.13985011 0.2459185  0.49520698 0.21417816 0.9684062\n 0.06189714 0.15103839 0.608668   0.79058307 0.1492711  0.52971131\n 0.20613588 0.93648007 0.98575031 0.5813109  0.02064334 0.80465771\n 0.7002162  0.03356808 0.21112126 0.50419734 0.75847744 0.66152812\n 0.82185509 0.80979958 0.13138906 0.43110374 0.2739453  0.22991096\n 0.04506693 0.16149464 0.42479666 0.78262617].\nReshape your data either using array.reshape(-1, 1) if your data has a single feature or array.reshape(1, -1) if it contains a single sample.",
     "output_type": "error",
     "traceback": [
      "\u001b[1;31m---------------------------------------------------------------------------\u001b[0m",
      "\u001b[1;31mValueError\u001b[0m                                Traceback (most recent call last)",
      "\u001b[1;32m<ipython-input-39-bbaf4743ee03>\u001b[0m in \u001b[0;36m<module>\u001b[1;34m()\u001b[0m\n\u001b[0;32m      1\u001b[0m \u001b[0mlr\u001b[0m \u001b[1;33m=\u001b[0m \u001b[0mLinearRegression\u001b[0m\u001b[1;33m(\u001b[0m\u001b[1;33m)\u001b[0m\u001b[1;33m\u001b[0m\u001b[0m\n\u001b[1;32m----> 2\u001b[1;33m \u001b[0mlr\u001b[0m\u001b[1;33m.\u001b[0m\u001b[0mfit\u001b[0m\u001b[1;33m(\u001b[0m\u001b[0mx_train\u001b[0m\u001b[1;33m,\u001b[0m \u001b[0my_train\u001b[0m\u001b[1;33m)\u001b[0m\u001b[1;33m\u001b[0m\u001b[0m\n\u001b[0m\u001b[0;32m      3\u001b[0m \u001b[0my_hat\u001b[0m \u001b[1;33m=\u001b[0m \u001b[0mlr\u001b[0m\u001b[1;33m.\u001b[0m\u001b[0mpredict\u001b[0m\u001b[1;33m(\u001b[0m\u001b[0mx_test\u001b[0m\u001b[1;33m)\u001b[0m\u001b[1;33m\u001b[0m\u001b[0m\n",
      "\u001b[1;32m~\\Anaconda3\\lib\\site-packages\\sklearn\\linear_model\\base.py\u001b[0m in \u001b[0;36mfit\u001b[1;34m(self, X, y, sample_weight)\u001b[0m\n\u001b[0;32m    480\u001b[0m         \u001b[0mn_jobs_\u001b[0m \u001b[1;33m=\u001b[0m \u001b[0mself\u001b[0m\u001b[1;33m.\u001b[0m\u001b[0mn_jobs\u001b[0m\u001b[1;33m\u001b[0m\u001b[0m\n\u001b[0;32m    481\u001b[0m         X, y = check_X_y(X, y, accept_sparse=['csr', 'csc', 'coo'],\n\u001b[1;32m--> 482\u001b[1;33m                          y_numeric=True, multi_output=True)\n\u001b[0m\u001b[0;32m    483\u001b[0m \u001b[1;33m\u001b[0m\u001b[0m\n\u001b[0;32m    484\u001b[0m         \u001b[1;32mif\u001b[0m \u001b[0msample_weight\u001b[0m \u001b[1;32mis\u001b[0m \u001b[1;32mnot\u001b[0m \u001b[1;32mNone\u001b[0m \u001b[1;32mand\u001b[0m \u001b[0mnp\u001b[0m\u001b[1;33m.\u001b[0m\u001b[0matleast_1d\u001b[0m\u001b[1;33m(\u001b[0m\u001b[0msample_weight\u001b[0m\u001b[1;33m)\u001b[0m\u001b[1;33m.\u001b[0m\u001b[0mndim\u001b[0m \u001b[1;33m>\u001b[0m \u001b[1;36m1\u001b[0m\u001b[1;33m:\u001b[0m\u001b[1;33m\u001b[0m\u001b[0m\n",
      "\u001b[1;32m~\\Anaconda3\\lib\\site-packages\\sklearn\\utils\\validation.py\u001b[0m in \u001b[0;36mcheck_X_y\u001b[1;34m(X, y, accept_sparse, dtype, order, copy, force_all_finite, ensure_2d, allow_nd, multi_output, ensure_min_samples, ensure_min_features, y_numeric, warn_on_dtype, estimator)\u001b[0m\n\u001b[0;32m    571\u001b[0m     X = check_array(X, accept_sparse, dtype, order, copy, force_all_finite,\n\u001b[0;32m    572\u001b[0m                     \u001b[0mensure_2d\u001b[0m\u001b[1;33m,\u001b[0m \u001b[0mallow_nd\u001b[0m\u001b[1;33m,\u001b[0m \u001b[0mensure_min_samples\u001b[0m\u001b[1;33m,\u001b[0m\u001b[1;33m\u001b[0m\u001b[0m\n\u001b[1;32m--> 573\u001b[1;33m                     ensure_min_features, warn_on_dtype, estimator)\n\u001b[0m\u001b[0;32m    574\u001b[0m     \u001b[1;32mif\u001b[0m \u001b[0mmulti_output\u001b[0m\u001b[1;33m:\u001b[0m\u001b[1;33m\u001b[0m\u001b[0m\n\u001b[0;32m    575\u001b[0m         y = check_array(y, 'csr', force_all_finite=True, ensure_2d=False,\n",
      "\u001b[1;32m~\\Anaconda3\\lib\\site-packages\\sklearn\\utils\\validation.py\u001b[0m in \u001b[0;36mcheck_array\u001b[1;34m(array, accept_sparse, dtype, order, copy, force_all_finite, ensure_2d, allow_nd, ensure_min_samples, ensure_min_features, warn_on_dtype, estimator)\u001b[0m\n\u001b[0;32m    439\u001b[0m                     \u001b[1;34m\"Reshape your data either using array.reshape(-1, 1) if \"\u001b[0m\u001b[1;33m\u001b[0m\u001b[0m\n\u001b[0;32m    440\u001b[0m                     \u001b[1;34m\"your data has a single feature or array.reshape(1, -1) \"\u001b[0m\u001b[1;33m\u001b[0m\u001b[0m\n\u001b[1;32m--> 441\u001b[1;33m                     \"if it contains a single sample.\".format(array))\n\u001b[0m\u001b[0;32m    442\u001b[0m             \u001b[0marray\u001b[0m \u001b[1;33m=\u001b[0m \u001b[0mnp\u001b[0m\u001b[1;33m.\u001b[0m\u001b[0matleast_2d\u001b[0m\u001b[1;33m(\u001b[0m\u001b[0marray\u001b[0m\u001b[1;33m)\u001b[0m\u001b[1;33m\u001b[0m\u001b[0m\n\u001b[0;32m    443\u001b[0m             \u001b[1;31m# To ensure that array flags are maintained\u001b[0m\u001b[1;33m\u001b[0m\u001b[1;33m\u001b[0m\u001b[0m\n",
      "\u001b[1;31mValueError\u001b[0m: Expected 2D array, got 1D array instead:\narray=[0.67827046 0.25562099 0.79125459 0.13086577 0.44106317 0.64867946\n 0.33852822 0.93693631 0.54848306 0.90721171 0.29637731 0.68168238\n 0.15948204 0.57174288 0.38915322 0.72680981 0.33569727 0.34967061\n 0.67395378 0.76052809 0.58061287 0.80164738 0.77940913 0.24933998\n 0.25627941 0.43998027 0.17666776 0.06867149 0.77644596 0.5080146\n 0.02494347 0.95326557 0.12733504 0.66494825 0.8416741  0.04726828\n 0.5891321  0.13985011 0.2459185  0.49520698 0.21417816 0.9684062\n 0.06189714 0.15103839 0.608668   0.79058307 0.1492711  0.52971131\n 0.20613588 0.93648007 0.98575031 0.5813109  0.02064334 0.80465771\n 0.7002162  0.03356808 0.21112126 0.50419734 0.75847744 0.66152812\n 0.82185509 0.80979958 0.13138906 0.43110374 0.2739453  0.22991096\n 0.04506693 0.16149464 0.42479666 0.78262617].\nReshape your data either using array.reshape(-1, 1) if your data has a single feature or array.reshape(1, -1) if it contains a single sample."
     ]
    }
   ],
   "source": [
    "lr = LinearRegression()\n",
    "lr.fit(x_train, y_train)\n",
    "y_hat = lr.predict(x_test)"
   ]
  },
  {
   "cell_type": "code",
   "execution_count": null,
   "metadata": {},
   "outputs": [],
   "source": []
  }
 ],
 "metadata": {
  "kernelspec": {
   "display_name": "Python 3",
   "language": "python",
   "name": "python3"
  },
  "language_info": {
   "codemirror_mode": {
    "name": "ipython",
    "version": 3
   },
   "file_extension": ".py",
   "mimetype": "text/x-python",
   "name": "python",
   "nbconvert_exporter": "python",
   "pygments_lexer": "ipython3",
   "version": "3.6.5"
  }
 },
 "nbformat": 4,
 "nbformat_minor": 2
}
