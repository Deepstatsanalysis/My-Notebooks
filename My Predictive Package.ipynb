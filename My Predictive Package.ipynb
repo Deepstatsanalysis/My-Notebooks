{
 "cells": [
  {
   "cell_type": "markdown",
   "metadata": {},
   "source": [
    "# My Predictive Modelling Package (AbberKit-Learn)\n",
    "\n",
    "This is my implementation of some popular machine learning algorithms, including:\n",
    "\n",
    "+ Linear Regression\n",
    "+ Logistics Regression\n",
    "+ Naive Bayes\n",
    "+ Decison Trees\n",
    "+ Random Forest\n",
    "+ Gradient Boosting\n",
    "+ Neural Network\n"
   ]
  },
  {
   "cell_type": "code",
   "execution_count": 51,
   "metadata": {},
   "outputs": [],
   "source": [
    "import numpy as np\n",
    "from matplotlib import pyplot as plt\n",
    "%matplotlib inline"
   ]
  },
  {
   "cell_type": "code",
   "execution_count": 74,
   "metadata": {},
   "outputs": [],
   "source": [
    "class Preprocessor(object):\n",
    "    \n",
    "    def __init__(self):\n",
    "        pass\n",
    "    \n",
    "    def StandardScale(self, features):\n",
    "        pass\n",
    "    \n",
    "    def one_hot_encoder(self, features):\n",
    "        pass\n"
   ]
  },
  {
   "cell_type": "code",
   "execution_count": 75,
   "metadata": {},
   "outputs": [],
   "source": [
    "class ModelSelection(object):\n",
    "    def __init__(self):\n",
    "        pass\n",
    "    \n",
    "    def train_test_sample(self, test_ratio = 0.3):\n",
    "        train_idx = np.random.choice(len(self.X), len(self.X) - test_ratio*len(self.X))\n",
    "        test_idx = np.random.choice(len(self.X), test_ratio*len(self.X))\n",
    "        \n",
    "        Xtrain = self.X[train_idx]\n",
    "        Ytrain = self.Y[train_idx]\n",
    "        \n",
    "        Xtest = self.X[test_idx]\n",
    "        Ytest = self.Y[test_idx]\n",
    "        \n",
    "        return ((Xtrain, Ytrain), (Xtest, Ytest))\n",
    "    "
   ]
  },
  {
   "cell_type": "code",
   "execution_count": 76,
   "metadata": {},
   "outputs": [],
   "source": [
    "class LinearRegression(object):\n",
    "    \n",
    "    def __init__(self):\n",
    "        # self.X '''features'''\n",
    "        # self.Y '''labels'''\n",
    "        # self.w '''weights (coefficients)''' \n",
    "        # self.b '''intercept'''\n",
    "        # self.y_hat '''model'''\n",
    "        pass\n",
    "    \n",
    "\n",
    "    def fit(self, features, labels, regularization='L2', dim = 'multi', fit_intercept = False, l2 = 1000.0, learning_rate = 0.005, epoch = 1000):\n",
    "        self.X = features\n",
    "        self.Y = labels\n",
    "        \n",
    "        self.regularization = regularization\n",
    "        self.dim = dim\n",
    "        self.fit_intercept = fit_intercept\n",
    "        \n",
    "        if self.dim == '1d':\n",
    "            xDotx = self.X.dot(self.X)\n",
    "            xDoty = self.X.dot(self.Y)\n",
    "\n",
    "            xMean = self.X.mean()\n",
    "            yMean = self.Y.mean()\n",
    "            xSum = self.X.sum()\n",
    "\n",
    "            denominator =  xDotx - xMean * xSum\n",
    "            self.w = (xDoty - yMean * xSum) / denominator\n",
    "            self.b = (yMean * xDotx - xMean * xDoty) / denominator\n",
    "            \n",
    "        else:\n",
    "            self.X = np.vstack([np.ones(len(self.X)), self.X]).T\n",
    "            \n",
    "            if self.regularization == None:\n",
    "                # No Regularization\n",
    "                self.w = np.linalg.solve(np.dot(self.X.T, self.X), np.dot(self.X.T, self.Y))\n",
    "    \n",
    "            elif self.regularization == 'L1':\n",
    "                # L1 Regularization --- maximum likelihood\n",
    "                self.w = np.linalg.solve(np.dot(self.X.T, self.X), np.dot(self.X.T, self.Y))\n",
    "                            \n",
    "            elif self.regularization == 'L2':\n",
    "                # L2 Regularization  --- maximum a posteriori (map)\n",
    "                self.w = np.linalg.solve(l2*np.eye(2) + self.X.T.dot(self.X), self.X.T.dot(self.Y))\n",
    "                \n",
    "            elif self.regularization == \"GD\":\n",
    "                # Gradient Descent\n",
    "                pass\n",
    "                \n",
    "                                \n",
    "    def predict(self, features):\n",
    "        self.X = features\n",
    "        \n",
    "        if self.dim == '1d':\n",
    "            self.y_hat = (self.w * self.X) + self.b\n",
    "            return self.y_hat\n",
    "            \n",
    "        else:\n",
    "            if self.regularization == None:\n",
    "                # No regularization\n",
    "                self.y_hat = np.dot(self.X, self.w)\n",
    "                return sel.y_hat\n",
    "    \n",
    "            elif self.regularization == 'L1' or self.regularization == 'L2':\n",
    "                # L1 & L2 Regularization Predictions\n",
    "                self.y_hat = np.dot(self.X, self.w)\n",
    "                return self.y_hat\n",
    "            \n",
    "            elif self.regularization == 'GD':\n",
    "                # Gradient Descent Regularization\n",
    "                self.costs = []\n",
    "                self.w = np.random.randn(self.X.shape[1]) / np.sqrt(self.X.shape[1])\n",
    "\n",
    "                for t in range(epoch):\n",
    "                    delta = self.predict(self.X) - self.Y\n",
    "                    self.w = self.w - learning_rate * self.X.T.dot(delta)\n",
    "                    \n",
    "                    mse = delta.dot(delta)\n",
    "                    self.costs.append(mse)\n",
    "            \n",
    "            \n",
    "    def coeff(self):\n",
    "        return self.w\n",
    "    \n",
    "    \n",
    "    def intercept(self):\n",
    "        return self.b\n",
    "    \n",
    "    \n",
    "    def show_metrics(self):\n",
    "        # # Calculated Squared Error (Squared - residual)\n",
    "        d1 = self.Y - self.y_hat\n",
    "        SSres = d1.dot(d1)\n",
    "        # # OR: SSres = ((Y - yhat)**2).sum()\n",
    "\n",
    "        d2 = self.Y - self.Y.mean()\n",
    "        SStot = d2.dot(d2)\n",
    "        # # OR: SStot = ((Y - Y.mean())**2).sum()\n",
    "\n",
    "        r_squared = 1 - SSres/SStot\n",
    "\n",
    "        print('\\nSquared Error (SSres): ', SSres)\n",
    "        print('Predicted Mean (SStot): ', SStot)\n",
    "        print('R-Squared: ', r_squared)\n",
    "        print('\\n')\n",
    "        \n",
    "        return (SSres, SStot, r_squared)\n",
    "    \n"
   ]
  },
  {
   "cell_type": "markdown",
   "metadata": {},
   "source": [
    "# Test The Class Package\n",
    "\n",
    "### 1-Dimensional Linear Regression\n",
    "\n",
    "This is a linear regression problem with only a single feature (1 column)."
   ]
  },
  {
   "cell_type": "code",
   "execution_count": 77,
   "metadata": {},
   "outputs": [
    {
     "name": "stdout",
     "output_type": "stream",
     "text": [
      "0.4458213596141391\n",
      "0.23720085507546806\n"
     ]
    },
    {
     "data": {
      "image/png": "[encoded data removed]",
      "text/plain": [
       "<Figure size 432x288 with 1 Axes>"
      ]
     },
     "metadata": {},
     "output_type": "display_data"
    },
    {
     "name": "stdout",
     "output_type": "stream",
     "text": [
      "\n",
      "Squared Error (SSres):  53.10658804106967\n",
      "Predicted Mean (SStot):  139.3020890538092\n",
      "R-Squared:  0.618766750722914\n",
      "\n",
      "\n",
      "(53.10658804106967, 139.3020890538092, 0.618766750722914)\n",
      "\n",
      "Labels:  [ 0.03791713 -0.15570377  0.89069603 -0.33432383  0.32895896]\n",
      "Predictions:  [0.23720086 0.32818481 0.41916876 0.51015271 0.60113666]\n"
     ]
    }
   ],
   "source": [
    "# Create random data\n",
    "N = 50\n",
    "X = np.linspace(0, 10, N)\n",
    "Y = 0.5*X + np.random.randn(N)\n",
    "\n",
    "lr = LinearRegression()\n",
    "lr.fit(X, Y, dim='1d')\n",
    "yhat = lr.predict(X)\n",
    "\n",
    "print(lr.coeff())\n",
    "print(lr.intercept())\n",
    "\n",
    "plt.scatter(X, Y)\n",
    "plt.plot(X, yhat)\n",
    "plt.show()\n",
    "\n",
    "print(lr.show_metrics())\n",
    "\n",
    "print('\\nLabels: ', Y[:5])\n",
    "print('Predictions: ', yhat[:5])"
   ]
  },
  {
   "cell_type": "markdown",
   "metadata": {},
   "source": [
    "### 1-Dimensional Linear Regression (with Outliers)\n",
    "\n",
    "Notice how the presence of outliers drastically affects the model performance. Hence the outliers try to pull the line of best fit away from the majority distribution. This model would perform even babdly with new dataset (different from the training data).\n",
    "\n",
    "This is an over-fitting problem, and one way to resolve this problem is using the concept of regularization, there are various regularization methods and this methods help to better optimize a model to ensure it generalizes (generalization) well to newly presented data."
   ]
  },
  {
   "cell_type": "code",
   "execution_count": 78,
   "metadata": {},
   "outputs": [
    {
     "name": "stdout",
     "output_type": "stream",
     "text": [
      "1.1773192850175271\n",
      "-2.2687102547999296\n"
     ]
    },
    {
     "data": {
      "image/png": "[encoded data removed]",
      "text/plain": [
       "<Figure size 432x288 with 1 Axes>"
      ]
     },
     "metadata": {},
     "output_type": "display_data"
    },
    {
     "name": "stdout",
     "output_type": "stream",
     "text": [
      "\n",
      "Squared Error (SSres):  1513.187322261962\n",
      "Predicted Mean (SStot):  2114.2937477941323\n",
      "R-Squared:  0.2843060128987809\n",
      "\n",
      "\n",
      "(1513.187322261962, 2114.2937477941323, 0.2843060128987809)\n",
      "\n",
      "Labels:  [-0.6800911  -0.21399967 -0.13746717  0.69773213  0.32288439]\n",
      "Predictions:  [-2.26871025 -2.02844101 -1.78817177 -1.54790253 -1.30763329]\n"
     ]
    }
   ],
   "source": [
    "# Create random data\n",
    "N = 50\n",
    "X = np.linspace(0, 10, N)\n",
    "Y = 0.5*X + np.random.randn(N)\n",
    "\n",
    "# add outliers to data\n",
    "Y[-1] += 30\n",
    "Y[-2] += 30\n",
    "\n",
    "lr = LinearRegression()\n",
    "lr.fit(X, Y, dim='1d')\n",
    "yhat = lr.predict(X)\n",
    "\n",
    "print(lr.coeff())\n",
    "print(lr.intercept())\n",
    "\n",
    "plt.scatter(X, Y)\n",
    "plt.plot(X, yhat)\n",
    "plt.show()\n",
    "\n",
    "print(lr.show_metrics())\n",
    "\n",
    "print('\\nLabels: ', Y[:5])\n",
    "print('Predictions: ', yhat[:5])"
   ]
  },
  {
   "cell_type": "markdown",
   "metadata": {},
   "source": [
    "# Multi Variate Linear Regression\n",
    "\n",
    "Features with more than 1 dimension"
   ]
  },
  {
   "cell_type": "code",
   "execution_count": 79,
   "metadata": {},
   "outputs": [
    {
     "ename": "IndexError",
     "evalue": "tuple index out of range",
     "output_type": "error",
     "traceback": [
      "\u001b[1;31m---------------------------------------------------------------------------\u001b[0m",
      "\u001b[1;31mIndexError\u001b[0m                                Traceback (most recent call last)",
      "\u001b[1;32m<ipython-input-79-a74cc493d4c0>\u001b[0m in \u001b[0;36m<module>\u001b[1;34m()\u001b[0m\n\u001b[0;32m     10\u001b[0m \u001b[0mlr\u001b[0m \u001b[1;33m=\u001b[0m \u001b[0mLinearRegression\u001b[0m\u001b[1;33m(\u001b[0m\u001b[1;33m)\u001b[0m\u001b[1;33m\u001b[0m\u001b[0m\n\u001b[0;32m     11\u001b[0m \u001b[0mlr\u001b[0m\u001b[1;33m.\u001b[0m\u001b[0mfit\u001b[0m\u001b[1;33m(\u001b[0m\u001b[0mX\u001b[0m\u001b[1;33m,\u001b[0m \u001b[0mY\u001b[0m\u001b[1;33m,\u001b[0m \u001b[0mdim\u001b[0m\u001b[1;33m=\u001b[0m\u001b[1;34m'multi'\u001b[0m\u001b[1;33m,\u001b[0m \u001b[0mregularization\u001b[0m\u001b[1;33m=\u001b[0m\u001b[1;34m'GD'\u001b[0m\u001b[1;33m)\u001b[0m\u001b[1;33m\u001b[0m\u001b[0m\n\u001b[1;32m---> 12\u001b[1;33m \u001b[0myhat\u001b[0m \u001b[1;33m=\u001b[0m \u001b[0mlr\u001b[0m\u001b[1;33m.\u001b[0m\u001b[0mpredict\u001b[0m\u001b[1;33m(\u001b[0m\u001b[0mX\u001b[0m\u001b[1;33m)\u001b[0m\u001b[1;33m\u001b[0m\u001b[0m\n\u001b[0m\u001b[0;32m     13\u001b[0m \u001b[1;33m\u001b[0m\u001b[0m\n\u001b[0;32m     14\u001b[0m \u001b[0mprint\u001b[0m\u001b[1;33m(\u001b[0m\u001b[0mlr\u001b[0m\u001b[1;33m.\u001b[0m\u001b[0mcoeff\u001b[0m\u001b[1;33m(\u001b[0m\u001b[1;33m)\u001b[0m\u001b[1;33m)\u001b[0m\u001b[1;33m\u001b[0m\u001b[0m\n",
      "\u001b[1;32m<ipython-input-76-82b26b4c6deb>\u001b[0m in \u001b[0;36mpredict\u001b[1;34m(self, features)\u001b[0m\n\u001b[0;32m     71\u001b[0m                 \u001b[1;31m# Gradient Descent Regularization\u001b[0m\u001b[1;33m\u001b[0m\u001b[1;33m\u001b[0m\u001b[0m\n\u001b[0;32m     72\u001b[0m                 \u001b[0mself\u001b[0m\u001b[1;33m.\u001b[0m\u001b[0mcosts\u001b[0m \u001b[1;33m=\u001b[0m \u001b[1;33m[\u001b[0m\u001b[1;33m]\u001b[0m\u001b[1;33m\u001b[0m\u001b[0m\n\u001b[1;32m---> 73\u001b[1;33m                 \u001b[0mself\u001b[0m\u001b[1;33m.\u001b[0m\u001b[0mw\u001b[0m \u001b[1;33m=\u001b[0m \u001b[0mnp\u001b[0m\u001b[1;33m.\u001b[0m\u001b[0mrandom\u001b[0m\u001b[1;33m.\u001b[0m\u001b[0mrandn\u001b[0m\u001b[1;33m(\u001b[0m\u001b[0mself\u001b[0m\u001b[1;33m.\u001b[0m\u001b[0mX\u001b[0m\u001b[1;33m.\u001b[0m\u001b[0mshape\u001b[0m\u001b[1;33m[\u001b[0m\u001b[1;36m1\u001b[0m\u001b[1;33m]\u001b[0m\u001b[1;33m)\u001b[0m \u001b[1;33m/\u001b[0m \u001b[0mnp\u001b[0m\u001b[1;33m.\u001b[0m\u001b[0msqrt\u001b[0m\u001b[1;33m(\u001b[0m\u001b[0mself\u001b[0m\u001b[1;33m.\u001b[0m\u001b[0mX\u001b[0m\u001b[1;33m.\u001b[0m\u001b[0mshape\u001b[0m\u001b[1;33m[\u001b[0m\u001b[1;36m1\u001b[0m\u001b[1;33m]\u001b[0m\u001b[1;33m)\u001b[0m\u001b[1;33m\u001b[0m\u001b[0m\n\u001b[0m\u001b[0;32m     74\u001b[0m \u001b[1;33m\u001b[0m\u001b[0m\n\u001b[0;32m     75\u001b[0m                 \u001b[1;32mfor\u001b[0m \u001b[0mt\u001b[0m \u001b[1;32min\u001b[0m \u001b[0mrange\u001b[0m\u001b[1;33m(\u001b[0m\u001b[0mepoch\u001b[0m\u001b[1;33m)\u001b[0m\u001b[1;33m:\u001b[0m\u001b[1;33m\u001b[0m\u001b[0m\n",
      "\u001b[1;31mIndexError\u001b[0m: tuple index out of range"
     ]
    }
   ],
   "source": [
    "# Create random data\n",
    "N = 50\n",
    "X = np.linspace(0, 10, N)\n",
    "Y = 0.5*X + np.random.randn(N)\n",
    "\n",
    "# add outliers to data\n",
    "Y[-1] += 30\n",
    "Y[-2] += 30\n",
    "\n",
    "lr = LinearRegression()\n",
    "lr.fit(X, Y, dim='multi', regularization='GD')\n",
    "yhat = lr.predict(X)\n",
    "\n",
    "print(lr.coeff())\n",
    "print(lr.intercept())\n",
    "\n",
    "plt.scatter(X, Y)\n",
    "plt.plot(X, yhat)\n",
    "plt.show()\n",
    "\n",
    "print(lr.show_metrics())\n",
    "\n",
    "print('\\nLabels: ', Y[:5])\n",
    "print('Predictions: ', yhat[:5])"
   ]
  },
  {
   "cell_type": "code",
   "execution_count": 82,
   "metadata": {},
   "outputs": [],
   "source": [
    "from nose.tools import assert_equal\n",
    "\n",
    "class RegressionTest(object):\n",
    "    \n",
    "    def __init__(self):\n",
    "        pass\n",
    "    \n",
    "    def test(self):\n",
    "        pass\n",
    "    "
   ]
  },
  {
   "cell_type": "code",
   "execution_count": null,
   "metadata": {},
   "outputs": [],
   "source": []
  },
  {
   "cell_type": "code",
   "execution_count": null,
   "metadata": {},
   "outputs": [],
   "source": []
  }
 ],
 "metadata": {
  "kernelspec": {
   "display_name": "Python 3",
   "language": "python",
   "name": "python3"
  },
  "language_info": {
   "codemirror_mode": {
    "name": "ipython",
    "version": 3
   },
   "file_extension": ".py",
   "mimetype": "text/x-python",
   "name": "python",
   "nbconvert_exporter": "python",
   "pygments_lexer": "ipython3",
   "version": "3.6.5"
  }
 },
 "nbformat": 4,
 "nbformat_minor": 2
}
