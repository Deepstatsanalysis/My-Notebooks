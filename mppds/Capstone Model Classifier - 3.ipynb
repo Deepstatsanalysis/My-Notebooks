{
 "cells": [
  {
   "cell_type": "code",
   "execution_count": 1,
   "metadata": {},
   "outputs": [],
   "source": [
    "import numpy as np\n",
    "import pandas as pd\n",
    "import matplotlib.pyplot as plt\n",
    "import seaborn as sns\n",
    "import math\n",
    "import numpy.random as nr\n",
    "\n",
    "import sklearn.model_selection as ms\n",
    "from sklearn import linear_model\n",
    "from sklearn import preprocessing\n",
    "import sklearn.metrics as sklm\n",
    "\n",
    "%matplotlib inline"
   ]
  },
  {
   "cell_type": "code",
   "execution_count": 38,
   "metadata": {},
   "outputs": [],
   "source": [
    "train_data = pd.read_csv('preped_data3.csv')\n",
    "labels = np.array(train_data['accepted'])"
   ]
  },
  {
   "cell_type": "code",
   "execution_count": 39,
   "metadata": {},
   "outputs": [],
   "source": [
    "train_data.drop('row_id', axis = 1, inplace = True)\n",
    "train_data.drop('accepted', axis = 1, inplace = True)"
   ]
  },
  {
   "cell_type": "code",
   "execution_count": 40,
   "metadata": {},
   "outputs": [
    {
     "name": "stdout",
     "output_type": "stream",
     "text": [
      "20\n",
      "(387163, 20)\n"
     ]
    }
   ],
   "source": [
    "# features_cols = [col for col in train_data.columns if train_data[col].dtype == int or train_data[col].dtype == float]\n",
    "\n",
    "# 0.62 --> Accuracy\n",
    "feature_cols = ['loan_type', 'property_type', 'loan_purpose', 'occupancy', 'loan_amount', 'preapproval', 'msa_md', 'state_code', \n",
    "        'county_code', 'applicant_ethnicity','applicant_race', 'applicant_sex', 'applicant_income', 'population', \n",
    "        'minority_population_pct', 'ffiecmedian_family_income', 'tract_to_msa_md_income_pct', 'number_of_owner-occupied_units', \n",
    "        'number_of_1_to_4_family_units', 'lender']\n",
    "\n",
    "print(len(feature_cols))\n",
    "\n",
    "features = np.array(train_data[feature_cols])\n",
    "print(features.shape)"
   ]
  },
  {
   "cell_type": "code",
   "execution_count": 41,
   "metadata": {},
   "outputs": [],
   "source": [
    "nr.seed(9988)\n",
    "indx = range(features.shape[0])\n",
    "indx = ms.train_test_split(indx, test_size = 300)\n",
    "X_train = features[indx[0],:]\n",
    "y_train = np.ravel(labels[indx[0]])\n",
    "X_test = features[indx[1],:]\n",
    "y_test = np.ravel(labels[indx[1]])"
   ]
  },
  {
   "cell_type": "code",
   "execution_count": 42,
   "metadata": {},
   "outputs": [],
   "source": [
    "scaler = preprocessing.StandardScaler().fit(X_train[:,19:])\n",
    "X_train[:,19:] = scaler.transform(X_train[:,19:])\n",
    "X_test[:,19:] = scaler.transform(X_test[:,19:])"
   ]
  },
  {
   "cell_type": "code",
   "execution_count": 43,
   "metadata": {},
   "outputs": [
    {
     "data": {
      "text/plain": [
       "LogisticRegression(C=1.0, class_weight=None, dual=False, fit_intercept=True,\n",
       "          intercept_scaling=1, max_iter=100, multi_class='ovr', n_jobs=1,\n",
       "          penalty='l2', random_state=None, solver='liblinear', tol=0.0001,\n",
       "          verbose=0, warm_start=False)"
      ]
     },
     "execution_count": 43,
     "metadata": {},
     "output_type": "execute_result"
    }
   ],
   "source": [
    "logistic_mod = linear_model.LogisticRegression() \n",
    "logistic_mod.fit(X_train, y_train)"
   ]
  },
  {
   "cell_type": "code",
   "execution_count": 44,
   "metadata": {},
   "outputs": [
    {
     "name": "stdout",
     "output_type": "stream",
     "text": [
      "[-0.00378809]\n",
      "[[ 1.06036747e-02 -2.75039103e-02 -2.62611689e-01 -6.53760373e-03\n",
      "   5.49674138e-04 -8.31396993e-02 -1.25556704e-04  3.76835507e-03\n",
      "  -8.31753060e-05 -3.10735155e-02  8.78144244e-03 -5.24506767e-02\n",
      "   5.57367124e-04  5.71816234e-05 -7.42946862e-03  4.90622091e-06\n",
      "   7.38909158e-03 -3.51969639e-05 -1.39594594e-04  7.34251541e-03]]\n"
     ]
    }
   ],
   "source": [
    "print(logistic_mod.intercept_)\n",
    "print(logistic_mod.coef_)"
   ]
  },
  {
   "cell_type": "code",
   "execution_count": 45,
   "metadata": {},
   "outputs": [
    {
     "name": "stdout",
     "output_type": "stream",
     "text": [
      "[[0.41911288 0.58088712]\n",
      " [0.49251637 0.50748363]\n",
      " [0.60127205 0.39872795]\n",
      " [0.49429968 0.50570032]\n",
      " [0.49452511 0.50547489]\n",
      " [0.4747254  0.5252746 ]\n",
      " [0.48202427 0.51797573]\n",
      " [0.54079319 0.45920681]\n",
      " [0.46978792 0.53021208]\n",
      " [0.49647211 0.50352789]\n",
      " [0.48185859 0.51814141]\n",
      " [0.31599209 0.68400791]\n",
      " [0.6404743  0.3595257 ]\n",
      " [0.3652911  0.6347089 ]\n",
      " [0.55247883 0.44752117]]\n"
     ]
    }
   ],
   "source": [
    "probabilities = logistic_mod.predict_proba(X_test)\n",
    "print(probabilities[:15,:])"
   ]
  },
  {
   "cell_type": "code",
   "execution_count": 46,
   "metadata": {},
   "outputs": [
    {
     "name": "stdout",
     "output_type": "stream",
     "text": [
      "[1 1 0 1 1 1 1 0 1 1 1 1 0 1 0]\n",
      "[1 0 1 1 1 1 0 0 0 1 0 1 0 0 1]\n"
     ]
    }
   ],
   "source": [
    "def score_model(probs, threshold):\n",
    "    return np.array([1 if x > threshold else 0 for x in probs[:,1]])\n",
    "scores = score_model(probabilities, 0.5)\n",
    "print(np.array(scores[:15]))\n",
    "print(y_test[:15])"
   ]
  },
  {
   "cell_type": "code",
   "execution_count": 47,
   "metadata": {},
   "outputs": [
    {
     "name": "stdout",
     "output_type": "stream",
     "text": [
      "                 Confusion matrix\n",
      "                 Score positive    Score negative\n",
      "Actual positive        66                64\n",
      "Actual negative        51               119\n",
      "\n",
      "Accuracy  0.62\n",
      " \n",
      "           Positive      Negative\n",
      "Num case      130           170\n",
      "Precision    0.56          0.65\n",
      "Recall       0.51          0.70\n",
      "F1           0.53          0.67\n"
     ]
    }
   ],
   "source": [
    "def print_metrics(labels, scores):\n",
    "    metrics = sklm.precision_recall_fscore_support(labels, scores)\n",
    "    conf = sklm.confusion_matrix(labels, scores)\n",
    "    print('                 Confusion matrix')\n",
    "    print('                 Score positive    Score negative')\n",
    "    print('Actual positive    %6d' % conf[0,0] + '             %5d' % conf[0,1])\n",
    "    print('Actual negative    %6d' % conf[1,0] + '             %5d' % conf[1,1])\n",
    "    print('')\n",
    "    print('Accuracy  %0.2f' % sklm.accuracy_score(labels, scores))\n",
    "    print(' ')\n",
    "    print('           Positive      Negative')\n",
    "    print('Num case   %6d' % metrics[3][0] + '        %6d' % metrics[3][1])\n",
    "    print('Precision  %6.2f' % metrics[0][0] + '        %6.2f' % metrics[0][1])\n",
    "    print('Recall     %6.2f' % metrics[1][0] + '        %6.2f' % metrics[1][1])\n",
    "    print('F1         %6.2f' % metrics[2][0] + '        %6.2f' % metrics[2][1])\n",
    "\n",
    "\n",
    "    \n",
    "print_metrics(y_test, scores)    "
   ]
  },
  {
   "cell_type": "code",
   "execution_count": 48,
   "metadata": {},
   "outputs": [
    {
     "data": {
      "image/png": "[encoded data removed]",
      "text/plain": [
       "<Figure size 432x288 with 1 Axes>"
      ]
     },
     "metadata": {},
     "output_type": "display_data"
    }
   ],
   "source": [
    "def plot_auc(labels, probs):\n",
    "    ## Compute the false positive rate, true positive rate\n",
    "    ## and threshold along with the AUC\n",
    "    fpr, tpr, threshold = sklm.roc_curve(labels, probs[:,1])\n",
    "    auc = sklm.auc(fpr, tpr)\n",
    "    \n",
    "    ## Plot the result\n",
    "    plt.title('Receiver Operating Characteristic')\n",
    "    plt.plot(fpr, tpr, color = 'orange', label = 'AUC = %0.2f' % auc)\n",
    "    plt.legend(loc = 'lower right')\n",
    "    plt.plot([0, 1], [0, 1],'r--')\n",
    "    plt.xlim([0, 1])\n",
    "    plt.ylim([0, 1])\n",
    "    plt.ylabel('True Positive Rate')\n",
    "    plt.xlabel('False Positive Rate')\n",
    "    plt.show()\n",
    "    \n",
    "plot_auc(y_test, probabilities)"
   ]
  },
  {
   "cell_type": "code",
   "execution_count": 49,
   "metadata": {},
   "outputs": [
    {
     "data": {
      "text/plain": [
       "(500000, 22)"
      ]
     },
     "execution_count": 49,
     "metadata": {},
     "output_type": "execute_result"
    }
   ],
   "source": [
    "# Using Supplied TEST VALUES to test for model accuracy \n",
    "test_values = pd.read_csv('test_values.csv')\n",
    "test_values.shape"
   ]
  },
  {
   "cell_type": "code",
   "execution_count": 51,
   "metadata": {},
   "outputs": [],
   "source": [
    "cols = ['state_code', 'county_code', 'msa_md']\n",
    "for col in cols:\n",
    "    test_values.loc[test_values[col] == -1, col] = np.nan"
   ]
  },
  {
   "cell_type": "code",
   "execution_count": 52,
   "metadata": {},
   "outputs": [],
   "source": [
    "test_values.dropna(inplace=True)"
   ]
  },
  {
   "cell_type": "code",
   "execution_count": 54,
   "metadata": {},
   "outputs": [
    {
     "data": {
      "text/plain": [
       "(386884, 22)"
      ]
     },
     "execution_count": 54,
     "metadata": {},
     "output_type": "execute_result"
    }
   ],
   "source": [
    "test_values.shape"
   ]
  },
  {
   "cell_type": "code",
   "execution_count": 55,
   "metadata": {},
   "outputs": [
    {
     "data": {
      "text/plain": [
       "row_id                            0\n",
       "loan_type                         0\n",
       "property_type                     0\n",
       "loan_purpose                      0\n",
       "occupancy                         0\n",
       "loan_amount                       0\n",
       "preapproval                       0\n",
       "msa_md                            0\n",
       "state_code                        0\n",
       "county_code                       0\n",
       "applicant_ethnicity               0\n",
       "applicant_race                    0\n",
       "applicant_sex                     0\n",
       "applicant_income                  0\n",
       "population                        0\n",
       "minority_population_pct           0\n",
       "ffiecmedian_family_income         0\n",
       "tract_to_msa_md_income_pct        0\n",
       "number_of_owner-occupied_units    0\n",
       "number_of_1_to_4_family_units     0\n",
       "lender                            0\n",
       "co_applicant                      0\n",
       "dtype: int64"
      ]
     },
     "execution_count": 55,
     "metadata": {},
     "output_type": "execute_result"
    }
   ],
   "source": [
    "test_values.isnull().sum()"
   ]
  },
  {
   "cell_type": "code",
   "execution_count": 56,
   "metadata": {},
   "outputs": [
    {
     "name": "stdout",
     "output_type": "stream",
     "text": [
      "(386884, 20)\n"
     ]
    }
   ],
   "source": [
    "test_cols = ['loan_type', 'property_type', 'loan_purpose', 'occupancy', 'loan_amount', 'preapproval', 'msa_md', 'state_code', \n",
    "        'county_code', 'applicant_ethnicity','applicant_race', 'applicant_sex', 'applicant_income', 'population', \n",
    "        'minority_population_pct', 'ffiecmedian_family_income', 'tract_to_msa_md_income_pct', 'number_of_owner-occupied_units', \n",
    "        'number_of_1_to_4_family_units', 'lender']\n",
    "\n",
    "features_test = np.array(test_values[test_cols])\n",
    "print(features_test.shape)"
   ]
  },
  {
   "cell_type": "code",
   "execution_count": 57,
   "metadata": {},
   "outputs": [],
   "source": [
    "features_test[:,19:] = scaler.transform(features_test[:,19:])"
   ]
  },
  {
   "cell_type": "code",
   "execution_count": 58,
   "metadata": {},
   "outputs": [
    {
     "name": "stdout",
     "output_type": "stream",
     "text": [
      "[[0.33971349 0.66028651]\n",
      " [0.41868531 0.58131469]\n",
      " [0.37603093 0.62396907]\n",
      " [0.53503015 0.46496985]\n",
      " [0.49352724 0.50647276]\n",
      " [0.37041045 0.62958955]\n",
      " [0.35209212 0.64790788]\n",
      " [0.37646327 0.62353673]\n",
      " [0.58563342 0.41436658]\n",
      " [0.51595942 0.48404058]\n",
      " [0.49476643 0.50523357]\n",
      " [0.41850894 0.58149106]\n",
      " [0.41861855 0.58138145]\n",
      " [0.396684   0.603316  ]\n",
      " [0.49703243 0.50296757]]\n"
     ]
    }
   ],
   "source": [
    "probabilities = logistic_mod.predict_proba(features_test)\n",
    "print(probabilities[:15,:])"
   ]
  },
  {
   "cell_type": "code",
   "execution_count": 59,
   "metadata": {},
   "outputs": [
    {
     "name": "stdout",
     "output_type": "stream",
     "text": [
      "[1 1 1 0 1 1 1 1 0 0 1 1 1 1 1]\n"
     ]
    }
   ],
   "source": [
    "scores = score_model(probabilities, 0.5)\n",
    "print(np.array(scores[:15]))"
   ]
  },
  {
   "cell_type": "code",
   "execution_count": 61,
   "metadata": {},
   "outputs": [
    {
     "data": {
      "text/plain": [
       "(386884, 2)"
      ]
     },
     "execution_count": 61,
     "metadata": {},
     "output_type": "execute_result"
    }
   ],
   "source": [
    "initial_predict_submission = pd.DataFrame(data=test_values['row_id'], columns=['row_id'])\n",
    "initial_predict_submission['accepted'] = scores\n",
    "\n",
    "initial_predict_submission.shape"
   ]
  },
  {
   "cell_type": "code",
   "execution_count": 62,
   "metadata": {},
   "outputs": [
    {
     "data": {
      "text/html": [
       "<div>\n",
       "<style scoped>\n",
       "    .dataframe tbody tr th:only-of-type {\n",
       "        vertical-align: middle;\n",
       "    }\n",
       "\n",
       "    .dataframe tbody tr th {\n",
       "        vertical-align: top;\n",
       "    }\n",
       "\n",
       "    .dataframe thead th {\n",
       "        text-align: right;\n",
       "    }\n",
       "</style>\n",
       "<table border=\"1\" class=\"dataframe\">\n",
       "  <thead>\n",
       "    <tr style=\"text-align: right;\">\n",
       "      <th></th>\n",
       "      <th>row_id</th>\n",
       "      <th>accepted</th>\n",
       "    </tr>\n",
       "  </thead>\n",
       "  <tbody>\n",
       "    <tr>\n",
       "      <th>1</th>\n",
       "      <td>1</td>\n",
       "      <td>1</td>\n",
       "    </tr>\n",
       "    <tr>\n",
       "      <th>3</th>\n",
       "      <td>3</td>\n",
       "      <td>1</td>\n",
       "    </tr>\n",
       "    <tr>\n",
       "      <th>4</th>\n",
       "      <td>4</td>\n",
       "      <td>1</td>\n",
       "    </tr>\n",
       "    <tr>\n",
       "      <th>5</th>\n",
       "      <td>5</td>\n",
       "      <td>0</td>\n",
       "    </tr>\n",
       "    <tr>\n",
       "      <th>7</th>\n",
       "      <td>7</td>\n",
       "      <td>1</td>\n",
       "    </tr>\n",
       "  </tbody>\n",
       "</table>\n",
       "</div>"
      ],
      "text/plain": [
       "   row_id  accepted\n",
       "1       1         1\n",
       "3       3         1\n",
       "4       4         1\n",
       "5       5         0\n",
       "7       7         1"
      ]
     },
     "execution_count": 62,
     "metadata": {},
     "output_type": "execute_result"
    }
   ],
   "source": [
    "initial_predict_submission.head()"
   ]
  },
  {
   "cell_type": "code",
   "execution_count": 63,
   "metadata": {},
   "outputs": [],
   "source": [
    "initial_predict_submission.to_csv('initial_predict_submission-2.csv', index=None)"
   ]
  }
 ],
 "metadata": {
  "kernelspec": {
   "display_name": "Python 3",
   "language": "python",
   "name": "python3"
  },
  "language_info": {
   "codemirror_mode": {
    "name": "ipython",
    "version": 3
   },
   "file_extension": ".py",
   "mimetype": "text/x-python",
   "name": "python",
   "nbconvert_exporter": "python",
   "pygments_lexer": "ipython3",
   "version": "3.6.5"
  }
 },
 "nbformat": 4,
 "nbformat_minor": 2
}
