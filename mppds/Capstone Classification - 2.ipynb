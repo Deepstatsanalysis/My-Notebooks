{
 "cells": [
  {
   "cell_type": "code",
   "execution_count": 85,
   "metadata": {},
   "outputs": [],
   "source": [
    "import numpy as np\n",
    "import pandas as pd\n",
    "import matplotlib.pyplot as plt\n",
    "import seaborn as sns\n",
    "import math\n",
    "import numpy.random as nr\n",
    "\n",
    "import sklearn.model_selection as ms\n",
    "from sklearn import linear_model\n",
    "from sklearn import preprocessing\n",
    "import sklearn.metrics as sklm\n",
    "\n",
    "%matplotlib inline"
   ]
  },
  {
   "cell_type": "code",
   "execution_count": 100,
   "metadata": {},
   "outputs": [],
   "source": [
    "train_data = pd.read_csv('preped_data2.csv')\n",
    "labels = np.array(train_data['accepted'])"
   ]
  },
  {
   "cell_type": "code",
   "execution_count": 101,
   "metadata": {},
   "outputs": [
    {
     "data": {
      "text/plain": [
       "(500000, 24)"
      ]
     },
     "execution_count": 101,
     "metadata": {},
     "output_type": "execute_result"
    }
   ],
   "source": [
    "train_data.shape"
   ]
  },
  {
   "cell_type": "code",
   "execution_count": 102,
   "metadata": {},
   "outputs": [],
   "source": [
    "train_data.drop('row_id', axis = 1, inplace = True)\n",
    "train_data.drop('accepted', axis = 1, inplace = True)"
   ]
  },
  {
   "cell_type": "code",
   "execution_count": 103,
   "metadata": {},
   "outputs": [
    {
     "data": {
      "text/plain": [
       "(500000, 22)"
      ]
     },
     "execution_count": 103,
     "metadata": {},
     "output_type": "execute_result"
    }
   ],
   "source": [
    "train_data.shape"
   ]
  },
  {
   "cell_type": "code",
   "execution_count": 150,
   "metadata": {},
   "outputs": [],
   "source": [
    "# train_data.loc[train_data['co_applicant'] == False, 'co_applicant'] = 0\n",
    "# train_data.loc[train_data['co_applicant'] == True, 'co_applicant'] = 1"
   ]
  },
  {
   "cell_type": "code",
   "execution_count": 272,
   "metadata": {},
   "outputs": [
    {
     "name": "stdout",
     "output_type": "stream",
     "text": [
      "15\n",
      "(500000, 15)\n"
     ]
    }
   ],
   "source": [
    "# features_cols = [col for col in train_data.columns if train_data[col].dtype == int or train_data[col].dtype == float]\n",
    "\n",
    "# Acc --> 0.63\n",
    "# AUC --> 0.65\n",
    "# feature_cols = ['loan_type', 'property_type', 'loan_purpose', 'occupancy', 'loan_amount', 'preapproval', \n",
    "#                 'msa_md', 'state_code', 'county_code', 'applicant_income',\n",
    "#         'ffiecmedian_family_income', 'tract_to_msa_md_income_pct', 'number_of_owner-occupied_units', \n",
    "#         'number_of_1_to_4_family_units', 'lender']\n",
    "\n",
    "\n",
    "# Acc --> 0.63\n",
    "# AUC --> 0.65\n",
    "# feature_cols = ['loan_type', 'property_type', 'loan_purpose', 'occupancy', 'loan_amount', 'preapproval', \n",
    "#                 'msa_md', 'state_code', 'county_code', 'applicant_income',\n",
    "#                 'tract_to_msa_md_income_pct', 'number_of_owner-occupied_units', 'lender']\n",
    "\n",
    "\n",
    "# Acc --> 0.63\n",
    "# AUC --> 0.66\n",
    "# test_size --> 1000\n",
    "# feature_cols = ['loan_type', 'property_type', 'loan_purpose', 'occupancy', 'loan_amount', 'preapproval', \n",
    "#                 'msa_md', 'state_code', 'county_code', 'applicant_income', 'number_of_owner-occupied_units',\n",
    "#                 'tract_to_msa_md_income_pct', 'number_of_owner-occupied_units', 'lender']\n",
    "\n",
    "#Acc --> 0.62\n",
    "# feature_cols = ['loan_type', 'property_type', 'loan_purpose', 'occupancy', 'loan_amount', 'preapproval', \n",
    "#                 'msa_md', 'state_code', 'county_code', 'applicant_income',\n",
    "#                 'tract_to_msa_md_income_pct', 'number_of_owner-occupied_units', 'lender']\n",
    "\n",
    "# 0.62 --> Accuracy\n",
    "# feature_cols = ['loan_type', 'property_type', 'loan_purpose', 'occupancy', 'loan_amount', 'preapproval', 'msa_md', 'state_code', \n",
    "#         'county_code', 'applicant_ethnicity','applicant_race', 'applicant_sex', 'applicant_income', 'population', \n",
    "#         'minority_population_pct', 'ffiecmedian_family_income', 'tract_to_msa_md_income_pct', 'number_of_owner-occupied_units', \n",
    "#         'number_of_1_to_4_family_units', 'lender']\n",
    "\n",
    "# Acc --> 0.61\n",
    "# AUC --> 0.63\n",
    "# feature_cols = ['loan_type', 'property_type', 'loan_purpose', 'occupancy', 'loan_amount', 'preapproval', \n",
    "#                 'msa_md', 'state_code', 'county_code', 'applicant_income',\n",
    "#                 'tract_to_msa_md_income_pct', 'number_of_owner-occupied_units', 'lender']\n",
    "\n",
    "\n",
    "feature_cols = ['loan_type', 'property_type', 'loan_purpose', 'occupancy', 'loan_amount', 'preapproval', \n",
    "                'msa_md', 'state_code', 'county_code', 'applicant_income',\n",
    "        'ffiecmedian_family_income', 'tract_to_msa_md_income_pct', 'number_of_owner-occupied_units', \n",
    "        'number_of_1_to_4_family_units', 'lender']\n",
    "\n",
    "print(len(feature_cols))\n",
    "\n",
    "features = np.array(train_data[feature_cols])\n",
    "print(features.shape)"
   ]
  },
  {
   "cell_type": "code",
   "execution_count": 275,
   "metadata": {},
   "outputs": [],
   "source": [
    "nr.seed(9988)\n",
    "indx = range(features.shape[0])\n",
    "indx = ms.train_test_split(indx, test_size = 300)\n",
    "X_train = features[indx[0],:]\n",
    "y_train = np.ravel(labels[indx[0]])\n",
    "X_test = features[indx[1],:]\n",
    "y_test = np.ravel(labels[indx[1]])"
   ]
  },
  {
   "cell_type": "code",
   "execution_count": null,
   "metadata": {},
   "outputs": [],
   "source": []
  },
  {
   "cell_type": "code",
   "execution_count": 276,
   "metadata": {},
   "outputs": [],
   "source": [
    "scaler = preprocessing.StandardScaler().fit(X_train[:,14:])\n",
    "X_train[:,14:] = scaler.transform(X_train[:,14:])\n",
    "X_test[:,14:] = scaler.transform(X_test[:,14:])"
   ]
  },
  {
   "cell_type": "code",
   "execution_count": 277,
   "metadata": {},
   "outputs": [
    {
     "data": {
      "text/plain": [
       "LogisticRegression(C=1.0, class_weight=None, dual=False, fit_intercept=True,\n",
       "          intercept_scaling=1, max_iter=100, multi_class='ovr', n_jobs=1,\n",
       "          penalty='l2', random_state=None, solver='liblinear', tol=0.0001,\n",
       "          verbose=0, warm_start=False)"
      ]
     },
     "execution_count": 277,
     "metadata": {},
     "output_type": "execute_result"
    }
   ],
   "source": [
    "logistic_mod = linear_model.LogisticRegression()\n",
    "logistic_mod.fit(X_train, y_train)"
   ]
  },
  {
   "cell_type": "code",
   "execution_count": 278,
   "metadata": {},
   "outputs": [
    {
     "name": "stdout",
     "output_type": "stream",
     "text": [
      "[-0.26707743]\n",
      "[[ 2.94341445e-02 -1.00090649e+00 -4.50929443e-01  1.10998673e-01\n",
      "   4.66462484e-04  4.15504471e-01 -1.83801139e-04  3.28160534e-03\n",
      "  -5.68840765e-05  7.61299399e-04  4.73258149e-06  3.64184205e-03\n",
      "   2.59086564e-04 -1.58108936e-04  4.30966060e-02]]\n"
     ]
    }
   ],
   "source": [
    "print(logistic_mod.intercept_)\n",
    "print(logistic_mod.coef_)"
   ]
  },
  {
   "cell_type": "code",
   "execution_count": 280,
   "metadata": {},
   "outputs": [
    {
     "name": "stdout",
     "output_type": "stream",
     "text": [
      "[[0.45069178 0.54930822]\n",
      " [0.56604592 0.43395408]\n",
      " [0.55913102 0.44086898]\n",
      " [0.36269703 0.63730297]\n",
      " [0.55063401 0.44936599]\n",
      " [0.32618821 0.67381179]\n",
      " [0.83243667 0.16756333]\n",
      " [0.5697869  0.4302131 ]\n",
      " [0.54382718 0.45617282]\n",
      " [0.55873214 0.44126786]\n",
      " [0.54652764 0.45347236]\n",
      " [0.55168831 0.44831169]\n",
      " [0.29489739 0.70510261]\n",
      " [0.52225613 0.47774387]\n",
      " [0.27692609 0.72307391]]\n"
     ]
    }
   ],
   "source": [
    "probabilities = logistic_mod.predict_proba(X_test)\n",
    "print(probabilities[:15,:])"
   ]
  },
  {
   "cell_type": "code",
   "execution_count": 281,
   "metadata": {},
   "outputs": [
    {
     "name": "stdout",
     "output_type": "stream",
     "text": [
      "[1 0 0 1 0 1 0 0 0 0 0 0 1 0 1]\n",
      "[0. 0. 0. 0. 1. 0. 1. 0. 0. 1. 1. 1. 1. 0. 0.]\n"
     ]
    }
   ],
   "source": [
    "def score_model(probs, threshold):\n",
    "    return np.array([1 if x > threshold else 0 for x in probs[:,1]])\n",
    "scores = score_model(probabilities, 0.5)\n",
    "print(np.array(scores[:15]))\n",
    "print(y_test[:15])"
   ]
  },
  {
   "cell_type": "code",
   "execution_count": 282,
   "metadata": {},
   "outputs": [
    {
     "name": "stdout",
     "output_type": "stream",
     "text": [
      "                 Confusion matrix\n",
      "                 Score positive    Score negative\n",
      "Actual positive        99                45\n",
      "Actual negative        79                77\n",
      "\n",
      "Accuracy  0.59\n",
      " \n",
      "           Positive      Negative\n",
      "Num case      144           156\n",
      "Precision    0.56          0.63\n",
      "Recall       0.69          0.49\n",
      "F1           0.61          0.55\n"
     ]
    }
   ],
   "source": [
    "def print_metrics(labels, scores):\n",
    "    metrics = sklm.precision_recall_fscore_support(labels, scores)\n",
    "    conf = sklm.confusion_matrix(labels, scores)\n",
    "    print('                 Confusion matrix')\n",
    "    print('                 Score positive    Score negative')\n",
    "    print('Actual positive    %6d' % conf[0,0] + '             %5d' % conf[0,1])\n",
    "    print('Actual negative    %6d' % conf[1,0] + '             %5d' % conf[1,1])\n",
    "    print('')\n",
    "    print('Accuracy  %0.2f' % sklm.accuracy_score(labels, scores))\n",
    "    print(' ')\n",
    "    print('           Positive      Negative')\n",
    "    print('Num case   %6d' % metrics[3][0] + '        %6d' % metrics[3][1])\n",
    "    print('Precision  %6.2f' % metrics[0][0] + '        %6.2f' % metrics[0][1])\n",
    "    print('Recall     %6.2f' % metrics[1][0] + '        %6.2f' % metrics[1][1])\n",
    "    print('F1         %6.2f' % metrics[2][0] + '        %6.2f' % metrics[2][1])\n",
    "\n",
    "\n",
    "    \n",
    "print_metrics(y_test, scores)    "
   ]
  },
  {
   "cell_type": "code",
   "execution_count": 271,
   "metadata": {},
   "outputs": [
    {
     "data": {
      "image/png": "[encoded data removed]",
      "text/plain": [
       "<Figure size 432x288 with 1 Axes>"
      ]
     },
     "metadata": {},
     "output_type": "display_data"
    }
   ],
   "source": [
    "def plot_auc(labels, probs):\n",
    "    ## Compute the false positive rate, true positive rate\n",
    "    ## and threshold along with the AUC\n",
    "    fpr, tpr, threshold = sklm.roc_curve(labels, probs[:,1])\n",
    "    auc = sklm.auc(fpr, tpr)\n",
    "    \n",
    "    ## Plot the result\n",
    "    plt.title('Receiver Operating Characteristic')\n",
    "    plt.plot(fpr, tpr, color = 'orange', label = 'AUC = %0.2f' % auc)\n",
    "    plt.legend(loc = 'lower right')\n",
    "    plt.plot([0, 1], [0, 1],'r--')\n",
    "    plt.xlim([0, 1])\n",
    "    plt.ylim([0, 1])\n",
    "    plt.ylabel('True Positive Rate')\n",
    "    plt.xlabel('False Positive Rate')\n",
    "    plt.show()\n",
    "    \n",
    "plot_auc(y_test, probabilities)"
   ]
  }
 ],
 "metadata": {
  "kernelspec": {
   "display_name": "Python 3",
   "language": "python",
   "name": "python3"
  },
  "language_info": {
   "codemirror_mode": {
    "name": "ipython",
    "version": 3
   },
   "file_extension": ".py",
   "mimetype": "text/x-python",
   "name": "python",
   "nbconvert_exporter": "python",
   "pygments_lexer": "ipython3",
   "version": "3.6.5"
  }
 },
 "nbformat": 4,
 "nbformat_minor": 2
}
