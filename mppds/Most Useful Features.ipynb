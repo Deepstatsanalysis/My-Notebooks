{
 "cells": [
  {
   "cell_type": "code",
   "execution_count": null,
   "metadata": {},
   "outputs": [],
   "source": [
    "used_features = ['loan_type', 'property_type', 'loan_purpose', 'occupancy', 'loan_amount', 'preapproval', \n",
    "                'msa_md', 'state_code', 'county_code', 'applicant_income',\n",
    "        'ffiecmedian_family_income', 'tract_to_msa_md_income_pct', 'number_of_owner-occupied_units', \n",
    "        'number_of_1_to_4_family_units', 'lender']\n",
    "\n",
    "most_helpful_catboost_features = ['lender', 'loan_purpose', 'ffiecmedian_family_income', 'number_of_owner-occupied_units', \n",
    "                                  'applicant_income', 'preapproval']"
   ]
  }
 ],
 "metadata": {
  "kernelspec": {
   "display_name": "Python 3",
   "language": "python",
   "name": "python3"
  },
  "language_info": {
   "codemirror_mode": {
    "name": "ipython",
    "version": 3
   },
   "file_extension": ".py",
   "mimetype": "text/x-python",
   "name": "python",
   "nbconvert_exporter": "python",
   "pygments_lexer": "ipython3",
   "version": "3.6.5"
  }
 },
 "nbformat": 4,
 "nbformat_minor": 2
}
