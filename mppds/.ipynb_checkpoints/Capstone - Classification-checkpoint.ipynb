{
 "cells": [
  {
   "cell_type": "code",
   "execution_count": 178,
   "metadata": {},
   "outputs": [],
   "source": [
    "import numpy as np\n",
    "import pandas as pd\n",
    "import matplotlib.pyplot as plt\n",
    "import seaborn as sns\n",
    "import math\n",
    "import numpy.random as nr\n",
    "\n",
    "import sklearn.model_selection as ms\n",
    "from sklearn import linear_model\n",
    "from sklearn import preprocessing\n",
    "import sklearn.metrics as sklm\n",
    "\n",
    "%matplotlib inline"
   ]
  },
  {
   "cell_type": "code",
   "execution_count": 179,
   "metadata": {},
   "outputs": [],
   "source": [
    "train_data = pd.read_csv('preped_data.csv')\n",
    "labels = np.array(train_data['accepted'])"
   ]
  },
  {
   "cell_type": "code",
   "execution_count": 180,
   "metadata": {},
   "outputs": [
    {
     "data": {
      "text/plain": [
       "(500000, 24)"
      ]
     },
     "execution_count": 180,
     "metadata": {},
     "output_type": "execute_result"
    }
   ],
   "source": [
    "# train_data.drop('accepted', axis = 1, inplace = True)\n",
    "# train_data.drop('row_id', axis = 1, inplace = True)\n",
    "\n",
    "train_data.shape"
   ]
  },
  {
   "cell_type": "code",
   "execution_count": 181,
   "metadata": {},
   "outputs": [
    {
     "data": {
      "text/plain": [
       "Unnamed: 0                          int64\n",
       "row_id                              int64\n",
       "loan_type                           int64\n",
       "property_type                       int64\n",
       "loan_purpose                        int64\n",
       "occupancy                           int64\n",
       "loan_amount                       float64\n",
       "preapproval                         int64\n",
       "msa_md                            float64\n",
       "state_code                        float64\n",
       "county_code                       float64\n",
       "applicant_ethnicity                 int64\n",
       "applicant_race                      int64\n",
       "applicant_sex                       int64\n",
       "applicant_income                  float64\n",
       "population                        float64\n",
       "minority_population_pct           float64\n",
       "ffiecmedian_family_income         float64\n",
       "tract_to_msa_md_income_pct        float64\n",
       "number_of_owner-occupied_units    float64\n",
       "number_of_1_to_4_family_units     float64\n",
       "lender                              int64\n",
       "co_applicant                         bool\n",
       "accepted                            int64\n",
       "dtype: object"
      ]
     },
     "execution_count": 181,
     "metadata": {},
     "output_type": "execute_result"
    }
   ],
   "source": [
    "train_data.dtypes"
   ]
  },
  {
   "cell_type": "code",
   "execution_count": 182,
   "metadata": {},
   "outputs": [
    {
     "data": {
      "text/plain": [
       "False    299974\n",
       "True     200026\n",
       "Name: co_applicant, dtype: int64"
      ]
     },
     "execution_count": 182,
     "metadata": {},
     "output_type": "execute_result"
    }
   ],
   "source": [
    "train_data['co_applicant'].value_counts()"
   ]
  },
  {
   "cell_type": "code",
   "execution_count": 183,
   "metadata": {},
   "outputs": [
    {
     "data": {
      "text/plain": [
       "0    299974\n",
       "1    200026\n",
       "Name: co_applicant, dtype: int64"
      ]
     },
     "execution_count": 183,
     "metadata": {},
     "output_type": "execute_result"
    }
   ],
   "source": [
    "train_data.loc[train_data['co_applicant'] == False, 'co_applicant'] = 0\n",
    "train_data.loc[train_data['co_applicant'] == True, 'co_applicant'] = 1\n",
    "\n",
    "train_data['co_applicant'].value_counts()"
   ]
  },
  {
   "cell_type": "code",
   "execution_count": 184,
   "metadata": {},
   "outputs": [
    {
     "data": {
      "text/plain": [
       "Unnamed: 0                          int64\n",
       "row_id                              int64\n",
       "loan_type                           int64\n",
       "property_type                       int64\n",
       "loan_purpose                        int64\n",
       "occupancy                           int64\n",
       "loan_amount                       float64\n",
       "preapproval                         int64\n",
       "msa_md                            float64\n",
       "state_code                        float64\n",
       "county_code                       float64\n",
       "applicant_ethnicity                 int64\n",
       "applicant_race                      int64\n",
       "applicant_sex                       int64\n",
       "applicant_income                  float64\n",
       "population                        float64\n",
       "minority_population_pct           float64\n",
       "ffiecmedian_family_income         float64\n",
       "tract_to_msa_md_income_pct        float64\n",
       "number_of_owner-occupied_units    float64\n",
       "number_of_1_to_4_family_units     float64\n",
       "lender                              int64\n",
       "co_applicant                        int64\n",
       "accepted                            int64\n",
       "dtype: object"
      ]
     },
     "execution_count": 184,
     "metadata": {},
     "output_type": "execute_result"
    }
   ],
   "source": [
    "train_data.dtypes"
   ]
  },
  {
   "cell_type": "code",
   "execution_count": 206,
   "metadata": {},
   "outputs": [],
   "source": [
    "# Acc: 0.60\n",
    "# AUC: 0.64\n",
    "# cols = ['loan_type', 'property_type', 'loan_purpose', 'occupancy', 'loan_amount', 'preapproval', \n",
    "#                 'msa_md', 'state_code', 'county_code', 'applicant_income',\n",
    "#         'ffiecmedian_family_income', 'tract_to_msa_md_income_pct', 'number_of_owner-occupied_units', \n",
    "#         'number_of_1_to_4_family_units', 'lender']\n",
    "\n",
    "#Acc: 0.61\n",
    "#AUC: 0.65\n",
    "cols = ['loan_type', 'property_type', 'loan_purpose', 'occupancy', 'loan_amount', 'preapproval', \n",
    "                'msa_md', 'state_code', 'county_code', 'applicant_income',\n",
    "                'tract_to_msa_md_income_pct', 'number_of_owner-occupied_units', 'lender']\n",
    "\n",
    "features = np.array(train_data[cols])"
   ]
  },
  {
   "cell_type": "code",
   "execution_count": 207,
   "metadata": {},
   "outputs": [],
   "source": [
    "nr.seed(9988)\n",
    "indx = range(features.shape[0])\n",
    "indx = ms.train_test_split(indx, test_size = 300)\n",
    "X_train = features[indx[0],:]\n",
    "y_train = np.ravel(labels[indx[0]])\n",
    "X_test = features[indx[1],:]\n",
    "y_test = np.ravel(labels[indx[1]])"
   ]
  },
  {
   "cell_type": "code",
   "execution_count": 208,
   "metadata": {},
   "outputs": [
    {
     "name": "stdout",
     "output_type": "stream",
     "text": [
      "(499700, 13)\n"
     ]
    },
    {
     "data": {
      "text/plain": [
       "(300, 13)"
      ]
     },
     "execution_count": 208,
     "metadata": {},
     "output_type": "execute_result"
    }
   ],
   "source": [
    "print(X_train.shape)\n",
    "X_test.shape"
   ]
  },
  {
   "cell_type": "code",
   "execution_count": 209,
   "metadata": {},
   "outputs": [],
   "source": [
    "scaler = preprocessing.StandardScaler().fit(X_train[:,12:])\n",
    "X_train[:,12:] = scaler.transform(X_train[:,12:])\n",
    "X_test[:,12:] = scaler.transform(X_test[:,12:])"
   ]
  },
  {
   "cell_type": "code",
   "execution_count": 210,
   "metadata": {},
   "outputs": [
    {
     "data": {
      "text/plain": [
       "LogisticRegression(C=1.0, class_weight=None, dual=False, fit_intercept=True,\n",
       "          intercept_scaling=1, max_iter=100, multi_class='ovr', n_jobs=1,\n",
       "          penalty='l2', random_state=None, solver='liblinear', tol=0.0001,\n",
       "          verbose=0, warm_start=False)"
      ]
     },
     "execution_count": 210,
     "metadata": {},
     "output_type": "execute_result"
    }
   ],
   "source": [
    "logistic_mod = linear_model.LogisticRegression() \n",
    "logistic_mod.fit(X_train, y_train)"
   ]
  },
  {
   "cell_type": "code",
   "execution_count": 211,
   "metadata": {},
   "outputs": [
    {
     "name": "stdout",
     "output_type": "stream",
     "text": [
      "[-1.03085091]\n",
      "[[ 4.56148307e-02 -9.11027523e-01 -4.41228511e-01  2.49439108e-01\n",
      "   4.53727594e-04  9.45739903e-02  4.59588546e-04  7.46079260e-03\n",
      "   2.19297984e-04  3.49399595e-04  2.09224863e-02  1.62932200e-05\n",
      "   1.92137003e-02]]\n"
     ]
    }
   ],
   "source": [
    "print(logistic_mod.intercept_)\n",
    "print(logistic_mod.coef_)"
   ]
  },
  {
   "cell_type": "code",
   "execution_count": 212,
   "metadata": {},
   "outputs": [
    {
     "name": "stdout",
     "output_type": "stream",
     "text": [
      "[[0.44322626 0.55677374]\n",
      " [0.54950712 0.45049288]\n",
      " [0.48736386 0.51263614]\n",
      " [0.34703953 0.65296047]\n",
      " [0.54612454 0.45387546]\n",
      " [0.29177724 0.70822276]\n",
      " [0.84708401 0.15291599]\n",
      " [0.53764099 0.46235901]\n",
      " [0.5327527  0.4672473 ]\n",
      " [0.49880913 0.50119087]\n",
      " [0.48940608 0.51059392]\n",
      " [0.61088758 0.38911242]\n",
      " [0.27750961 0.72249039]\n",
      " [0.48250039 0.51749961]\n",
      " [0.72131002 0.27868998]]\n"
     ]
    }
   ],
   "source": [
    "probabilities = logistic_mod.predict_proba(X_test)\n",
    "print(probabilities[:15,:])"
   ]
  },
  {
   "cell_type": "code",
   "execution_count": 213,
   "metadata": {},
   "outputs": [
    {
     "name": "stdout",
     "output_type": "stream",
     "text": [
      "[1 0 1 1 0 1 0 0 0 1 1 0 1 1 0]\n",
      "[0 0 0 0 1 0 1 0 0 1 1 1 1 0 0]\n"
     ]
    }
   ],
   "source": [
    "def score_model(probs, threshold):\n",
    "    return np.array([1 if x > threshold else 0 for x in probs[:,1]])\n",
    "scores = score_model(probabilities, 0.5)\n",
    "print(np.array(scores[:15]))\n",
    "print(y_test[:15])"
   ]
  },
  {
   "cell_type": "code",
   "execution_count": 214,
   "metadata": {},
   "outputs": [
    {
     "name": "stdout",
     "output_type": "stream",
     "text": [
      "                 Confusion matrix\n",
      "                 Score positive    Score negative\n",
      "Actual positive        89                55\n",
      "Actual negative        63                93\n",
      "\n",
      "Accuracy  0.61\n",
      " \n",
      "           Positive      Negative\n",
      "Num case      144           156\n",
      "Precision    0.59          0.63\n",
      "Recall       0.62          0.60\n",
      "F1           0.60          0.61\n"
     ]
    }
   ],
   "source": [
    "def print_metrics(labels, scores):\n",
    "    metrics = sklm.precision_recall_fscore_support(labels, scores)\n",
    "    conf = sklm.confusion_matrix(labels, scores)\n",
    "    print('                 Confusion matrix')\n",
    "    print('                 Score positive    Score negative')\n",
    "    print('Actual positive    %6d' % conf[0,0] + '             %5d' % conf[0,1])\n",
    "    print('Actual negative    %6d' % conf[1,0] + '             %5d' % conf[1,1])\n",
    "    print('')\n",
    "    print('Accuracy  %0.2f' % sklm.accuracy_score(labels, scores))\n",
    "    print(' ')\n",
    "    print('           Positive      Negative')\n",
    "    print('Num case   %6d' % metrics[3][0] + '        %6d' % metrics[3][1])\n",
    "    print('Precision  %6.2f' % metrics[0][0] + '        %6.2f' % metrics[0][1])\n",
    "    print('Recall     %6.2f' % metrics[1][0] + '        %6.2f' % metrics[1][1])\n",
    "    print('F1         %6.2f' % metrics[2][0] + '        %6.2f' % metrics[2][1])\n",
    "\n",
    "\n",
    "    \n",
    "print_metrics(y_test, scores)    "
   ]
  },
  {
   "cell_type": "code",
   "execution_count": 215,
   "metadata": {},
   "outputs": [
    {
     "data": {
      "image/png": "[encoded data removed]",
      "text/plain": [
       "<Figure size 432x288 with 1 Axes>"
      ]
     },
     "metadata": {},
     "output_type": "display_data"
    }
   ],
   "source": [
    "def plot_auc(labels, probs):\n",
    "    ## Compute the false positive rate, true positive rate\n",
    "    ## and threshold along with the AUC\n",
    "    fpr, tpr, threshold = sklm.roc_curve(labels, probs[:,1])\n",
    "    auc = sklm.auc(fpr, tpr)\n",
    "    \n",
    "    ## Plot the result\n",
    "    plt.title('Receiver Operating Characteristic')\n",
    "    plt.plot(fpr, tpr, color = 'orange', label = 'AUC = %0.2f' % auc)\n",
    "    plt.legend(loc = 'lower right')\n",
    "    plt.plot([0, 1], [0, 1],'r--')\n",
    "    plt.xlim([0, 1])\n",
    "    plt.ylim([0, 1])\n",
    "    plt.ylabel('True Positive Rate')\n",
    "    plt.xlabel('False Positive Rate')\n",
    "    plt.show()\n",
    "    \n",
    "plot_auc(y_test, probabilities)"
   ]
  },
  {
   "cell_type": "code",
   "execution_count": 100,
   "metadata": {},
   "outputs": [
    {
     "data": {
      "text/plain": [
       "(500000, 22)"
      ]
     },
     "execution_count": 100,
     "metadata": {},
     "output_type": "execute_result"
    }
   ],
   "source": [
    "# Using Supplied TEST VALUES to test for model accuracy \n",
    "test_values = pd.read_csv('test_values.csv')\n",
    "test_values.shape"
   ]
  },
  {
   "cell_type": "code",
   "execution_count": 101,
   "metadata": {},
   "outputs": [
    {
     "data": {
      "text/plain": [
       "row_id                              int64\n",
       "loan_type                           int64\n",
       "property_type                       int64\n",
       "loan_purpose                        int64\n",
       "occupancy                           int64\n",
       "loan_amount                       float64\n",
       "preapproval                         int64\n",
       "msa_md                              int64\n",
       "state_code                          int64\n",
       "county_code                         int64\n",
       "applicant_ethnicity                 int64\n",
       "applicant_race                      int64\n",
       "applicant_sex                       int64\n",
       "applicant_income                  float64\n",
       "population                        float64\n",
       "minority_population_pct           float64\n",
       "ffiecmedian_family_income         float64\n",
       "tract_to_msa_md_income_pct        float64\n",
       "number_of_owner-occupied_units    float64\n",
       "number_of_1_to_4_family_units     float64\n",
       "lender                              int64\n",
       "co_applicant                         bool\n",
       "dtype: object"
      ]
     },
     "execution_count": 101,
     "metadata": {},
     "output_type": "execute_result"
    }
   ],
   "source": [
    "test_values.dtypes"
   ]
  },
  {
   "cell_type": "code",
   "execution_count": 102,
   "metadata": {},
   "outputs": [],
   "source": [
    "test_values.loc[test_values['co_applicant'] == False, 'co_applicant'] = 0\n",
    "test_values.loc[test_values['co_applicant'] == True, 'co_applicant'] = 1"
   ]
  },
  {
   "cell_type": "code",
   "execution_count": 153,
   "metadata": {},
   "outputs": [
    {
     "data": {
      "text/plain": [
       "row_id                                0\n",
       "loan_type                             0\n",
       "property_type                         0\n",
       "loan_purpose                          0\n",
       "occupancy                             0\n",
       "loan_amount                           0\n",
       "preapproval                           0\n",
       "msa_md                                0\n",
       "state_code                            0\n",
       "county_code                           0\n",
       "applicant_ethnicity                   0\n",
       "applicant_race                        0\n",
       "applicant_sex                         0\n",
       "applicant_income                  40141\n",
       "population                        22480\n",
       "minority_population_pct           22482\n",
       "ffiecmedian_family_income         22453\n",
       "tract_to_msa_md_income_pct        22517\n",
       "number_of_owner-occupied_units    22574\n",
       "number_of_1_to_4_family_units     22550\n",
       "lender                                0\n",
       "co_applicant                          0\n",
       "dtype: int64"
      ]
     },
     "execution_count": 153,
     "metadata": {},
     "output_type": "execute_result"
    }
   ],
   "source": [
    "test_values.isnull().sum()"
   ]
  },
  {
   "cell_type": "code",
   "execution_count": 157,
   "metadata": {},
   "outputs": [],
   "source": [
    "test_values.fillna(0, inplace=True)"
   ]
  },
  {
   "cell_type": "code",
   "execution_count": 158,
   "metadata": {},
   "outputs": [],
   "source": [
    "cols = ['state_code', 'county_code', 'msa_md']\n",
    "for col in cols:\n",
    "    test_values.loc[train_data[col] == -1, col] = 0"
   ]
  },
  {
   "cell_type": "code",
   "execution_count": 159,
   "metadata": {},
   "outputs": [
    {
     "data": {
      "text/plain": [
       "row_id                            0\n",
       "loan_type                         0\n",
       "property_type                     0\n",
       "loan_purpose                      0\n",
       "occupancy                         0\n",
       "loan_amount                       0\n",
       "preapproval                       0\n",
       "msa_md                            0\n",
       "state_code                        0\n",
       "county_code                       0\n",
       "applicant_ethnicity               0\n",
       "applicant_race                    0\n",
       "applicant_sex                     0\n",
       "applicant_income                  0\n",
       "population                        0\n",
       "minority_population_pct           0\n",
       "ffiecmedian_family_income         0\n",
       "tract_to_msa_md_income_pct        0\n",
       "number_of_owner-occupied_units    0\n",
       "number_of_1_to_4_family_units     0\n",
       "lender                            0\n",
       "co_applicant                      0\n",
       "dtype: int64"
      ]
     },
     "execution_count": 159,
     "metadata": {},
     "output_type": "execute_result"
    }
   ],
   "source": [
    "test_values.isnull().sum()"
   ]
  },
  {
   "cell_type": "code",
   "execution_count": 160,
   "metadata": {},
   "outputs": [
    {
     "data": {
      "text/plain": [
       "(500000, 21)"
      ]
     },
     "execution_count": 160,
     "metadata": {},
     "output_type": "execute_result"
    }
   ],
   "source": [
    "cols = ['loan_type', 'property_type', 'loan_purpose', 'occupancy', 'loan_amount', 'preapproval', 'msa_md', 'state_code', \n",
    "        'county_code', 'applicant_ethnicity','applicant_race', 'applicant_sex', 'applicant_income', 'population', \n",
    "        'minority_population_pct', 'ffiecmedian_family_income', 'tract_to_msa_md_income_pct', 'number_of_owner-occupied_units', \n",
    "        'number_of_1_to_4_family_units', 'lender', 'co_applicant']\n",
    "\n",
    "test_features = np.array(test_values[cols])\n",
    "test_features.shape"
   ]
  },
  {
   "cell_type": "code",
   "execution_count": 161,
   "metadata": {},
   "outputs": [],
   "source": [
    "test_features[:,20:] = scaler.transform(test_features[:,20:])\n",
    "\n",
    "probabilities = logistic_mod.predict_proba(test_features)"
   ]
  },
  {
   "cell_type": "code",
   "execution_count": 162,
   "metadata": {},
   "outputs": [
    {
     "name": "stdout",
     "output_type": "stream",
     "text": [
      "[[0.61264169 0.38735831]\n",
      " [0.31286368 0.68713632]\n",
      " [0.74050445 0.25949555]\n",
      " [0.30293224 0.69706776]\n",
      " [0.42720989 0.57279011]\n",
      " [0.53392077 0.46607923]\n",
      " [0.67513238 0.32486762]\n",
      " [0.50574626 0.49425374]\n",
      " [0.32707134 0.67292866]\n",
      " [0.32259397 0.67740603]\n",
      " [0.40346339 0.59653661]\n",
      " [0.59004097 0.40995903]\n",
      " [0.43698998 0.56301002]\n",
      " [0.39595569 0.60404431]\n",
      " [0.50314029 0.49685971]]\n"
     ]
    }
   ],
   "source": [
    "print(probabilities[:15,:])"
   ]
  },
  {
   "cell_type": "code",
   "execution_count": 176,
   "metadata": {},
   "outputs": [],
   "source": [
    "def score_model(probs, threshold):\n",
    "    return np.array([1 if x > threshold else 0 for x in probs[:,1]])\n",
    "scores = score_model(probabilities, 0.5)"
   ]
  },
  {
   "cell_type": "code",
   "execution_count": 177,
   "metadata": {},
   "outputs": [
    {
     "name": "stdout",
     "output_type": "stream",
     "text": [
      "[0 1 0 1 1 0 0 0 1 1 1 0 1 1 0]\n"
     ]
    }
   ],
   "source": [
    "print(np.array(scores[:15]))"
   ]
  }
 ],
 "metadata": {
  "kernelspec": {
   "display_name": "Python 3",
   "language": "python",
   "name": "python3"
  },
  "language_info": {
   "codemirror_mode": {
    "name": "ipython",
    "version": 3
   },
   "file_extension": ".py",
   "mimetype": "text/x-python",
   "name": "python",
   "nbconvert_exporter": "python",
   "pygments_lexer": "ipython3",
   "version": "3.6.5"
  }
 },
 "nbformat": 4,
 "nbformat_minor": 2
}
