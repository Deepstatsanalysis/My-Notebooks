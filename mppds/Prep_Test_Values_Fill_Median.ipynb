{
 "cells": [
  {
   "cell_type": "code",
   "execution_count": 18,
   "metadata": {},
   "outputs": [],
   "source": [
    "import numpy as np\n",
    "import pandas as pd\n",
    "import matplotlib.pyplot as plt\n",
    "import seaborn as sns\n",
    "import math\n",
    "import numpy.random as nr\n",
    "\n",
    "import sklearn.model_selection as ms\n",
    "from sklearn import linear_model\n",
    "from sklearn import preprocessing\n",
    "import sklearn.metrics as sklm\n",
    "\n",
    "%matplotlib inline"
   ]
  },
  {
   "cell_type": "code",
   "execution_count": 19,
   "metadata": {},
   "outputs": [
    {
     "data": {
      "text/plain": [
       "(500000, 22)"
      ]
     },
     "execution_count": 19,
     "metadata": {},
     "output_type": "execute_result"
    }
   ],
   "source": [
    "# Using Supplied TEST VALUES to test for model accuracy \n",
    "test_values = pd.read_csv('test_values.csv')\n",
    "test_values.shape"
   ]
  },
  {
   "cell_type": "code",
   "execution_count": 20,
   "metadata": {},
   "outputs": [],
   "source": [
    "cols = ['state_code', 'county_code', 'msa_md']\n",
    "for col in cols:\n",
    "    test_values.loc[test_values[col] == -1, col] = np.nan"
   ]
  },
  {
   "cell_type": "code",
   "execution_count": 21,
   "metadata": {},
   "outputs": [
    {
     "data": {
      "text/plain": [
       "row_id                                0\n",
       "loan_type                             0\n",
       "property_type                         0\n",
       "loan_purpose                          0\n",
       "occupancy                             0\n",
       "loan_amount                           0\n",
       "preapproval                           0\n",
       "msa_md                            76993\n",
       "state_code                        19120\n",
       "county_code                       20566\n",
       "applicant_ethnicity                   0\n",
       "applicant_race                        0\n",
       "applicant_sex                         0\n",
       "applicant_income                  40141\n",
       "population                        22480\n",
       "minority_population_pct           22482\n",
       "ffiecmedian_family_income         22453\n",
       "tract_to_msa_md_income_pct        22517\n",
       "number_of_owner-occupied_units    22574\n",
       "number_of_1_to_4_family_units     22550\n",
       "lender                                0\n",
       "co_applicant                          0\n",
       "dtype: int64"
      ]
     },
     "execution_count": 21,
     "metadata": {},
     "output_type": "execute_result"
    }
   ],
   "source": [
    "test_values.isnull().sum()"
   ]
  },
  {
   "cell_type": "code",
   "execution_count": 22,
   "metadata": {},
   "outputs": [],
   "source": [
    "for col in test_values.columns:\n",
    "    test_values.loc[test_values[col].isnull(), col] = test_values[col].median()"
   ]
  },
  {
   "cell_type": "code",
   "execution_count": 23,
   "metadata": {},
   "outputs": [
    {
     "data": {
      "text/plain": [
       "row_id                            0\n",
       "loan_type                         0\n",
       "property_type                     0\n",
       "loan_purpose                      0\n",
       "occupancy                         0\n",
       "loan_amount                       0\n",
       "preapproval                       0\n",
       "msa_md                            0\n",
       "state_code                        0\n",
       "county_code                       0\n",
       "applicant_ethnicity               0\n",
       "applicant_race                    0\n",
       "applicant_sex                     0\n",
       "applicant_income                  0\n",
       "population                        0\n",
       "minority_population_pct           0\n",
       "ffiecmedian_family_income         0\n",
       "tract_to_msa_md_income_pct        0\n",
       "number_of_owner-occupied_units    0\n",
       "number_of_1_to_4_family_units     0\n",
       "lender                            0\n",
       "co_applicant                      0\n",
       "dtype: int64"
      ]
     },
     "execution_count": 23,
     "metadata": {},
     "output_type": "execute_result"
    }
   ],
   "source": [
    "test_values.isnull().sum()"
   ]
  },
  {
   "cell_type": "code",
   "execution_count": 26,
   "metadata": {},
   "outputs": [],
   "source": [
    "# test_values.to_csv('preped/test_values_preped_1.csv')"
   ]
  },
  {
   "cell_type": "code",
   "execution_count": 34,
   "metadata": {},
   "outputs": [
    {
     "data": {
      "text/plain": [
       "(500000, 12)"
      ]
     },
     "execution_count": 34,
     "metadata": {},
     "output_type": "execute_result"
    }
   ],
   "source": [
    "# CatBoost  (4th submission)\n",
    "# cols = ['loan_type', 'property_type', 'loan_purpose', 'occupancy', 'loan_amount', 'preapproval', \n",
    "#                 'msa_md', 'state_code', 'county_code', 'applicant_income',\n",
    "#         'ffiecmedian_family_income', 'tract_to_msa_md_income_pct', 'number_of_owner-occupied_units', \n",
    "#         'number_of_1_to_4_family_units', 'lender']\n",
    "\n",
    "\n",
    "# CatBoost (5th submission)\n",
    "# cols = ['loan_type', 'property_type', 'loan_purpose', 'occupancy', 'loan_amount', 'preapproval', \n",
    "#                 'msa_md', 'state_code', 'county_code', 'applicant_income',\n",
    "#                 'tract_to_msa_md_income_pct', 'number_of_owner-occupied_units', 'lender']\n",
    "\n",
    "\n",
    "# SVM\n",
    "cols = ['loan_type', 'loan_purpose', 'occupancy', 'loan_amount', 'preapproval', \n",
    "        'msa_md', 'state_code', 'county_code', 'applicant_income',\n",
    "        'tract_to_msa_md_income_pct', 'number_of_owner-occupied_units', 'lender']\n",
    "\n",
    "test_features = np.array(test_values[cols])\n",
    "test_features.shape"
   ]
  },
  {
   "cell_type": "code",
   "execution_count": 35,
   "metadata": {},
   "outputs": [],
   "source": [
    "# Catboost  (4th submission)\n",
    "# pd.DataFrame(test_features).to_csv('scaled/test_values_preped_1_feature_selection.csv')\n",
    "\n",
    "# Catboost  (5th submission)\n",
    "# pd.DataFrame(test_features).to_csv('scaled/test_values_preped_1_feature_selection_5th.csv')\n",
    "\n",
    "# SVM\n",
    "pd.DataFrame(test_features).to_csv('preped/test_values_preped_1_feature_selection_svm_6th.csv')"
   ]
  }
 ],
 "metadata": {
  "kernelspec": {
   "display_name": "Python 3",
   "language": "python",
   "name": "python3"
  },
  "language_info": {
   "codemirror_mode": {
    "name": "ipython",
    "version": 3
   },
   "file_extension": ".py",
   "mimetype": "text/x-python",
   "name": "python",
   "nbconvert_exporter": "python",
   "pygments_lexer": "ipython3",
   "version": "3.6.5"
  }
 },
 "nbformat": 4,
 "nbformat_minor": 2
}
