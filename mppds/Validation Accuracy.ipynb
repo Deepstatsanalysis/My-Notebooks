{
 "cells": [
  {
   "cell_type": "code",
   "execution_count": 35,
   "metadata": {},
   "outputs": [],
   "source": [
    "import numpy as np\n",
    "import pandas as pd\n",
    "import matplotlib.pyplot as plt\n",
    "import seaborn as sns\n",
    "import math\n",
    "import numpy.random as nr\n",
    "\n",
    "import sklearn.model_selection as ms\n",
    "from sklearn import linear_model\n",
    "from sklearn import preprocessing\n",
    "import sklearn.metrics as sklm\n",
    "from sklearn.metrics import accuracy_score\n",
    "\n",
    "%matplotlib inline"
   ]
  },
  {
   "cell_type": "code",
   "execution_count": 155,
   "metadata": {},
   "outputs": [
    {
     "name": "stdout",
     "output_type": "stream",
     "text": [
      "(100000, 2)\n",
      "   Unnamed: 0    0\n",
      "0           0  1.0\n",
      "1           1  1.0\n",
      "2           2  0.0\n",
      "3           3  1.0\n",
      "4           4  1.0\n",
      "(100000, 2)\n",
      "   Unnamed: 0    0\n",
      "0           0  0.0\n",
      "1           1  0.0\n",
      "2           2  0.0\n",
      "3           3  0.0\n",
      "4           4  1.0\n"
     ]
    }
   ],
   "source": [
    "# val_pred = pd.read_csv('validation-scores/val-scores.csv')\n",
    "\n",
    "# using 4th submission val prediction\n",
    "# val_pred = pd.read_csv('predictions/pred1.csv')\n",
    "val_pred = pd.read_csv('validation-scores/val-scores-new-catboost-10.csv')\n",
    "y_test = pd.read_csv(\"preped/y_test_new_catboost-10.csv\")\n",
    "\n",
    "print(val_pred.shape)\n",
    "print(val_pred.head())\n",
    "\n",
    "print(y_test.shape)\n",
    "print(y_test.head())"
   ]
  },
  {
   "cell_type": "code",
   "execution_count": 156,
   "metadata": {},
   "outputs": [
    {
     "name": "stdout",
     "output_type": "stream",
     "text": [
      "     0\n",
      "0  1.0\n",
      "1  1.0\n",
      "2  0.0\n",
      "3  1.0\n",
      "4  1.0\n",
      "     0\n",
      "0  0.0\n",
      "1  0.0\n",
      "2  0.0\n",
      "3  0.0\n",
      "4  1.0\n"
     ]
    }
   ],
   "source": [
    "val_pred.drop(\"Unnamed: 0\",axis=1,inplace=True)\n",
    "print(val_pred.head())\n",
    "\n",
    "y_test.drop(\"Unnamed: 0\",axis=1,inplace=True)\n",
    "print(y_test.head())"
   ]
  },
  {
   "cell_type": "code",
   "execution_count": 157,
   "metadata": {},
   "outputs": [],
   "source": [
    "val_predictions = np.array(val_pred)\n",
    "y_validations = np.array(y_test)"
   ]
  },
  {
   "cell_type": "code",
   "execution_count": 158,
   "metadata": {},
   "outputs": [
    {
     "name": "stdout",
     "output_type": "stream",
     "text": [
      "Simple model validation accuracy: 0.696\n",
      "\n"
     ]
    }
   ],
   "source": [
    "print('Simple model validation accuracy: {:.4}'.format(\n",
    "    accuracy_score(y_validations, val_predictions)\n",
    "))\n",
    "print('')"
   ]
  },
  {
   "cell_type": "code",
   "execution_count": 159,
   "metadata": {},
   "outputs": [
    {
     "name": "stdout",
     "output_type": "stream",
     "text": [
      "                 Confusion matrix\n",
      "                 Score positive    Score negative\n",
      "Actual positive     31051             19007\n",
      "Actual negative     11396             38546\n",
      "\n",
      "Accuracy  0.70\n",
      " \n",
      "           Positive      Negative\n",
      "Num case    50058         49942\n",
      "Precision    0.73          0.67\n",
      "Recall       0.62          0.77\n",
      "F1           0.67          0.72\n"
     ]
    }
   ],
   "source": [
    "def print_metrics(labels, scores):\n",
    "    metrics = sklm.precision_recall_fscore_support(labels, scores)\n",
    "    conf = sklm.confusion_matrix(labels, scores)\n",
    "    print('                 Confusion matrix')\n",
    "    print('                 Score positive    Score negative')\n",
    "    print('Actual positive    %6d' % conf[0,0] + '             %5d' % conf[0,1])\n",
    "    print('Actual negative    %6d' % conf[1,0] + '             %5d' % conf[1,1])\n",
    "    print('')\n",
    "    print('Accuracy  %0.2f' % sklm.accuracy_score(labels, scores))\n",
    "    print(' ')\n",
    "    print('           Positive      Negative')\n",
    "    print('Num case   %6d' % metrics[3][0] + '        %6d' % metrics[3][1])\n",
    "    print('Precision  %6.2f' % metrics[0][0] + '        %6.2f' % metrics[0][1])\n",
    "    print('Recall     %6.2f' % metrics[1][0] + '        %6.2f' % metrics[1][1])\n",
    "    print('F1         %6.2f' % metrics[2][0] + '        %6.2f' % metrics[2][1])\n",
    "\n",
    "\n",
    "    \n",
    "print_metrics(y_validations, val_predictions)    "
   ]
  },
  {
   "cell_type": "code",
   "execution_count": null,
   "metadata": {},
   "outputs": [],
   "source": []
  }
 ],
 "metadata": {
  "kernelspec": {
   "display_name": "Python 3",
   "language": "python",
   "name": "python3"
  },
  "language_info": {
   "codemirror_mode": {
    "name": "ipython",
    "version": 3
   },
   "file_extension": ".py",
   "mimetype": "text/x-python",
   "name": "python",
   "nbconvert_exporter": "python",
   "pygments_lexer": "ipython3",
   "version": "3.6.5"
  }
 },
 "nbformat": 4,
 "nbformat_minor": 2
}
