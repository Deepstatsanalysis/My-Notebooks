{
 "cells": [
  {
   "cell_type": "code",
   "execution_count": 5,
   "metadata": {},
   "outputs": [
    {
     "name": "stdout",
     "output_type": "stream",
     "text": [
      "21\n"
     ]
    }
   ],
   "source": [
    "def tri_recursion(k):\n",
    "    if k > 0:\n",
    "        result = k+tri_recursion(k-1)\n",
    "#         print(result)\n",
    "    else:\n",
    "        result = 0\n",
    "    return result\n",
    "\n",
    "print(tri_recursion(6))"
   ]
  },
  {
   "cell_type": "code",
   "execution_count": 7,
   "metadata": {},
   "outputs": [
    {
     "data": {
      "text/plain": [
       "3628800"
      ]
     },
     "execution_count": 7,
     "metadata": {},
     "output_type": "execute_result"
    }
   ],
   "source": [
    "def factorial(num):\n",
    "    if num > 1:\n",
    "        result = num * factorial(num - 1)\n",
    "    else:\n",
    "        return num\n",
    "    return result\n",
    "\n",
    "factorial(10)"
   ]
  },
  {
   "cell_type": "code",
   "execution_count": 7,
   "metadata": {},
   "outputs": [
    {
     "name": "stdout",
     "output_type": "stream",
     "text": [
      "<_sre.SRE_Match object; span=(0, 1), match='i'>\n"
     ]
    }
   ],
   "source": [
    "from bs4 import BeautifulSoup\n",
    "import re\n",
    "\n",
    "regex = re.compile('\\w+')\n",
    "\n",
    "print(regex.match('i was once a lad'))"
   ]
  },
  {
   "cell_type": "code",
   "execution_count": 4,
   "metadata": {},
   "outputs": [],
   "source": [
    "def partition(arr, first, last):\n",
    "    \n",
    "    pivot_value = arr[first]\n",
    "    leftmark = first\n",
    "    rightmark = last\n",
    "    \n",
    "    done = False\n",
    "    \n",
    "    while not done:\n",
    "        while leftmark <= rightmark and arr[leftmark] <= pivot_value:\n",
    "            leftmark += 1\n",
    "        \n",
    "        while arr[rightmark] >= pivot_value and rightmark >= leftmark:\n",
    "            rightmark -= 1\n",
    "\n",
    "        if rightmark < leftmark:\n",
    "            done = True\n",
    "            \n",
    "        else:\n",
    "            temp = arr[rightmark]\n",
    "            arr[rightmark] = arr[leftmark]\n",
    "            arr[leftmark] = temp\n",
    "            \n",
    "    temp = arr[first]\n",
    "    arr[first] = arr[rightmark]\n",
    "    arr[rightmark] = temp\n",
    "    \n",
    "    return rightmark\n",
    "\n",
    "\n",
    "def quick_sort_helper(arr, first, last):\n",
    "    if first < last:\n",
    "        split_point = partition(arr, first, last)\n",
    "        \n",
    "        quick_sort_helper(arr, first, split_point-1)\n",
    "        quick_sort_helper(arr, split_point+1, last)\n",
    "\n",
    "        \n",
    "def quick_sort(arr):\n",
    "    if len(arr) < 2:\n",
    "        return arr\n",
    "    \n",
    "    quick_sort_helper(arr, 0, len(arr)-1)\n",
    "        "
   ]
  },
  {
   "cell_type": "code",
   "execution_count": 5,
   "metadata": {},
   "outputs": [
    {
     "name": "stdout",
     "output_type": "stream",
     "text": [
      "[0, 0, 1, 2, 3, 3, 5, 7, 9, 9, 9, 12, 12, 23, 34, 54, 88, 90, 123]\n"
     ]
    }
   ],
   "source": [
    "Arr = [9,2,0,1,7,3,9,88,34,23,12,90,12,54,9,123,0,3,5]\n",
    "quick_sort(Arr)\n",
    "print(Arr)"
   ]
  },
  {
   "cell_type": "code",
   "execution_count": 1,
   "metadata": {},
   "outputs": [],
   "source": [
    "def insertion_sort(arr):\n",
    "    for i in range(1, len(arr)):\n",
    "        current_value = arr[i]\n",
    "        pos = i\n",
    "        \n",
    "        while pos > 0 and arr[pos-1] > current_value:\n",
    "                arr[pos] = arr[pos-1]\n",
    "                pos -= 1\n",
    "                \n",
    "        arr[pos] = current_value\n",
    "        "
   ]
  },
  {
   "cell_type": "code",
   "execution_count": 2,
   "metadata": {},
   "outputs": [
    {
     "name": "stdout",
     "output_type": "stream",
     "text": [
      "[0, 0, 1, 2, 3, 3, 5, 7, 9, 9, 9, 12, 12, 23, 34, 54, 88, 90, 123]\n"
     ]
    }
   ],
   "source": [
    "Arr = [9,2,0,1,7,3,9,88,34,23,12,90,12,54,9,123,0,3,5]\n",
    "insertion_sort(Arr)\n",
    "print(Arr)"
   ]
  },
  {
   "cell_type": "code",
   "execution_count": 3,
   "metadata": {},
   "outputs": [],
   "source": [
    "def merge(A, L, R):\n",
    "    i=0\n",
    "    j=0\n",
    "    k=0\n",
    "    \n",
    "    while i < len(L) and j < len(R):\n",
    "        if L[i] < R[j]:\n",
    "            A[k] = L[i]\n",
    "            i += 1\n",
    "        else:\n",
    "            A[k] = R[j]\n",
    "            j += 1\n",
    "        k += 1\n",
    "        \n",
    "    while i < len(L):\n",
    "        A[k] = L[i]\n",
    "        i += 1\n",
    "        k += 1\n",
    "        \n",
    "    while j < len(R):\n",
    "        A[k] = R[j]\n",
    "        j += 1\n",
    "        k += 1\n",
    "        \n",
    "def merge_sort(arr):\n",
    "    if len(arr) < 2:\n",
    "        return arr\n",
    "    \n",
    "    mid = int(len(arr)/2)\n",
    "    \n",
    "    LeftArr = arr[:mid]\n",
    "    RightArr = arr[mid:]\n",
    "    \n",
    "    merge_sort(LeftArr)\n",
    "    merge_sort(RightArr)\n",
    "    merge(arr, LeftArr, RightArr)\n",
    "    "
   ]
  },
  {
   "cell_type": "code",
   "execution_count": 4,
   "metadata": {},
   "outputs": [
    {
     "name": "stdout",
     "output_type": "stream",
     "text": [
      "[0, 0, 1, 2, 3, 3, 5, 7, 9, 9, 9, 12, 12, 23, 34, 54, 88, 90, 123]\n"
     ]
    }
   ],
   "source": [
    "Arr = [9,2,0,1,7,3,9,88,34,23,12,90,12,54,9,123,0,3,5]\n",
    "merge_sort(Arr)\n",
    "print(Arr)"
   ]
  },
  {
   "cell_type": "code",
   "execution_count": 12,
   "metadata": {},
   "outputs": [],
   "source": [
    "def myLog(num, base):\n",
    "    if base > num:\n",
    "        return 0\n",
    "    return 1 + myLog(float(num/base), base)\n",
    "\n"
   ]
  },
  {
   "cell_type": "code",
   "execution_count": 13,
   "metadata": {},
   "outputs": [
    {
     "data": {
      "text/plain": [
       "4"
      ]
     },
     "execution_count": 13,
     "metadata": {},
     "output_type": "execute_result"
    }
   ],
   "source": [
    "myLog(16,2)"
   ]
  },
  {
   "cell_type": "code",
   "execution_count": 21,
   "metadata": {},
   "outputs": [],
   "source": [
    "# Using Hash maps (without collections dict) -- Complexity == O(n)\n",
    "def finders(arr1, arr2):\n",
    "    d = {}\n",
    "    for num in arr2:\n",
    "        d[num] = 1 + d.get(num, 0)\n",
    "\n",
    "    for num in arr1:\n",
    "        if num not in d or d[num] is 0:\n",
    "            return num\n",
    "        else:\n",
    "            d[num] -= 1\n",
    "    return -1\n",
    "   "
   ]
  },
  {
   "cell_type": "code",
   "execution_count": 28,
   "metadata": {},
   "outputs": [
    {
     "name": "stdout",
     "output_type": "stream",
     "text": [
      "The missing number from finders() is:  4\n"
     ]
    }
   ],
   "source": [
    "arr1 = [2,1,5,4,6,7,9,0,8,3]\n",
    "arr2 = [2,1,5,6,7,9,8,3,0]\n",
    "\n",
    "print(\"The missing number from finders() is: \", finders(arr1, arr2)) "
   ]
  },
  {
   "cell_type": "code",
   "execution_count": 30,
   "metadata": {},
   "outputs": [
    {
     "name": "stdout",
     "output_type": "stream",
     "text": [
      "The missing number from finders() is:  3\n"
     ]
    }
   ],
   "source": [
    "arr1 = [2,1,5,3,6,7,9,0,8,3]\n",
    "arr2 = [2,1,5,6,7,9,8,3,0]\n",
    "\n",
    "print(\"The missing number from finders() is: \", finders(arr1, arr2))"
   ]
  },
  {
   "cell_type": "code",
   "execution_count": null,
   "metadata": {},
   "outputs": [],
   "source": []
  }
 ],
 "metadata": {
  "kernelspec": {
   "display_name": "Python 3",
   "language": "python",
   "name": "python3"
  },
  "language_info": {
   "codemirror_mode": {
    "name": "ipython",
    "version": 3
   },
   "file_extension": ".py",
   "mimetype": "text/x-python",
   "name": "python",
   "nbconvert_exporter": "python",
   "pygments_lexer": "ipython3",
   "version": "3.6.5"
  }
 },
 "nbformat": 4,
 "nbformat_minor": 2
}
