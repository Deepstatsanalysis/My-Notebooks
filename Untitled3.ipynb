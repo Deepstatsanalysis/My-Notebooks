{
 "cells": [
  {
   "cell_type": "code",
   "execution_count": 2,
   "metadata": {},
   "outputs": [
    {
     "data": {
      "text/plain": [
       "{'message-count': '1',\n",
       " 'messages': [{'to': '2348157120605',\n",
       "   'message-id': '0B000000223BE9CA',\n",
       "   'status': '0',\n",
       "   'remaining-balance': '1.86800000',\n",
       "   'message-price': '0.06600000',\n",
       "   'network': '62150'}]}"
      ]
     },
     "execution_count": 2,
     "metadata": {},
     "output_type": "execute_result"
    }
   ],
   "source": [
    "import nexmo\n",
    "\n",
    "client = nexmo.Client(key=\"629a4bd0\", secret=\"lMIWTz9ZDf8PPRNJ\")\n",
    "\n",
    "client.send_message({\n",
    "    'from': 'Acme Inc',\n",
    "    'to': 2348157120605,\n",
    "    'text': 'A text message sent using the Nexmo SMS API',\n",
    "})"
   ]
  },
  {
   "cell_type": "code",
   "execution_count": null,
   "metadata": {},
   "outputs": [],
   "source": []
  }
 ],
 "metadata": {
  "kernelspec": {
   "display_name": "Python 3",
   "language": "python",
   "name": "python3"
  },
  "language_info": {
   "codemirror_mode": {
    "name": "ipython",
    "version": 3
   },
   "file_extension": ".py",
   "mimetype": "text/x-python",
   "name": "python",
   "nbconvert_exporter": "python",
   "pygments_lexer": "ipython3",
   "version": "3.6.5"
  }
 },
 "nbformat": 4,
 "nbformat_minor": 2
}
